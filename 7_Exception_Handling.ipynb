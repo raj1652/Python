{
  "nbformat": 4,
  "nbformat_minor": 0,
  "metadata": {
    "colab": {
      "provenance": [],
      "authorship_tag": "ABX9TyPlvodHkCTNKbptlkUbeOia",
      "include_colab_link": true
    },
    "kernelspec": {
      "name": "python3",
      "display_name": "Python 3"
    },
    "language_info": {
      "name": "python"
    }
  },
  "cells": [
    {
      "cell_type": "markdown",
      "metadata": {
        "id": "view-in-github",
        "colab_type": "text"
      },
      "source": [
        "<a href=\"https://colab.research.google.com/github/raj1652/Python/blob/main/7_Exception_Handling.ipynb\" target=\"_parent\"><img src=\"https://colab.research.google.com/assets/colab-badge.svg\" alt=\"Open In Colab\"/></a>"
      ]
    },
    {
      "cell_type": "markdown",
      "source": [
        "**Lecture 10 -> Functions**\n",
        "---\n",
        "---\n",
        "#1. Exception Case\n",
        "#2. Exception as msg or arg\n",
        "#3. only try - finally block\n",
        "#4. Exception Handling in Functions\n",
        "#5. assert logic - will activate when condition is false\n",
        "#6. User-Defined Exception\n"
      ],
      "metadata": {
        "id": "bPbL5creDrkb"
      }
    },
    {
      "cell_type": "markdown",
      "source": [
        "##1. Exception Case\n"
      ],
      "metadata": {
        "id": "OQsio_mOEwJC"
      }
    },
    {
      "cell_type": "code",
      "execution_count": null,
      "metadata": {
        "colab": {
          "base_uri": "https://localhost:8080/"
        },
        "id": "mLNni6oRYZNj",
        "outputId": "93e1a403-19f6-4702-ae39-731ed8045cc2"
      },
      "outputs": [
        {
          "output_type": "stream",
          "name": "stdout",
          "text": [
            "Enter i:5\n",
            "Enter j:0\n",
            "Exception raised\n",
            "The End --\n",
            "EOF\n"
          ]
        }
      ],
      "source": [
        "# 1. Exception Case \n",
        " try:\n",
        "  i = int(input(\"Enter i:\")) #wrong i/p\n",
        "  j = int(input(\"Enter j:\"))\n",
        "  k= i/j  # 9/0 div by zero\n",
        "\n",
        "except Exception:\n",
        "  print(\"Exception raised\")\n",
        "\n",
        "else:\n",
        "  print(\"Answer\",k)\n",
        "\n",
        "finally:\n",
        "  print(\"The End --\")\n",
        "\n",
        "print(\"EOF\")"
      ]
    },
    {
      "cell_type": "markdown",
      "source": [
        "##2. Exception as msg or arg\n"
      ],
      "metadata": {
        "id": "jC9Sv1sKE1_i"
      }
    },
    {
      "cell_type": "code",
      "source": [
        "# 2. Exception as msg or arg\n",
        "try:\n",
        "  i = int(input(\"Enter i:\")) #wrong i/p\n",
        "  j = int(input(\"Enter j:\"))\n",
        "  k= i/j  # 9/0 div by zero\n",
        "\n",
        "except Exception as msg:\n",
        "  print(\"Exception raised:\",msg)\n",
        "\n",
        "else:\n",
        "  print(\"Answer\",k)\n",
        "\n",
        "\n",
        "finally:\n",
        "  print(\"The End --\")\n",
        "\n",
        "print(\"EOF\")"
      ],
      "metadata": {
        "colab": {
          "base_uri": "https://localhost:8080/"
        },
        "id": "0EVFqxlAaRSW",
        "outputId": "52e311b0-8ffe-471f-f3a6-4cc37e5c9f43"
      },
      "execution_count": null,
      "outputs": [
        {
          "output_type": "stream",
          "name": "stdout",
          "text": [
            "Enter i:55\n",
            "Enter j:10\n",
            "Answer 5.5\n",
            "The End --\n",
            "EOF\n"
          ]
        }
      ]
    },
    {
      "cell_type": "markdown",
      "source": [
        "##3. only try - finally block\n"
      ],
      "metadata": {
        "id": "RcNzl6aqE6vK"
      }
    },
    {
      "cell_type": "code",
      "source": [
        "# 3. only try - finally block \n",
        "\n",
        "try:\n",
        "  i = int(input(\"Enter i:\")) #wrong i/p\n",
        "  j = int(input(\"Enter j:\"))\n",
        "  k= i/j  # 9/0 div by zero  - 1st Exception\n",
        "  \n",
        "finally:\n",
        "  print(\"Answer\",k)\n",
        "  print(\"The End --\")\n",
        "\n",
        "print(\"EOF\")"
      ],
      "metadata": {
        "colab": {
          "base_uri": "https://localhost:8080/",
          "height": 304
        },
        "id": "VVqd-go7d3Iv",
        "outputId": "981e126c-1094-461e-b955-6018157dd472"
      },
      "execution_count": null,
      "outputs": [
        {
          "output_type": "stream",
          "name": "stdout",
          "text": [
            "Enter i:5\n",
            "Enter j:a\n",
            "Answer 2.5\n",
            "The End --\n"
          ]
        },
        {
          "output_type": "error",
          "ename": "ValueError",
          "evalue": "ignored",
          "traceback": [
            "\u001b[0;31m---------------------------------------------------------------------------\u001b[0m",
            "\u001b[0;31mValueError\u001b[0m                                Traceback (most recent call last)",
            "\u001b[0;32m<ipython-input-20-c497c05d51fb>\u001b[0m in \u001b[0;36m<module>\u001b[0;34m\u001b[0m\n\u001b[1;32m      3\u001b[0m \u001b[0;32mtry\u001b[0m\u001b[0;34m:\u001b[0m\u001b[0;34m\u001b[0m\u001b[0;34m\u001b[0m\u001b[0m\n\u001b[1;32m      4\u001b[0m   \u001b[0mi\u001b[0m \u001b[0;34m=\u001b[0m \u001b[0mint\u001b[0m\u001b[0;34m(\u001b[0m\u001b[0minput\u001b[0m\u001b[0;34m(\u001b[0m\u001b[0;34m\"Enter i:\"\u001b[0m\u001b[0;34m)\u001b[0m\u001b[0;34m)\u001b[0m \u001b[0;31m#wrong i/p\u001b[0m\u001b[0;34m\u001b[0m\u001b[0;34m\u001b[0m\u001b[0m\n\u001b[0;32m----> 5\u001b[0;31m   \u001b[0mj\u001b[0m \u001b[0;34m=\u001b[0m \u001b[0mint\u001b[0m\u001b[0;34m(\u001b[0m\u001b[0minput\u001b[0m\u001b[0;34m(\u001b[0m\u001b[0;34m\"Enter j:\"\u001b[0m\u001b[0;34m)\u001b[0m\u001b[0;34m)\u001b[0m\u001b[0;34m\u001b[0m\u001b[0;34m\u001b[0m\u001b[0m\n\u001b[0m\u001b[1;32m      6\u001b[0m   \u001b[0mk\u001b[0m\u001b[0;34m=\u001b[0m \u001b[0mi\u001b[0m\u001b[0;34m/\u001b[0m\u001b[0mj\u001b[0m  \u001b[0;31m# 9/0 div by zero  - 1st Exception\u001b[0m\u001b[0;34m\u001b[0m\u001b[0;34m\u001b[0m\u001b[0m\n\u001b[1;32m      7\u001b[0m \u001b[0;34m\u001b[0m\u001b[0m\n",
            "\u001b[0;31mValueError\u001b[0m: invalid literal for int() with base 10: 'a'"
          ]
        }
      ]
    },
    {
      "cell_type": "markdown",
      "source": [
        "##4. Exception Handling in Functions"
      ],
      "metadata": {
        "id": "er_IR-SUFBXs"
      }
    },
    {
      "cell_type": "code",
      "source": [
        "# 4. Exception Handling in Functions:\n",
        "\n",
        "def c():\n",
        "  print(\"C called:\")\n",
        "\n",
        "  try:\n",
        "    k=3/0\n",
        "  except Exception as msg:\n",
        "    print(\"Exception raised in c:\",msg)\n",
        "\n",
        "def b():\n",
        "  print(\"B called:\")\n",
        "\n",
        "  try:\n",
        "    c()\n",
        "    pass\n",
        "  except Exception as msg:\n",
        "    print(\"Exception raised in b:\",msg)\n",
        "\n",
        "def a():\n",
        "  print(\"A called:\")\n",
        "\n",
        "  try:\n",
        "    b()\n",
        "    pass\n",
        "  except Exception as msg:\n",
        "    print(\"Exception raised in a:\",msg)\n",
        "\n",
        "print(\"Normal Script---\")\n",
        "a()"
      ],
      "metadata": {
        "colab": {
          "base_uri": "https://localhost:8080/"
        },
        "id": "2umgxFwj7Z0-",
        "outputId": "052948a4-f179-4682-9614-fdef81356384"
      },
      "execution_count": 4,
      "outputs": [
        {
          "output_type": "stream",
          "name": "stdout",
          "text": [
            "Normal Script---\n",
            "A called:\n",
            "B called:\n",
            "C called:\n",
            "Exception raised in c: division by zero\n"
          ]
        }
      ]
    },
    {
      "cell_type": "markdown",
      "source": [
        "##5. assert logic - will activate when condition is false\n"
      ],
      "metadata": {
        "id": "2wbPtF0jFLC8"
      }
    },
    {
      "cell_type": "code",
      "source": [
        "# 5. assert logic - will activate when condition is false\n",
        "\n",
        "def doubler(no):\n",
        "  assert(no>0),\"negative value not accepted !!!\"\n",
        "  print(no*2)\n",
        "\n",
        "doubler(-100)"
      ],
      "metadata": {
        "colab": {
          "base_uri": "https://localhost:8080/",
          "height": 321
        },
        "id": "Mpax3sVhd5dZ",
        "outputId": "b5a76238-b324-4cc9-d0c5-147371288b82"
      },
      "execution_count": null,
      "outputs": [
        {
          "output_type": "error",
          "ename": "AssertionError",
          "evalue": "ignored",
          "traceback": [
            "\u001b[0;31m---------------------------------------------------------------------------\u001b[0m",
            "\u001b[0;31mAssertionError\u001b[0m                            Traceback (most recent call last)",
            "\u001b[0;32m<ipython-input-22-1e3936cc0e72>\u001b[0m in \u001b[0;36m<module>\u001b[0;34m\u001b[0m\n\u001b[1;32m      5\u001b[0m   \u001b[0mprint\u001b[0m\u001b[0;34m(\u001b[0m\u001b[0mno\u001b[0m\u001b[0;34m*\u001b[0m\u001b[0;36m2\u001b[0m\u001b[0;34m)\u001b[0m\u001b[0;34m\u001b[0m\u001b[0;34m\u001b[0m\u001b[0m\n\u001b[1;32m      6\u001b[0m \u001b[0;34m\u001b[0m\u001b[0m\n\u001b[0;32m----> 7\u001b[0;31m \u001b[0mdoubler\u001b[0m\u001b[0;34m(\u001b[0m\u001b[0;34m-\u001b[0m\u001b[0;36m100\u001b[0m\u001b[0;34m)\u001b[0m\u001b[0;34m\u001b[0m\u001b[0;34m\u001b[0m\u001b[0m\n\u001b[0m",
            "\u001b[0;32m<ipython-input-22-1e3936cc0e72>\u001b[0m in \u001b[0;36mdoubler\u001b[0;34m(no)\u001b[0m\n\u001b[1;32m      2\u001b[0m \u001b[0;34m\u001b[0m\u001b[0m\n\u001b[1;32m      3\u001b[0m \u001b[0;32mdef\u001b[0m \u001b[0mdoubler\u001b[0m\u001b[0;34m(\u001b[0m\u001b[0mno\u001b[0m\u001b[0;34m)\u001b[0m\u001b[0;34m:\u001b[0m\u001b[0;34m\u001b[0m\u001b[0;34m\u001b[0m\u001b[0m\n\u001b[0;32m----> 4\u001b[0;31m   \u001b[0;32massert\u001b[0m\u001b[0;34m(\u001b[0m\u001b[0mno\u001b[0m\u001b[0;34m>\u001b[0m\u001b[0;36m0\u001b[0m\u001b[0;34m)\u001b[0m\u001b[0;34m,\u001b[0m\u001b[0;34m\"negative value not accepted !!!\"\u001b[0m\u001b[0;34m\u001b[0m\u001b[0;34m\u001b[0m\u001b[0m\n\u001b[0m\u001b[1;32m      5\u001b[0m   \u001b[0mprint\u001b[0m\u001b[0;34m(\u001b[0m\u001b[0mno\u001b[0m\u001b[0;34m*\u001b[0m\u001b[0;36m2\u001b[0m\u001b[0;34m)\u001b[0m\u001b[0;34m\u001b[0m\u001b[0;34m\u001b[0m\u001b[0m\n\u001b[1;32m      6\u001b[0m \u001b[0;34m\u001b[0m\u001b[0m\n",
            "\u001b[0;31mAssertionError\u001b[0m: negative value not accepted !!!"
          ]
        }
      ]
    },
    {
      "cell_type": "markdown",
      "source": [
        "##6. User-Defined Exception"
      ],
      "metadata": {
        "id": "LIjxvZgsFNyT"
      }
    },
    {
      "cell_type": "code",
      "source": [
        "# 6. User-Defined Exception\n",
        "\n",
        "class RajException(Exception): #inherit Exception Class\n",
        "  def __init__(self,data):#to take error code or message \n",
        "    self.data = data\n",
        "\n",
        "  def __str__(self):#print Error Message\n",
        "    if self.data == 101:\n",
        "      return \"Error is:\"+str(self.data)+\" no valid input\"\n",
        "\n",
        "    elif self.data == 201:\n",
        "      return \"Error is:\"+str(self.data)+\" no valid output\"\n",
        "\n",
        "    else:\n",
        "      return \"Error is:\"+str(self.data)+\" Unknown Error\""
      ],
      "metadata": {
        "id": "mMcfLg3er4rt"
      },
      "execution_count": 6,
      "outputs": []
    },
    {
      "cell_type": "code",
      "source": [
        "try:\n",
        "  n= int(input(\"err:\"))\n",
        "  raise RajException(n)\n",
        "except Exception as arg:\n",
        "  print(arg)"
      ],
      "metadata": {
        "colab": {
          "base_uri": "https://localhost:8080/"
        },
        "id": "KWnY25mpsGVg",
        "outputId": "d72627dd-5a19-428c-db2e-b3defc64eba1"
      },
      "execution_count": 8,
      "outputs": [
        {
          "output_type": "stream",
          "name": "stdout",
          "text": [
            "err:2000001\n",
            "Error is:2000001 Unknown Error\n"
          ]
        }
      ]
    }
  ]
}