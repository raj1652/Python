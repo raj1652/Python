{
  "cells": [
    {
      "cell_type": "markdown",
      "metadata": {
        "id": "view-in-github",
        "colab_type": "text"
      },
      "source": [
        "<a href=\"https://colab.research.google.com/github/raj1652/Python/blob/main/1_Introduction.ipynb\" target=\"_parent\"><img src=\"https://colab.research.google.com/assets/colab-badge.svg\" alt=\"Open In Colab\"/></a>"
      ]
    },
    {
      "cell_type": "markdown",
      "metadata": {
        "id": "U6wO4tIhzfXi"
      },
      "source": [
        "# **Lecture 1 -> Introduction**\n",
        "\n",
        "1. Memory-Management \n",
        "2. Declaration\n",
        "    * Normal \n",
        "    * Chained \n",
        "    * Paired\n",
        "3. type() and id() functions\n"
      ]
    },
    {
      "cell_type": "code",
      "execution_count": null,
      "metadata": {
        "colab": {
          "base_uri": "https://localhost:8080/"
        },
        "id": "6Y_VdS5SZl45",
        "outputId": "9451b83f-5326-4efa-d8f7-af15dce8ac81"
      },
      "outputs": [
        {
          "data": {
            "text/plain": [
              "float"
            ]
          },
          "execution_count": 4,
          "metadata": {},
          "output_type": "execute_result"
        }
      ],
      "source": [
        "a=10.6\n",
        "type(a) #gives datatype "
      ]
    },
    {
      "cell_type": "markdown",
      "metadata": {
        "id": "rQQT1urUaQq7"
      },
      "source": [
        "**Memory-Management**"
      ]
    },
    {
      "cell_type": "code",
      "execution_count": null,
      "metadata": {
        "id": "U-nqNccJaVZE"
      },
      "outputs": [],
      "source": [
        "a=10\n",
        "b=20\n",
        "c=25\n",
        "d=20.3\n"
      ]
    },
    {
      "cell_type": "code",
      "execution_count": null,
      "metadata": {
        "colab": {
          "base_uri": "https://localhost:8080/"
        },
        "id": "nP4jOOpwavpb",
        "outputId": "49c1a0ca-0664-4e30-86e3-95f72aec66c9"
      },
      "outputs": [
        {
          "data": {
            "text/plain": [
              "11256352"
            ]
          },
          "execution_count": 5,
          "metadata": {},
          "output_type": "execute_result"
        }
      ],
      "source": [
        "id(a)\n"
      ]
    },
    {
      "cell_type": "code",
      "execution_count": null,
      "metadata": {
        "colab": {
          "base_uri": "https://localhost:8080/"
        },
        "id": "R6VkYL5bbRaG",
        "outputId": "49c2737e-d014-4620-dd4e-2f8a7aff2a18"
      },
      "outputs": [
        {
          "data": {
            "text/plain": [
              "11256672"
            ]
          },
          "execution_count": 6,
          "metadata": {},
          "output_type": "execute_result"
        }
      ],
      "source": [
        "id(b)"
      ]
    },
    {
      "cell_type": "markdown",
      "metadata": {
        "id": "AgVETppmyUlt"
      },
      "source": [
        "# **Lecture 2 -> OPERATORS**\n",
        "\n",
        "1. Arithmetic operators\n",
        "2. Assignment operators\n",
        "3. Comparison operators\n",
        "4. Logical operators\n",
        "5. Bitwise operators \n",
        "6. Identity operators\n",
        "7. Membership operators \n",
        "\n",
        "\n",
        "\n",
        "\n"
      ]
    },
    {
      "cell_type": "markdown",
      "metadata": {
        "id": "CZbUvJlox6Fz"
      },
      "source": [
        "**Arithmetic operators**"
      ]
    },
    {
      "cell_type": "code",
      "execution_count": null,
      "metadata": {
        "colab": {
          "base_uri": "https://localhost:8080/"
        },
        "id": "xTLCr_oZwCjF",
        "outputId": "bcce38dd-94a2-4edb-911f-3165668c3557"
      },
      "outputs": [
        {
          "data": {
            "text/plain": [
              "17.769336928223957"
            ]
          },
          "execution_count": 7,
          "metadata": {},
          "output_type": "execute_result"
        }
      ],
      "source": [
        "121**0.6"
      ]
    },
    {
      "cell_type": "code",
      "execution_count": null,
      "metadata": {
        "colab": {
          "base_uri": "https://localhost:8080/"
        },
        "id": "cTLQhj6iwR59",
        "outputId": "459329c2-0332-4343-e2f9-0629bb676446"
      },
      "outputs": [
        {
          "data": {
            "text/plain": [
              "3.5"
            ]
          },
          "execution_count": 8,
          "metadata": {},
          "output_type": "execute_result"
        }
      ],
      "source": [
        "3.5%27.888889\n"
      ]
    },
    {
      "cell_type": "markdown",
      "metadata": {
        "id": "FeF1XiZhx_Wr"
      },
      "source": [
        "**Precedence of Operators**"
      ]
    },
    {
      "cell_type": "code",
      "execution_count": null,
      "metadata": {
        "colab": {
          "base_uri": "https://localhost:8080/"
        },
        "id": "6WMgQQmtzC2W",
        "outputId": "106e8641-0036-44b3-e20f-8124bf53e089"
      },
      "outputs": [
        {
          "data": {
            "text/plain": [
              "-8.6"
            ]
          },
          "execution_count": 9,
          "metadata": {},
          "output_type": "execute_result"
        }
      ],
      "source": [
        "10-3/5-3*6"
      ]
    },
    {
      "cell_type": "code",
      "execution_count": null,
      "metadata": {
        "colab": {
          "base_uri": "https://localhost:8080/"
        },
        "id": "zMIMcq8PzPZ9",
        "outputId": "23a450d0-7cfb-4baf-c31e-b48bc11126ab"
      },
      "outputs": [
        {
          "data": {
            "text/plain": [
              "-0.6"
            ]
          },
          "execution_count": 10,
          "metadata": {},
          "output_type": "execute_result"
        }
      ],
      "source": [
        "-3/5"
      ]
    },
    {
      "cell_type": "code",
      "execution_count": null,
      "metadata": {
        "colab": {
          "base_uri": "https://localhost:8080/"
        },
        "id": "esYmzlno2zwR",
        "outputId": "cee57204-5fe0-466c-c3c5-29c4c9bfa3ae"
      },
      "outputs": [
        {
          "data": {
            "text/plain": [
              "1.25"
            ]
          },
          "execution_count": 11,
          "metadata": {},
          "output_type": "execute_result"
        }
      ],
      "source": [
        "2.75%1.5"
      ]
    },
    {
      "cell_type": "code",
      "execution_count": null,
      "metadata": {
        "colab": {
          "base_uri": "https://localhost:8080/"
        },
        "id": "EtS4KpRB3hqn",
        "outputId": "255b04e7-50a5-4bb1-a7f6-afafbc7b1f7b"
      },
      "outputs": [
        {
          "data": {
            "text/plain": [
              "0.75"
            ]
          },
          "execution_count": 12,
          "metadata": {},
          "output_type": "execute_result"
        }
      ],
      "source": [
        "3.25%1.25"
      ]
    },
    {
      "cell_type": "markdown",
      "metadata": {
        "id": "GqYg8DQEyMxD"
      },
      "source": [
        "Bitwise **operators**"
      ]
    },
    {
      "cell_type": "code",
      "execution_count": null,
      "metadata": {
        "colab": {
          "base_uri": "https://localhost:8080/"
        },
        "id": "8e83YVHe-VQN",
        "outputId": "619a3cf4-0bb1-4d26-8dfc-9d6fb0dd6ade"
      },
      "outputs": [
        {
          "name": "stdout",
          "output_type": "stream",
          "text": [
            "10\n"
          ]
        }
      ],
      "source": [
        "x=10\n",
        "x>>2\n",
        "print(x)"
      ]
    },
    {
      "cell_type": "markdown",
      "metadata": {
        "id": "2k96egke_gMs"
      },
      "source": []
    },
    {
      "cell_type": "code",
      "execution_count": null,
      "metadata": {
        "colab": {
          "base_uri": "https://localhost:8080/"
        },
        "id": "VQe8f8Fl_Z6Q",
        "outputId": "caca9994-904f-41b8-b033-a800baff117a"
      },
      "outputs": [
        {
          "data": {
            "text/plain": [
              "-138"
            ]
          },
          "execution_count": 14,
          "metadata": {},
          "output_type": "execute_result"
        }
      ],
      "source": [
        "~137\n"
      ]
    },
    {
      "cell_type": "code",
      "execution_count": null,
      "metadata": {
        "colab": {
          "base_uri": "https://localhost:8080/"
        },
        "id": "bIqnF3cdDaT8",
        "outputId": "b69e64cf-311a-4d26-e91f-664ec5f30ff8"
      },
      "outputs": [
        {
          "data": {
            "text/plain": [
              "1952"
            ]
          },
          "execution_count": 15,
          "metadata": {},
          "output_type": "execute_result"
        }
      ],
      "source": [
        "2+3**5*2<<2"
      ]
    },
    {
      "cell_type": "markdown",
      "metadata": {
        "id": "RqwK0FrEvFvL"
      },
      "source": [
        "**Convert INR to USD**"
      ]
    },
    {
      "cell_type": "code",
      "execution_count": null,
      "metadata": {
        "colab": {
          "base_uri": "https://localhost:8080/"
        },
        "id": "gHXqhKT8FkjE",
        "outputId": "72c7e667-bed3-4a06-9b4e-de3f5ff6b141"
      },
      "outputs": [
        {
          "name": "stdout",
          "output_type": "stream",
          "text": [
            "Enter amount in INR:55\n",
            "Amount in USD is 0.7051282051282052\n"
          ]
        }
      ],
      "source": [
        "print(\"Amount in USD is\",float(input(\"Enter amount in INR:\"))/78) "
      ]
    },
    {
      "cell_type": "markdown",
      "metadata": {
        "id": "aG9AkBm6vQ1F"
      },
      "source": [
        "**Find Percentage %**"
      ]
    },
    {
      "cell_type": "code",
      "execution_count": null,
      "metadata": {
        "colab": {
          "base_uri": "https://localhost:8080/"
        },
        "id": "quFhwf24IBH0",
        "outputId": "2900953c-18a9-45c0-e86b-8371cca9cf87"
      },
      "outputs": [
        {
          "name": "stdout",
          "output_type": "stream",
          "text": [
            "Enter your score:65\n",
            "Enter grand total:650\n",
            "Percentage is 10.0\n"
          ]
        }
      ],
      "source": [
        "total = int(input(\"Enter your score:\"))\n",
        "gtot = int(input(\"Enter grand total:\"))\n",
        "print(\"Percentage is\",(total/gtot)*100)\n",
        "\n"
      ]
    },
    {
      "cell_type": "markdown",
      "metadata": {
        "id": "by7cDF86mWpx"
      },
      "source": [
        "**Find Percentage**"
      ]
    },
    {
      "cell_type": "code",
      "execution_count": null,
      "metadata": {
        "colab": {
          "base_uri": "https://localhost:8080/"
        },
        "id": "p5aTrELQJCrF",
        "outputId": "861739a3-b7a1-411d-f16f-40bb55fee168"
      },
      "outputs": [
        {
          "name": "stdout",
          "output_type": "stream",
          "text": [
            "Enter your score50\n",
            "Enter grand total120\n",
            "Percentage is 41.66666666666667\n"
          ]
        }
      ],
      "source": [
        "\n",
        "print(\"Percentage is\",(int(input(\"Enter your score:\"))/int(input(\"Enter grand total:\")))*100)"
      ]
    },
    {
      "cell_type": "markdown",
      "metadata": {
        "id": "1zQLc75MmPlD"
      },
      "source": [
        "**Convert Celsius to Fahrenheit.**"
      ]
    },
    {
      "cell_type": "code",
      "execution_count": null,
      "metadata": {
        "colab": {
          "base_uri": "https://localhost:8080/"
        },
        "id": "b4SgFzk9JkRt",
        "outputId": "50dd2dfa-5c24-437c-f0ad-dec577677878"
      },
      "outputs": [
        {
          "name": "stdout",
          "output_type": "stream",
          "text": [
            "Reading Temp in Celsius:56\n",
            "Temp in F is 132.8\n"
          ]
        }
      ],
      "source": [
        "cel = float(input(\"Reading Temp in Celsius:\"))\n",
        "print(\"Temp in F is\",(9*cel)/5+32)"
      ]
    },
    {
      "cell_type": "markdown",
      "metadata": {
        "id": "kicvpbkryWWk"
      },
      "source": [
        "**Identity operators**\n",
        "compares memory location of two objects.\n",
        "\n",
        "*   is          True if the operands are identical in location id(x)=id(y) \n",
        "*   is not      True if the operands are not identical id(x) not equal to id(y) **bold text**\n",
        "\n",
        " \n"
      ]
    },
    {
      "cell_type": "code",
      "execution_count": null,
      "metadata": {
        "colab": {
          "base_uri": "https://localhost:8080/"
        },
        "id": "1YrMBOTe0Yn7",
        "outputId": "148397c8-a455-4390-9ab6-55d233ee5b31"
      },
      "outputs": [
        {
          "name": "stdout",
          "output_type": "stream",
          "text": [
            "11256352 11262432 11256352\n",
            "False\n",
            "True\n"
          ]
        }
      ],
      "source": [
        "\n",
        "a = 10\n",
        "b = 200\n",
        "c = 10\n",
        "print(id(a), id(b), id(c))\n",
        "print(a is b)\n",
        "print(a is c)\n"
      ]
    },
    {
      "cell_type": "markdown",
      "metadata": {
        "id": "_KNKmFx1yWl7"
      },
      "source": [
        "**Membership operators**"
      ]
    },
    {
      "cell_type": "code",
      "execution_count": null,
      "metadata": {
        "id": "Ikh0nWLX2aur"
      },
      "outputs": [],
      "source": [
        "\n",
        "# Python program to illustrate membership operator \n",
        "# test for membership in a sequence such as strings , list  or tuples\n",
        "x = 24\n",
        "y = 20\n",
        "list = [10, 20, 30, 40, 50]\n",
        "  \n",
        "if (x not in list):\n",
        "    print(\"x is NOT present in given list\")\n",
        "else:\n",
        "    print(\"x is present in given list\")\n",
        "  \n",
        "if (y in list):\n",
        "    print(\"y is present in given list\")\n",
        "else:\n",
        "    print(\"y is NOT present in given list\")"
      ]
    },
    {
      "cell_type": "markdown",
      "metadata": {
        "id": "ay64-xKorU2D"
      },
      "source": [
        "# **Lecture 3 -> CONTROL STATEMENTS**\n",
        "\n",
        "\n",
        "1.   if\n",
        "2.   if else\n",
        "3.   if elif else\n",
        "\n",
        "\n",
        "\n",
        "\n",
        "\n",
        "\n"
      ]
    },
    {
      "cell_type": "code",
      "execution_count": null,
      "metadata": {
        "colab": {
          "base_uri": "https://localhost:8080/"
        },
        "id": "ANT__S8VrV0m",
        "outputId": "be302a5b-2658-4a6d-98f3-4d498fd0c1cc"
      },
      "outputs": [
        {
          "name": "stdout",
          "output_type": "stream",
          "text": [
            "Enter 1nd No:2\n",
            "Enter 2nd No:20\n",
            "2 is minimum\n"
          ]
        }
      ],
      "source": [
        "# Minimum of 2 no\n",
        "n1 = int(input(\"Enter 1nd No:\"))\n",
        "n2 = int(input(\"Enter 2nd No:\"))\n",
        "if n1>n2:\n",
        "  print(n2,\"is minimum\")\n",
        "else:\n",
        "  print(n1,\"is minimum\")"
      ]
    },
    {
      "cell_type": "code",
      "execution_count": null,
      "metadata": {
        "colab": {
          "base_uri": "https://localhost:8080/"
        },
        "id": "-GwwUPvgtUER",
        "outputId": "0dee7c73-14c9-470d-f7c1-2a8e76cf4b59"
      },
      "outputs": [
        {
          "name": "stdout",
          "output_type": "stream",
          "text": [
            "Enter 1nd No:20\n",
            "20 is even\n"
          ]
        }
      ],
      "source": [
        "# Even or odd\n",
        "n1 = int(input(\"Enter 1nd No:\"))\n",
        "if n1%2==0:\n",
        "  print(n1,\"is even\")\n",
        "else:\n",
        "  print(n1,\"is odd\")"
      ]
    },
    {
      "cell_type": "code",
      "execution_count": null,
      "metadata": {
        "colab": {
          "base_uri": "https://localhost:8080/"
        },
        "id": "O6_juDuetgiW",
        "outputId": "35743e07-8cad-4d60-cdf5-d58f1c39781c"
      },
      "outputs": [
        {
          "name": "stdout",
          "output_type": "stream",
          "text": [
            "Enter 1nd No:35\n",
            "35 is not divisible by 5 and 3\n"
          ]
        }
      ],
      "source": [
        "# Check the no is divisible by 5 and 3 \n",
        "n1 = int(input(\"Enter 1nd No:\"))\n",
        "if n1%5==0 and n1%3==0:\n",
        "  print(n1,\"is divisible by both 5 and 3\")\n",
        "else:\n",
        "  print(n1,\"is not divisible by 5 and 3\")"
      ]
    },
    {
      "cell_type": "code",
      "execution_count": null,
      "metadata": {
        "colab": {
          "base_uri": "https://localhost:8080/"
        },
        "id": "XbZuItCiv9nM",
        "outputId": "44d4499b-56de-4ba4-e5f5-3198e3956b7f"
      },
      "outputs": [
        {
          "name": "stdout",
          "output_type": "stream",
          "text": [
            "Enter year to check for leap year:2022\n",
            "2022 is not leap year\n"
          ]
        }
      ],
      "source": [
        "#Leap Year\n",
        "# year divisible by 4 and not by 100, or divisible by 400\n",
        "ye = int(input(\"Enter year to check for leap year:\"))\n",
        "if (ye%4==0  and  ye%100!=0) or ye%400==0:\n",
        "  print(ye,\"is leap year\")\n",
        "else:\n",
        "  print(ye,\"is not leap year\")"
      ]
    },
    {
      "cell_type": "code",
      "execution_count": null,
      "metadata": {
        "colab": {
          "base_uri": "https://localhost:8080/"
        },
        "id": "WhLmFZm9wFB2",
        "outputId": "bd989cb7-bb71-47d5-9b30-6bb30bec7b4f"
      },
      "outputs": [
        {
          "name": "stdout",
          "output_type": "stream",
          "text": [
            "Enter your score:480\n",
            "96.0 Baapu First Class chee\n"
          ]
        }
      ],
      "source": [
        "# Calculate percentage and class \n",
        "# Take total/500\n",
        "\n",
        "score = int(input(\"Enter your score:\"))\n",
        "per= (score/500)*100\n",
        "\n",
        "if per>=60:\n",
        "  print(per,\"Baapu First Class chee\")\n",
        "elif per<60 and per>=50:\n",
        "    print(per,\"Second Class\")\n",
        "elif per<50 and per>=40:\n",
        "    print(per,\"Third Class\")\n",
        "elif per<40:\n",
        "  print(per,\"Fail\")\n",
        "else:\n",
        "  print(\"Enter valid score\")\n",
        "\n"
      ]
    },
    {
      "cell_type": "code",
      "execution_count": null,
      "metadata": {
        "colab": {
          "base_uri": "https://localhost:8080/"
        },
        "id": "kssCoZRw0NwR",
        "outputId": "6aaed87b-0324-4766-dd7d-1c813513ff54"
      },
      "outputs": [
        {
          "name": "stdout",
          "output_type": "stream",
          "text": [
            "Enter your score:230\n",
            "46.0 Third Class\n"
          ]
        }
      ],
      "source": [
        "\n",
        "score = int(input(\"Enter your score:\"))\n",
        "per= (score/500)*100\n",
        "\n",
        "if per>=60:\n",
        "  print(per,\"Baapu First Class chee\")\n",
        "elif per>=50:\n",
        "  print(per,\"Second Class\")\n",
        "elif per>=40:\n",
        "  print(per,\"Third Class\")\n",
        "else:\n",
        "  print(per,\"Fail\")\n"
      ]
    },
    {
      "cell_type": "code",
      "execution_count": null,
      "metadata": {
        "colab": {
          "base_uri": "https://localhost:8080/"
        },
        "id": "c09JEDEv3OdJ",
        "outputId": "de2e865c-16d6-491c-8403-413581976e0c"
      },
      "outputs": [
        {
          "name": "stdout",
          "output_type": "stream",
          "text": [
            "Enter your score:89\n",
            "46.0 Baapu First Class chee\n"
          ]
        }
      ],
      "source": [
        "# can use trio like    40<per<=50\n",
        "inp = int(input(\"Enter your score:\"))\n",
        "if 40<inp<=50:\n",
        "  print(inp,\"Baapu First Class chee\")"
      ]
    },
    {
      "cell_type": "code",
      "execution_count": null,
      "metadata": {
        "colab": {
          "base_uri": "https://localhost:8080/"
        },
        "id": "o_19nn0O3O_L",
        "outputId": "1617efc9-7ca3-4223-e26a-73db4b0fd416"
      },
      "outputs": [
        {
          "name": "stdout",
          "output_type": "stream",
          "text": [
            "Enter your digit:13\n",
            "Error in choice\n"
          ]
        }
      ],
      "source": [
        "di = int(input(\"Enter your digit:\"))\n",
        "if di==1 or di==6 or di==7:\n",
        "  print(\"J\")\n",
        "elif di==2:\n",
        "  print(\"F\")\n",
        "elif di==3 or di==5:\n",
        "  print(\"M\")\n",
        "elif di==4 or di==8:\n",
        "  print(\"A\")\n",
        "elif di==9:\n",
        "  print(\"S\")\n",
        "elif di==10:\n",
        "  print(\"O\")\n",
        "elif di==11:\n",
        "  print(\"N\")\n",
        "elif di==12:\n",
        "  print(\"D\")\n",
        "else:\n",
        "  print(\"Error in choice\")"
      ]
    },
    {
      "cell_type": "code",
      "execution_count": null,
      "metadata": {
        "colab": {
          "base_uri": "https://localhost:8080/"
        },
        "id": "PuwoEJ1g4RVU",
        "outputId": "d6cf382f-b978-4a59-a661-fcb8626055c5"
      },
      "outputs": [
        {
          "name": "stdout",
          "output_type": "stream",
          "text": [
            "Enter a number:88\n",
            "Enter a number:9\n",
            "Enter a number:2\n",
            "2 9 88\n"
          ]
        }
      ],
      "source": [
        "# print 3 nos in ascending order \n",
        "no1=int(input(\"Enter a number:\"))\n",
        "no2=int(input(\"Enter a number:\"))\n",
        "no3=int(input(\"Enter a number:\"))\n",
        "if no1<no2 and no1<no3: #check for 1st no.\n",
        "    if no2<no3:\n",
        "        print(no1,no2,no3)\n",
        "    else:\n",
        "        print(no1,no3,no2)\n",
        "\n",
        "elif no2<no1 and no2<no3:  #check for 2nd no.\n",
        "    if no1<no3:\n",
        "        print(no2,no1,no3)\n",
        "    else:\n",
        "        print(no2,no3,no1)\n",
        "\n",
        "elif no3<no1 and no3<no2:  #check for 3rd no.\n",
        "    if no1<no2:\n",
        "        print(no3,no1,no2)\n",
        "    else:\n",
        "        print(no3,no2,no1)\n",
        "else:\n",
        "    print(no1,no2,no3,\"all are euqal\")"
      ]
    },
    {
      "cell_type": "markdown",
      "metadata": {
        "id": "GG2Zc8isx21-"
      },
      "source": [
        "# **Lecture 4 -> LOOPS**\n",
        "\n",
        "\n",
        "1.   while\n",
        "2.   for\n",
        "3.   else block with loops\n",
        "4.   Nested Loops"
      ]
    },
    {
      "cell_type": "code",
      "execution_count": null,
      "metadata": {
        "colab": {
          "base_uri": "https://localhost:8080/"
        },
        "id": "rLjY1qCZx4Gu",
        "outputId": "718c16f1-64a1-4545-ff3d-7a0b6e8df4f7"
      },
      "outputs": [
        {
          "name": "stdout",
          "output_type": "stream",
          "text": [
            "10\n",
            "20\n",
            "30\n",
            "40\n",
            "50\n",
            "60\n",
            "70\n",
            "80\n",
            "90\n",
            "100\n",
            "The End\n"
          ]
        }
      ],
      "source": [
        "# It is imp to understand 3 things in loops (start,condition,step)\n",
        "i=10          #start\n",
        "while i<=100: #condition\n",
        "  print(i)\n",
        "  i+=10       #step\n",
        "print(\"The End\")"
      ]
    },
    {
      "cell_type": "code",
      "execution_count": null,
      "metadata": {
        "colab": {
          "base_uri": "https://localhost:8080/"
        },
        "id": "RwUoao7Uy2fv",
        "outputId": "353915e6-0b54-440a-99e3-758548ef35b2"
      },
      "outputs": [
        {
          "name": "stdout",
          "output_type": "stream",
          "text": [
            "10\n",
            "9\n",
            "8\n",
            "7\n",
            "6\n",
            "5\n",
            "4\n",
            "3\n",
            "2\n",
            "1\n",
            "0\n",
            "The End\n"
          ]
        }
      ],
      "source": [
        "i=10          #start\n",
        "while i>=0:   #condition\n",
        "  print(i)\n",
        "  i-=1        #step\n",
        "print(\"The End\")"
      ]
    },
    {
      "cell_type": "code",
      "execution_count": null,
      "metadata": {
        "colab": {
          "base_uri": "https://localhost:8080/"
        },
        "id": "km0tP9YazsBn",
        "outputId": "89afc17a-2a77-4be2-e254-c885b51fda13"
      },
      "outputs": [
        {
          "name": "stdout",
          "output_type": "stream",
          "text": [
            "Enter the limit:10\n",
            "1\n",
            "2\n",
            "3\n",
            "4\n",
            "5\n",
            "6\n",
            "7\n",
            "8\n",
            "9\n",
            "10\n",
            "The End\n"
          ]
        }
      ],
      "source": [
        "n=int(input(\"Enter the limit:\"))\n",
        "i=1         #start\n",
        "while i<=n:   #condition\n",
        "  print(i)\n",
        "  i+=1        #step\n",
        "print(\"The End\")"
      ]
    },
    {
      "cell_type": "code",
      "execution_count": null,
      "metadata": {
        "colab": {
          "base_uri": "https://localhost:8080/"
        },
        "id": "G7_K8ut90Mv3",
        "outputId": "afb67382-76e5-4ddf-a81b-04fc2d9daf38"
      },
      "outputs": [
        {
          "name": "stdout",
          "output_type": "stream",
          "text": [
            "Enter the start:5\n",
            "Enter the limit to end:-10\n",
            "5\n",
            "4\n",
            "3\n",
            "2\n",
            "1\n",
            "0\n",
            "-1\n",
            "-2\n",
            "-3\n",
            "-4\n",
            "-5\n",
            "-6\n",
            "-7\n",
            "-8\n",
            "-9\n",
            "-10\n",
            "The End\n"
          ]
        }
      ],
      "source": [
        "start=int(input(\"Enter the start:\"))\n",
        "n=int(input(\"Enter the limit to end:\"))\n",
        "  \n",
        "if start<n:\n",
        "  while start<=n:\n",
        "    print(start)\n",
        "    start+=1        #step\n",
        "\n",
        "if start>n:\n",
        "  while start>=n:\n",
        "    print(start)\n",
        "    start1-=1        #step\n",
        "print(\"The End\")"
      ]
    },
    {
      "cell_type": "code",
      "execution_count": null,
      "metadata": {
        "colab": {
          "base_uri": "https://localhost:8080/"
        },
        "id": "yNLrdBBZ0f03",
        "outputId": "62a28b5b-de4c-4ad6-a62b-a37d7319a213"
      },
      "outputs": [
        {
          "name": "stdout",
          "output_type": "stream",
          "text": [
            "1\n",
            "2\n",
            "3\n",
            "4\n",
            "6\n",
            "7\n",
            "8\n",
            "9\n",
            "10\n",
            "The End\n"
          ]
        }
      ],
      "source": [
        "# continue \n",
        "\n",
        "i=0          #start\n",
        "while i<10: #condition\n",
        "  i+=1\n",
        "  if i==5:\n",
        "    continue\n",
        "  print(i)\n",
        "         #step\n",
        "\n",
        "print(\"The End\")"
      ]
    },
    {
      "cell_type": "code",
      "execution_count": null,
      "metadata": {
        "colab": {
          "background_save": true,
          "base_uri": "https://localhost:8080/"
        },
        "id": "t9pY_RuI-9Wp",
        "outputId": "b7cea590-c333-40b6-a95a-9323936af1d6"
      },
      "outputs": [
        {
          "name": "stdout",
          "output_type": "stream",
          "text": [
            "0\n",
            "1\n",
            "2\n",
            "3\n",
            "4\n"
          ]
        }
      ],
      "source": [
        "# continue \n",
        "\n",
        "i=0           #start\n",
        "while i<10:   #condition\n",
        "  if i==5:\n",
        "    continue\n",
        "  print(i)\n",
        "  i+=1        #step\n",
        "print(\"The End\")"
      ]
    },
    {
      "cell_type": "code",
      "execution_count": null,
      "metadata": {
        "colab": {
          "base_uri": "https://localhost:8080/"
        },
        "id": "b8HD-Ylu6d3Z",
        "outputId": "fdfa2aef-f73b-40fd-92fe-42dd94edf593"
      },
      "outputs": [
        {
          "name": "stdout",
          "output_type": "stream",
          "text": [
            "1\n",
            "2\n",
            "3\n",
            "4\n",
            "The End\n"
          ]
        }
      ],
      "source": [
        "# break\n",
        "\n",
        "i=0          #start\n",
        "while i<10: #condition\n",
        "  i+=1\n",
        "  if i==5:\n",
        "    break\n",
        "  print(i)\n",
        "         #step\n",
        "\n",
        "print(\"The End\")"
      ]
    },
    {
      "cell_type": "code",
      "execution_count": null,
      "metadata": {
        "colab": {
          "base_uri": "https://localhost:8080/"
        },
        "id": "FlhDCSX96tBh",
        "outputId": "4a473fce-f767-4c1d-f403-f76e8ea8daea"
      },
      "outputs": [
        {
          "name": "stdout",
          "output_type": "stream",
          "text": [
            "Enter the number:23\n",
            "Try Again\n",
            "Enter the number:16\n",
            "Right\n",
            "Game over\n"
          ]
        }
      ],
      "source": [
        "gNo = 16\n",
        "\n",
        "while True:\n",
        "  if gNo == int(input(\"Enter the number:\")):\n",
        "    print(\"Right\")\n",
        "    break\n",
        "  print(\"Try Again\")\n",
        "print(\"Game over\")\n",
        "\n"
      ]
    },
    {
      "cell_type": "code",
      "execution_count": null,
      "metadata": {
        "colab": {
          "base_uri": "https://localhost:8080/"
        },
        "id": "oMiP3njJ8Gh4",
        "outputId": "7fbacbc4-5e41-4aa8-d351-ce501a88ad24"
      },
      "outputs": [
        {
          "name": "stdout",
          "output_type": "stream",
          "text": [
            "Enter the number:15\n",
            "Enter the number:12\n",
            "Enter the number:65\n",
            "Enter the number:0\n",
            "Code by Raj\n",
            "Sum of all no is: 92\n"
          ]
        }
      ],
      "source": [
        "# keep taking number till user enters 0\n",
        "# print sum of all\n",
        "\n",
        "sum=0\n",
        "while True:\n",
        "  num = int(input(\"Enter the number:\"))  \n",
        "  if num==0:\n",
        "    print(\"Code by Raj\")\n",
        "    print(\"Sum of all no is:\",sum)\n",
        "    break\n",
        "  sum+=num"
      ]
    },
    {
      "cell_type": "markdown",
      "metadata": {
        "id": "ktC7zKyZ_EUS"
      },
      "source": [
        "**for loop**"
      ]
    },
    {
      "cell_type": "code",
      "execution_count": null,
      "metadata": {
        "colab": {
          "base_uri": "https://localhost:8080/"
        },
        "id": "dp0fLlKE-SEo",
        "outputId": "61105ea2-b354-4794-ebf0-049e5ff87a2d"
      },
      "outputs": [
        {
          "name": "stdout",
          "output_type": "stream",
          "text": [
            "1\n",
            "2\n",
            "3\n",
            "4\n"
          ]
        }
      ],
      "source": [
        "for i in range(1,5,1):\n",
        "  print(i)"
      ]
    },
    {
      "cell_type": "code",
      "execution_count": null,
      "metadata": {
        "colab": {
          "base_uri": "https://localhost:8080/"
        },
        "id": "qsNICHG9_MLh",
        "outputId": "3f6fbc69-1056-4f89-e1f3-6ce26ae11a80"
      },
      "outputs": [
        {
          "name": "stdout",
          "output_type": "stream",
          "text": [
            "0\n",
            "1\n",
            "2\n",
            "3\n",
            "4\n"
          ]
        }
      ],
      "source": [
        "for i in range(5): #start = 0 , step+=1 by default\n",
        "  print(i)"
      ]
    },
    {
      "cell_type": "code",
      "execution_count": null,
      "metadata": {
        "colab": {
          "base_uri": "https://localhost:8080/"
        },
        "id": "DK7PNweW_rVh",
        "outputId": "9cadcf2c-5ab4-4b66-c731-655c4db955a4"
      },
      "outputs": [
        {
          "name": "stdout",
          "output_type": "stream",
          "text": [
            "1\n",
            "6\n"
          ]
        }
      ],
      "source": [
        "# cannot jump in fraction\n",
        "for i in range(1,10,0.5): \n",
        "  print(i)"
      ]
    },
    {
      "cell_type": "code",
      "execution_count": null,
      "metadata": {
        "colab": {
          "base_uri": "https://localhost:8080/"
        },
        "id": "qbarna36_zmR",
        "outputId": "a0c37d5d-cc25-42f0-e9a0-54b173006175"
      },
      "outputs": [
        {
          "name": "stdout",
          "output_type": "stream",
          "text": [
            "1\n",
            "3\n",
            "5\n",
            "7\n",
            "9\n",
            "11\n",
            "13\n",
            "15\n",
            "17\n",
            "19\n",
            "21\n",
            "---------------\n",
            "10\n",
            "20\n",
            "30\n",
            "40\n",
            "50\n",
            "60\n",
            "70\n",
            "80\n",
            "90\n",
            "100\n",
            "---------------\n",
            "100\n",
            "90\n",
            "80\n",
            "70\n",
            "60\n",
            "50\n",
            "40\n",
            "30\n",
            "20\n",
            "10\n"
          ]
        }
      ],
      "source": [
        "for i in range(1,22,+2):\n",
        "  print(i)\n",
        "print(\"---------------\")\n",
        "for i in range(10,101,10):\n",
        "  print(i)\n",
        "print(\"---------------\")\n",
        "for i in range(100,0,-10):\n",
        "  print(i)\n"
      ]
    },
    {
      "cell_type": "markdown",
      "metadata": {
        "id": "AJor0vqcEcWq"
      },
      "source": [
        "**3. else block with loops**"
      ]
    },
    {
      "cell_type": "code",
      "execution_count": null,
      "metadata": {
        "colab": {
          "base_uri": "https://localhost:8080/"
        },
        "id": "EytzWqmvCUVZ",
        "outputId": "ef219fd6-d364-41b0-b3b7-934ab83194ee"
      },
      "outputs": [
        {
          "name": "stdout",
          "output_type": "stream",
          "text": [
            "1\n",
            "2\n",
            "3\n",
            "4\n",
            "5\n",
            "6\n",
            "7\n",
            "code by raj\n",
            "end---\n"
          ]
        }
      ],
      "source": [
        "i=1\n",
        "while i<=7:\n",
        "  # if i==5:\n",
        "  #   break\n",
        "  print(i)\n",
        "  i+=1\n",
        "else:\n",
        "  print(\"code by raj\")\n",
        "print(\"end---\")"
      ]
    },
    {
      "cell_type": "code",
      "execution_count": null,
      "metadata": {
        "colab": {
          "base_uri": "https://localhost:8080/"
        },
        "id": "MxZvnlfCFBsM",
        "outputId": "9a077ad4-1023-4eab-886c-f595862f037c"
      },
      "outputs": [
        {
          "name": "stdout",
          "output_type": "stream",
          "text": [
            "1\n",
            "2\n",
            "3\n",
            "4\n",
            "end---\n"
          ]
        }
      ],
      "source": [
        "i=1\n",
        "while i<=7:\n",
        "  if i==5:\n",
        "    break\n",
        "  print(i)\n",
        "  i+=1\n",
        "else:\n",
        "  print(\"code by raj\")\n",
        "print(\"end---\")"
      ]
    },
    {
      "cell_type": "markdown",
      "metadata": {
        "id": "pW9vA7aRFW7a"
      },
      "source": [
        "**4.Nested Loops**"
      ]
    },
    {
      "cell_type": "code",
      "execution_count": null,
      "metadata": {
        "colab": {
          "base_uri": "https://localhost:8080/"
        },
        "id": "qSfM0J1cFWDS",
        "outputId": "b5381773-fb8b-4c76-ad2e-2ec203430f7f"
      },
      "outputs": [
        {
          "name": "stdout",
          "output_type": "stream",
          "text": [
            "i=  1   j= 1\n",
            "i=  1   j= 2\n",
            "i=  1   j= 3\n",
            "i=  2   j= 1\n",
            "i=  2   j= 2\n",
            "i=  2   j= 3\n",
            "i=  3   j= 1\n",
            "i=  3   j= 2\n",
            "i=  3   j= 3\n"
          ]
        }
      ],
      "source": [
        "for i in range(1,4,1):\n",
        "  for j in range(1,4,1):\n",
        "    print(\"i= \",i,\"  j=\",j)"
      ]
    },
    {
      "cell_type": "code",
      "execution_count": null,
      "metadata": {
        "colab": {
          "base_uri": "https://localhost:8080/"
        },
        "id": "PNtq4oV8GVqq",
        "outputId": "9722752c-2c75-48c7-d8ef-ce000d804c0f"
      },
      "outputs": [
        {
          "name": "stdout",
          "output_type": "stream",
          "text": [
            "\n",
            "1  \n",
            "2  2  \n",
            "3  3  3  \n",
            "4  4  4  4  \n",
            "5  5  5  5  5  \n"
          ]
        }
      ],
      "source": [
        "# pattern-1\n",
        "for i in range(6):\n",
        "  for j in range(1,i+1,1):\n",
        "    print(j,end=\"  \")#print in current line only \n",
        "  print()"
      ]
    },
    {
      "cell_type": "code",
      "execution_count": null,
      "metadata": {
        "colab": {
          "base_uri": "https://localhost:8080/"
        },
        "id": "v89gSP11HmKy",
        "outputId": "763644fb-a6f5-4d19-c591-3bb271200486"
      },
      "outputs": [
        {
          "name": "stdout",
          "output_type": "stream",
          "text": [
            "\n",
            "1  \n",
            "1  2  \n",
            "1  2  3  \n",
            "1  2  3  4  \n",
            "1  2  3  4  5  \n"
          ]
        }
      ],
      "source": [
        "# pattern-2\n",
        "for i in range(6):\n",
        "  for j in range(1,i+1,1):\n",
        "    print(j,end=\"  \")#print in current line only \n",
        "  print()"
      ]
    },
    {
      "cell_type": "code",
      "execution_count": null,
      "metadata": {
        "colab": {
          "base_uri": "https://localhost:8080/"
        },
        "id": "cAgzmmd8Hwki",
        "outputId": "76e6d131-8ae4-46f7-afa5-4f4d25886f46"
      },
      "outputs": [
        {
          "name": "stdout",
          "output_type": "stream",
          "text": [
            "1  2  3  4  5  \n",
            "1  2  3  4  \n",
            "1  2  3  \n",
            "1  2  \n",
            "1  \n"
          ]
        }
      ],
      "source": [
        "# pattern-3\n",
        "for i in range(5,0,-1):\n",
        "  for j in range(1,i+1,1):\n",
        "    print(j,end=\"  \")#print in current line only \n",
        "  print()"
      ]
    },
    {
      "cell_type": "code",
      "execution_count": null,
      "metadata": {
        "colab": {
          "base_uri": "https://localhost:8080/"
        },
        "id": "mys73y4oIPmU",
        "outputId": "b716f684-1d9f-47fa-c7f3-1fb471307c14"
      },
      "outputs": [
        {
          "name": "stdout",
          "output_type": "stream",
          "text": [
            "5  5  5  5  5  \n",
            "4  4  4  4  \n",
            "3  3  3  \n",
            "2  2  \n",
            "1  \n"
          ]
        }
      ],
      "source": [
        "# pattern-4\n",
        "for i in range(5,0,-1):\n",
        "  for j in range(1,i+1,1):\n",
        "    print(i,end=\"  \")#print in current line only \n",
        "  print()"
      ]
    },
    {
      "cell_type": "code",
      "source": [
        "# Find factorial of a number\n",
        "fact = 1\n",
        "n=int(input(\"Enter n:\"))\n",
        "for i in range(1,n+1):\n",
        "  fact*= i\n",
        "print(\"Factorial of a no is:\",fact)"
      ],
      "metadata": {
        "colab": {
          "base_uri": "https://localhost:8080/"
        },
        "id": "FBGqVFPju1ip",
        "outputId": "0bd83eb8-0b62-42ea-ea8f-42e005060551"
      },
      "execution_count": null,
      "outputs": [
        {
          "output_type": "stream",
          "name": "stdout",
          "text": [
            "Enter n:5\n",
            "Factorial of a no is: 120\n"
          ]
        }
      ]
    },
    {
      "cell_type": "code",
      "source": [
        "# print series 1/2 + 3/4 + 5/6 .... nth term\n",
        "\n",
        "\n",
        "n=int(input(\"Enter n:\"))\n",
        "sum=0\n",
        "k=1\n",
        "for i in range(1,n+1):\n",
        "    print(k,\"/\",(k+1),end=\" \")\n",
        "    sum+=(k/(k+1))\n",
        "    k=k+2\n",
        "    \n",
        "print(\"Sum is:\",sum)"
      ],
      "metadata": {
        "colab": {
          "base_uri": "https://localhost:8080/"
        },
        "id": "ZSMTvUJVwOS0",
        "outputId": "30aec3ae-4052-49f7-be1f-9eaa96c18db2"
      },
      "execution_count": null,
      "outputs": [
        {
          "output_type": "stream",
          "name": "stdout",
          "text": [
            "Enter n term:4\n",
            "1 / 2+ 2 / 3+ 3 / 4+ 4 / 5+ Sum of series: 2.716666666666667\n"
          ]
        }
      ]
    },
    {
      "cell_type": "code",
      "source": [
        "#1/2-3/4+5/6-7/8.....nth term\n",
        "\n",
        "\n",
        "\n",
        "n=int(input(\"Enter n:\"))\n",
        "sum=0\n",
        "k=1\n",
        "p=1\n",
        "for i in range(1,n+1):\n",
        "    print(k,\"/\",(k+1),end=\"  +  \")\n",
        "    sum+= (p*(k/(k+1)))\n",
        "    k=k+2\n",
        "    p*=-1\n",
        "print(\"Sum is:\",sum)"
      ],
      "metadata": {
        "colab": {
          "base_uri": "https://localhost:8080/"
        },
        "id": "pwzd2Sp4zG3A",
        "outputId": "2d120411-4c4f-4e00-ceae-87cb04082fab"
      },
      "execution_count": null,
      "outputs": [
        {
          "output_type": "stream",
          "name": "stdout",
          "text": [
            "Enter n:3\n",
            "1 / 2  +  3 / 4  +  5 / 6  +  Sum is: 0.5833333333333334\n"
          ]
        }
      ]
    },
    {
      "cell_type": "code",
      "source": [
        "# Fibonacci series\n",
        "# 0 1 1 2 3 5 .......nth term\n",
        "\n",
        "n=int(input(\"Enter n:\"))\n",
        "f0,f1=0,1\n",
        "for i in range(0,n):\n",
        "    if i<=1:\n",
        "        print(i,end=\",\")\n",
        "    else:\n",
        "        fn=f0+f1\n",
        "        print(fn,end=\",\")\n",
        "        f0,f1=f1,fn"
      ],
      "metadata": {
        "colab": {
          "base_uri": "https://localhost:8080/"
        },
        "id": "vTAI1kD41th3",
        "outputId": "9c93f24b-5c29-4d59-94a0-8c313acdbda2"
      },
      "execution_count": null,
      "outputs": [
        {
          "output_type": "stream",
          "name": "stdout",
          "text": [
            "Enter n:6\n",
            "0,1,1,2,3,5,"
          ]
        }
      ]
    },
    {
      "cell_type": "code",
      "source": [
        "# check prime no : no divisible by 1 or itself\n",
        "\n",
        "n=int(input(\"Enter no to check for prime:\"))\n",
        "for i in range(2,n):\n",
        "  if n%i==0:\n",
        "    print(n,\"not prime\")\n",
        "    break\n",
        "\n",
        "else:\n",
        "  print(n,\"is a prime no\")"
      ],
      "metadata": {
        "colab": {
          "base_uri": "https://localhost:8080/"
        },
        "id": "WyROXztn3zx-",
        "outputId": "1d303a8d-aa74-4dd9-a2d2-c0fb3c9796d3"
      },
      "execution_count": null,
      "outputs": [
        {
          "output_type": "stream",
          "name": "stdout",
          "text": [
            "Enter no to check for prime:2\n",
            "2 is a prime no\n"
          ]
        }
      ]
    },
    {
      "cell_type": "code",
      "source": [
        "# Digit extraction \n",
        "n=int(input(\"Enter number:\"))\n",
        "while n>0:\n",
        "  digit = n%10\n",
        "  n = n//10\n",
        "  print(\"no:\",n,\"digit:\",digit)\n",
        "\n"
      ],
      "metadata": {
        "colab": {
          "base_uri": "https://localhost:8080/"
        },
        "id": "JIfohvE56eoT",
        "outputId": "9ba40776-cab4-4b81-deff-20f6d38d3bbe"
      },
      "execution_count": null,
      "outputs": [
        {
          "output_type": "stream",
          "name": "stdout",
          "text": [
            "Enter number:123\n",
            "no: 12 digit: 3\n",
            "no: 1 digit: 2\n",
            "no: 0 digit: 1\n"
          ]
        }
      ]
    },
    {
      "cell_type": "code",
      "source": [
        "# armstrong no 153 = 1**3 + \n",
        "\n",
        "# take input from the user\n",
        "num = int(input(\"Enter a number: \"))\n",
        "\n",
        "# initialize sum\n",
        "sum = 0\n",
        "\n",
        "# find the sum of the cube of each digit\n",
        "temp = num\n",
        "while temp > 0:\n",
        "   digit = temp % 10\n",
        "   sum += digit ** 3\n",
        "   temp //= 10\n",
        "\n",
        "# display the result\n",
        "if num == sum:\n",
        "   print(num,\"is an Armstrong number\")\n",
        "else:\n",
        "   print(num,\"is not an Armstrong number\")\n"
      ],
      "metadata": {
        "colab": {
          "base_uri": "https://localhost:8080/"
        },
        "id": "t2edp-_J8GhG",
        "outputId": "b720e78e-7be8-4e69-ece2-b8e31ef48b05"
      },
      "execution_count": null,
      "outputs": [
        {
          "output_type": "stream",
          "name": "stdout",
          "text": [
            "Enter a number: 153\n",
            "153 is an Armstrong number\n"
          ]
        }
      ]
    },
    {
      "cell_type": "code",
      "source": [
        "no=int(input(\"Enter number:\"))\n",
        "rno=0#initial\n",
        "tno=no#temp\n",
        "while no>0:\n",
        "    d=no%10\n",
        "    no=no//10\n",
        "    rno=rno*10+d\n",
        "if tno==rno:\n",
        "    print(tno,\"is plaindrome\")\n",
        "else:\n",
        "    print(tno,\"is not plaindrome\")"
      ],
      "metadata": {
        "colab": {
          "base_uri": "https://localhost:8080/"
        },
        "id": "eKlb5wD0-uPC",
        "outputId": "91f3abfd-a265-429e-fa9f-720356e292c8"
      },
      "execution_count": null,
      "outputs": [
        {
          "output_type": "stream",
          "name": "stdout",
          "text": [
            "Enter number:123\n",
            "123 is not plaindrome\n"
          ]
        }
      ]
    },
    {
      "cell_type": "code",
      "source": [
        "no=int(input(\"Enter number:\"))\n",
        "rno=0#initial\n",
        "tno=no#temp\n",
        "while no>0:\n",
        "    d=no%10\n",
        "    no=no//10\n",
        "    rno=rno*10+d\n",
        "\n",
        "print(rno)"
      ],
      "metadata": {
        "colab": {
          "base_uri": "https://localhost:8080/"
        },
        "id": "1ouVs6zcA-gL",
        "outputId": "0666f1f9-8f45-4b91-c66f-3fb73c56d570"
      },
      "execution_count": null,
      "outputs": [
        {
          "output_type": "stream",
          "name": "stdout",
          "text": [
            "Enter number:569\n",
            "965\n"
          ]
        }
      ]
    }
  ],
  "metadata": {
    "colab": {
      "collapsed_sections": [
        "ay64-xKorU2D"
      ],
      "provenance": [],
      "authorship_tag": "ABX9TyPlXuB7WW8HC2+cfyozZ571",
      "include_colab_link": true
    },
    "kernelspec": {
      "display_name": "Python 3",
      "name": "python3"
    },
    "language_info": {
      "name": "python"
    }
  },
  "nbformat": 4,
  "nbformat_minor": 0
}