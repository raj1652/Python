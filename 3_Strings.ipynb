{
  "nbformat": 4,
  "nbformat_minor": 0,
  "metadata": {
    "colab": {
      "provenance": [],
      "collapsed_sections": [],
      "authorship_tag": "ABX9TyNZLZLfEijpi5HkO9i7vuer",
      "include_colab_link": true
    },
    "kernelspec": {
      "name": "python3",
      "display_name": "Python 3"
    },
    "language_info": {
      "name": "python"
    }
  },
  "cells": [
    {
      "cell_type": "markdown",
      "metadata": {
        "id": "view-in-github",
        "colab_type": "text"
      },
      "source": [
        "<a href=\"https://colab.research.google.com/github/raj1652/Python/blob/main/3_Strings.ipynb\" target=\"_parent\"><img src=\"https://colab.research.google.com/assets/colab-badge.svg\" alt=\"Open In Colab\"/></a>"
      ]
    },
    {
      "cell_type": "markdown",
      "source": [
        "# **Lecture 8 -> STRINGS**\n",
        "1. OPERATORS\n",
        "2. PATTERN PRINTING\n",
        "3. STRING METHODS\n"
      ],
      "metadata": {
        "id": "vqn5uKrG65jp"
      }
    },
    {
      "cell_type": "markdown",
      "source": [
        "**1. OPERATORS**\n",
        "---\n",
        "\n",
        "\n",
        "\n",
        "1. +\n",
        "2. *\n",
        "3. []\n",
        "4. [:]\n",
        "5. in / not in\n",
        "\n",
        "\n"
      ],
      "metadata": {
        "id": "RY9hwgUE-qMX"
      }
    },
    {
      "cell_type": "code",
      "source": [
        "s=\"amar\""
      ],
      "metadata": {
        "id": "8ZTWFtj_I6IW"
      },
      "execution_count": null,
      "outputs": []
    },
    {
      "cell_type": "code",
      "source": [
        "s1=\"panchal\"\n",
        "s2=\"education\""
      ],
      "metadata": {
        "id": "BjNx9ovZIvS2"
      },
      "execution_count": null,
      "outputs": []
    },
    {
      "cell_type": "code",
      "source": [
        "s4=s+s1+\".\"+s2*2"
      ],
      "metadata": {
        "id": "zjM7JxC4IzSd"
      },
      "execution_count": null,
      "outputs": []
    },
    {
      "cell_type": "code",
      "source": [
        "s4"
      ],
      "metadata": {
        "colab": {
          "base_uri": "https://localhost:8080/",
          "height": 42
        },
        "id": "k-KRFXFLI-O-",
        "outputId": "d43457b2-7dbc-4472-bd43-bbab6abbf691"
      },
      "execution_count": null,
      "outputs": [
        {
          "output_type": "execute_result",
          "data": {
            "text/plain": [
              "'amarpanchal.educationeducation'"
            ],
            "application/vnd.google.colaboratory.intrinsic+json": {
              "type": "string"
            }
          },
          "metadata": {},
          "execution_count": 8
        }
      ]
    },
    {
      "cell_type": "code",
      "source": [
        "print(s[0])\n",
        "print(s[-1])\n",
        "print(s[2:])\n",
        "print(s[:2:])"
      ],
      "metadata": {
        "colab": {
          "base_uri": "https://localhost:8080/"
        },
        "id": "tkJMj0v0JEU-",
        "outputId": "ea8869fe-8be4-4d3a-df07-a1872046c52d"
      },
      "execution_count": null,
      "outputs": [
        {
          "output_type": "stream",
          "name": "stdout",
          "text": [
            "a\n",
            "r\n",
            "ar\n",
            "am\n"
          ]
        }
      ]
    },
    {
      "cell_type": "code",
      "source": [
        "s=\"abcdefghijk\"\n",
        "s[3:8]"
      ],
      "metadata": {
        "colab": {
          "base_uri": "https://localhost:8080/",
          "height": 42
        },
        "id": "hP2_oQu_JNiP",
        "outputId": "16feeab2-dc00-4df2-c1f7-baae2ef6843e"
      },
      "execution_count": null,
      "outputs": [
        {
          "output_type": "execute_result",
          "data": {
            "text/plain": [
              "'defgh'"
            ],
            "application/vnd.google.colaboratory.intrinsic+json": {
              "type": "string"
            }
          },
          "metadata": {},
          "execution_count": 10
        }
      ]
    },
    {
      "cell_type": "code",
      "source": [
        "\"amar\" in \"amarendara bahubali\""
      ],
      "metadata": {
        "colab": {
          "base_uri": "https://localhost:8080/"
        },
        "id": "Aw57NLtcJPG-",
        "outputId": "348e5bc8-7ba2-4508-b486-ef9324f190b6"
      },
      "execution_count": null,
      "outputs": [
        {
          "output_type": "execute_result",
          "data": {
            "text/plain": [
              "True"
            ]
          },
          "metadata": {},
          "execution_count": 11
        }
      ]
    },
    {
      "cell_type": "code",
      "source": [
        "# case sensitive\n",
        "\"AMAR\" in \"amarendara bahubali\""
      ],
      "metadata": {
        "colab": {
          "base_uri": "https://localhost:8080/"
        },
        "id": "VMilQ7HgJSUn",
        "outputId": "a77fe73e-d3d0-465e-8c9f-afebb40af87c"
      },
      "execution_count": null,
      "outputs": [
        {
          "output_type": "execute_result",
          "data": {
            "text/plain": [
              "False"
            ]
          },
          "metadata": {},
          "execution_count": 14
        }
      ]
    },
    {
      "cell_type": "markdown",
      "source": [
        "**2. PATTERN PRINTING**\n",
        "---\n",
        "\n",
        "\n"
      ],
      "metadata": {
        "id": "tLW2I2KBJpbW"
      }
    },
    {
      "cell_type": "code",
      "source": [
        "for i in range(1,6):\n",
        "    print(\"X\"*i)"
      ],
      "metadata": {
        "colab": {
          "base_uri": "https://localhost:8080/"
        },
        "id": "iJ5kx0YZ7Wwh",
        "outputId": "a5e2cbf5-d740-44a9-c673-c3ffbe51fcbd"
      },
      "execution_count": null,
      "outputs": [
        {
          "output_type": "stream",
          "name": "stdout",
          "text": [
            "X\n",
            "XX\n",
            "XXX\n",
            "XXXX\n",
            "XXXXX\n"
          ]
        }
      ]
    },
    {
      "cell_type": "code",
      "source": [
        "for i in range(7,0,-2):\n",
        "    print(\"X\"*i)"
      ],
      "metadata": {
        "colab": {
          "base_uri": "https://localhost:8080/"
        },
        "id": "VpwBf3ix9urf",
        "outputId": "e7abb72a-95da-4ad5-8802-29c4816d2b70"
      },
      "execution_count": null,
      "outputs": [
        {
          "output_type": "stream",
          "name": "stdout",
          "text": [
            "XXXXXXX\n",
            "XXXXX\n",
            "XXX\n",
            "X\n"
          ]
        }
      ]
    },
    {
      "cell_type": "code",
      "source": [
        "for i in range(7,0,-2):\n",
        "    print(\"X\"*i)"
      ],
      "metadata": {
        "colab": {
          "base_uri": "https://localhost:8080/"
        },
        "id": "sdmVm45w-U8v",
        "outputId": "5de7f40f-55d9-4988-a508-221d9be2485e"
      },
      "execution_count": null,
      "outputs": [
        {
          "output_type": "stream",
          "name": "stdout",
          "text": [
            "XXXXXXX\n",
            "XXXXX\n",
            "XXX\n",
            "X\n"
          ]
        }
      ]
    },
    {
      "cell_type": "code",
      "source": [
        "word=input(\"Enter a word:\")\n",
        "for i in range(0,len(word)+1):\n",
        "    print(word[:i])"
      ],
      "metadata": {
        "colab": {
          "base_uri": "https://localhost:8080/"
        },
        "id": "HObgODo-_Qc3",
        "outputId": "a3d69edf-cfe5-43f2-ae6f-7f414ebca4d2"
      },
      "execution_count": null,
      "outputs": [
        {
          "output_type": "stream",
          "name": "stdout",
          "text": [
            "Enter a word:python\n",
            "\n",
            "p\n",
            "py\n",
            "pyt\n",
            "pyth\n",
            "pytho\n",
            "python\n"
          ]
        }
      ]
    },
    {
      "cell_type": "code",
      "source": [
        "word=input(\"Enter a word:\")\n",
        "for i in range(len(word),0,-1):\n",
        "    print(word[:i])"
      ],
      "metadata": {
        "colab": {
          "base_uri": "https://localhost:8080/"
        },
        "id": "AlqGf2hxGzp_",
        "outputId": "7199ff78-52d6-426d-8fa9-1b1619c909b1"
      },
      "execution_count": null,
      "outputs": [
        {
          "output_type": "stream",
          "name": "stdout",
          "text": [
            "Enter a word:amar\n",
            "amar\n",
            "ama\n",
            "am\n",
            "a\n"
          ]
        }
      ]
    },
    {
      "cell_type": "code",
      "source": [
        "li=int(input(\"Enter a limit:\"))\n",
        "for i in range(0,li):\n",
        "    print(\" \"*(li-i),\" X\"*i)"
      ],
      "metadata": {
        "colab": {
          "base_uri": "https://localhost:8080/"
        },
        "id": "EQ6P_rGPH7Jf",
        "outputId": "ece99bcc-e8ec-4409-fd54-5662420b13e3"
      },
      "execution_count": null,
      "outputs": [
        {
          "output_type": "stream",
          "name": "stdout",
          "text": [
            "Enter a limit:5\n",
            "      \n",
            "      X\n",
            "     X X\n",
            "    X X X\n",
            "   X X X X\n"
          ]
        }
      ]
    },
    {
      "cell_type": "markdown",
      "source": [
        "**3. STRING METHODS**\n",
        "---\n",
        "\n"
      ],
      "metadata": {
        "id": "hpXja1OLJ26F"
      }
    },
    {
      "cell_type": "code",
      "source": [
        "# 1) capitalize() and title()\n",
        "s=\"tHiS IS iT AnD wIll BE iT\"\n",
        "print(s.capitalize())\n",
        "print(\"\\n-------------------\\n\")\n",
        "print(s.title())\n"
      ],
      "metadata": {
        "colab": {
          "base_uri": "https://localhost:8080/"
        },
        "id": "kPlJek8PJ2i-",
        "outputId": "2376480f-fd1e-4c4d-8588-a9b78957ef15"
      },
      "execution_count": null,
      "outputs": [
        {
          "output_type": "stream",
          "name": "stdout",
          "text": [
            "This is it and will be it\n",
            "\n",
            "-------------------\n",
            "\n",
            "This Is It And Will Be It\n"
          ]
        }
      ]
    },
    {
      "cell_type": "code",
      "source": [
        "# 2) upper() and lower()\n",
        "s=\"tHiS IS iT AnD wIll BE iT\"\n",
        "print(s.upper())\n",
        "print(\"\\n-------------------\\n\")\n",
        "print(s.lower())"
      ],
      "metadata": {
        "colab": {
          "base_uri": "https://localhost:8080/"
        },
        "id": "5R2LujvvMBuM",
        "outputId": "14cc9917-edd5-49d4-acff-d6e5c196f658"
      },
      "execution_count": null,
      "outputs": [
        {
          "output_type": "stream",
          "name": "stdout",
          "text": [
            "THIS IS IT AND WILL BE IT\n",
            "\n",
            "-------------------\n",
            "\n",
            "this is it and will be it\n"
          ]
        }
      ]
    },
    {
      "cell_type": "code",
      "source": [
        "# 3) swapcase()\n",
        "s=\"tHiS IS iT AnD wIll BE iT\"\n",
        "print(s.swapcase())\n"
      ],
      "metadata": {
        "colab": {
          "base_uri": "https://localhost:8080/"
        },
        "id": "suS5zj47MMVD",
        "outputId": "37f8ea13-bfad-49d6-efcf-5de59a16f432"
      },
      "execution_count": null,
      "outputs": [
        {
          "output_type": "stream",
          "name": "stdout",
          "text": [
            "ThIs is It aNd WiLL be It\n"
          ]
        }
      ]
    },
    {
      "cell_type": "code",
      "source": [
        "print(s) #this shows string is immutable."
      ],
      "metadata": {
        "colab": {
          "base_uri": "https://localhost:8080/"
        },
        "id": "MumylRzCMTCv",
        "outputId": "26fefced-3415-4095-f768-541349913f33"
      },
      "execution_count": null,
      "outputs": [
        {
          "output_type": "stream",
          "name": "stdout",
          "text": [
            "tHiS IS iT AnD wIll BE iT\n"
          ]
        }
      ]
    },
    {
      "cell_type": "code",
      "source": [
        "# 4) count()\n",
        "s=\"tHiS IS iT AnD wIll BE iT\"\n",
        "s.count(\"I\")"
      ],
      "metadata": {
        "colab": {
          "base_uri": "https://localhost:8080/"
        },
        "id": "N3UmAwHkMbt_",
        "outputId": "9577352a-c4b2-4dea-b07d-488e21f101f8"
      },
      "execution_count": null,
      "outputs": [
        {
          "output_type": "execute_result",
          "data": {
            "text/plain": [
              "2"
            ]
          },
          "metadata": {},
          "execution_count": 25
        }
      ]
    },
    {
      "cell_type": "code",
      "source": [
        "# 5) find() and index()\n",
        "s=\"tHiS IS iT AnD wIll BE iT\"\n",
        "\n",
        "s.find(\"i\")"
      ],
      "metadata": {
        "colab": {
          "base_uri": "https://localhost:8080/"
        },
        "id": "IVzUzeztMvDI",
        "outputId": "d62bc87c-d781-4645-8a8b-d874da7e18aa"
      },
      "execution_count": null,
      "outputs": [
        {
          "output_type": "execute_result",
          "data": {
            "text/plain": [
              "2"
            ]
          },
          "metadata": {},
          "execution_count": 26
        }
      ]
    },
    {
      "cell_type": "code",
      "source": [
        "s.find(\"Q\") #returns -1 if not found"
      ],
      "metadata": {
        "colab": {
          "base_uri": "https://localhost:8080/"
        },
        "id": "jjYUhr1oM-fN",
        "outputId": "e04357c0-81e8-46a4-fbb6-ef52c67510a4"
      },
      "execution_count": null,
      "outputs": [
        {
          "output_type": "execute_result",
          "data": {
            "text/plain": [
              "-1"
            ]
          },
          "metadata": {},
          "execution_count": 27
        }
      ]
    },
    {
      "cell_type": "code",
      "source": [
        "s.index(\"i\")"
      ],
      "metadata": {
        "colab": {
          "base_uri": "https://localhost:8080/"
        },
        "id": "eC_xBxF-NGtN",
        "outputId": "3ce8f587-e4b0-4a62-e42b-0d34fdd1b15f"
      },
      "execution_count": null,
      "outputs": [
        {
          "output_type": "execute_result",
          "data": {
            "text/plain": [
              "2"
            ]
          },
          "metadata": {},
          "execution_count": 28
        }
      ]
    },
    {
      "cell_type": "code",
      "source": [
        "s.index(\"Q\") #returns error if not found"
      ],
      "metadata": {
        "colab": {
          "base_uri": "https://localhost:8080/",
          "height": 171
        },
        "id": "MMg0ogc3NLlv",
        "outputId": "a60a5882-b619-43fd-8fed-c9ce5460ca20"
      },
      "execution_count": null,
      "outputs": [
        {
          "output_type": "error",
          "ename": "ValueError",
          "evalue": "ignored",
          "traceback": [
            "\u001b[0;31m---------------------------------------------------------------------------\u001b[0m",
            "\u001b[0;31mValueError\u001b[0m                                Traceback (most recent call last)",
            "\u001b[0;32m<ipython-input-29-a91e2f161e8e>\u001b[0m in \u001b[0;36m<module>\u001b[0;34m\u001b[0m\n\u001b[0;32m----> 1\u001b[0;31m \u001b[0ms\u001b[0m\u001b[0;34m.\u001b[0m\u001b[0mindex\u001b[0m\u001b[0;34m(\u001b[0m\u001b[0;34m\"Q\"\u001b[0m\u001b[0;34m)\u001b[0m \u001b[0;31m#returns error if not found\u001b[0m\u001b[0;34m\u001b[0m\u001b[0;34m\u001b[0m\u001b[0m\n\u001b[0m",
            "\u001b[0;31mValueError\u001b[0m: substring not found"
          ]
        }
      ]
    },
    {
      "cell_type": "code",
      "source": [
        "# 6) rfind() and rindex()\n",
        "s.rfind(\"i\")"
      ],
      "metadata": {
        "colab": {
          "base_uri": "https://localhost:8080/"
        },
        "id": "D_zJLu_ONVNV",
        "outputId": "e8f6159e-2fbb-4a0f-8fb7-2f1ccb033c62"
      },
      "execution_count": null,
      "outputs": [
        {
          "output_type": "execute_result",
          "data": {
            "text/plain": [
              "23"
            ]
          },
          "metadata": {},
          "execution_count": 30
        }
      ]
    },
    {
      "cell_type": "code",
      "source": [
        "s.rfind(\"Q\")"
      ],
      "metadata": {
        "colab": {
          "base_uri": "https://localhost:8080/"
        },
        "id": "yNP7KybTNqfH",
        "outputId": "63e0a99c-7774-4917-e33d-6a725f013d09"
      },
      "execution_count": null,
      "outputs": [
        {
          "output_type": "execute_result",
          "data": {
            "text/plain": [
              "-1"
            ]
          },
          "metadata": {},
          "execution_count": 32
        }
      ]
    },
    {
      "cell_type": "code",
      "source": [
        "s.rindex(\"i\")"
      ],
      "metadata": {
        "colab": {
          "base_uri": "https://localhost:8080/"
        },
        "id": "B6onyuWENnKK",
        "outputId": "5219dc83-d6c5-435e-ff3f-d4b9c61775a1"
      },
      "execution_count": null,
      "outputs": [
        {
          "output_type": "execute_result",
          "data": {
            "text/plain": [
              "23"
            ]
          },
          "metadata": {},
          "execution_count": 31
        }
      ]
    },
    {
      "cell_type": "code",
      "source": [
        "s.rindex(\"Q\")"
      ],
      "metadata": {
        "colab": {
          "base_uri": "https://localhost:8080/",
          "height": 171
        },
        "id": "rmFEAKrBNtDz",
        "outputId": "220d1322-e10e-4099-d2c1-5c76633c22fa"
      },
      "execution_count": null,
      "outputs": [
        {
          "output_type": "error",
          "ename": "ValueError",
          "evalue": "ignored",
          "traceback": [
            "\u001b[0;31m---------------------------------------------------------------------------\u001b[0m",
            "\u001b[0;31mValueError\u001b[0m                                Traceback (most recent call last)",
            "\u001b[0;32m<ipython-input-33-21f4b24bdc09>\u001b[0m in \u001b[0;36m<module>\u001b[0;34m\u001b[0m\n\u001b[0;32m----> 1\u001b[0;31m \u001b[0ms\u001b[0m\u001b[0;34m.\u001b[0m\u001b[0mrindex\u001b[0m\u001b[0;34m(\u001b[0m\u001b[0;34m\"Q\"\u001b[0m\u001b[0;34m)\u001b[0m\u001b[0;34m\u001b[0m\u001b[0;34m\u001b[0m\u001b[0m\n\u001b[0m",
            "\u001b[0;31mValueError\u001b[0m: substring not found"
          ]
        }
      ]
    },
    {
      "cell_type": "code",
      "source": [
        "# 7) center() ljust() rjust()\n",
        "st = 'python'\n",
        "st.ljust(10,\"*\")"
      ],
      "metadata": {
        "colab": {
          "base_uri": "https://localhost:8080/",
          "height": 42
        },
        "id": "l_sQGid_N1NF",
        "outputId": "d0571db0-9f23-4367-a2b4-8e628c0fc89b"
      },
      "execution_count": null,
      "outputs": [
        {
          "output_type": "execute_result",
          "data": {
            "text/plain": [
              "'python****'"
            ],
            "application/vnd.google.colaboratory.intrinsic+json": {
              "type": "string"
            }
          },
          "metadata": {},
          "execution_count": 35
        }
      ]
    },
    {
      "cell_type": "code",
      "source": [
        "st.rjust(10,\"*\")"
      ],
      "metadata": {
        "colab": {
          "base_uri": "https://localhost:8080/",
          "height": 42
        },
        "id": "EuS7DetPOKAI",
        "outputId": "5dcb6ef7-8b58-44a1-ec34-97064dde2d54"
      },
      "execution_count": null,
      "outputs": [
        {
          "output_type": "execute_result",
          "data": {
            "text/plain": [
              "'****python'"
            ],
            "application/vnd.google.colaboratory.intrinsic+json": {
              "type": "string"
            }
          },
          "metadata": {},
          "execution_count": 37
        }
      ]
    },
    {
      "cell_type": "code",
      "source": [
        "st.center(10,\"*\")"
      ],
      "metadata": {
        "colab": {
          "base_uri": "https://localhost:8080/",
          "height": 42
        },
        "id": "skB8VGm6OOjr",
        "outputId": "d90b7565-9ced-490a-998e-2c1132af3939"
      },
      "execution_count": null,
      "outputs": [
        {
          "output_type": "execute_result",
          "data": {
            "text/plain": [
              "'**python**'"
            ],
            "application/vnd.google.colaboratory.intrinsic+json": {
              "type": "string"
            }
          },
          "metadata": {},
          "execution_count": 38
        }
      ]
    },
    {
      "cell_type": "code",
      "source": [
        "# 8)  lstrip() rstrip() strip()\n"
      ],
      "metadata": {
        "id": "RWOd4KBBOWpX"
      },
      "execution_count": null,
      "outputs": []
    },
    {
      "cell_type": "code",
      "source": [
        "s=\"amar\"\n",
        "sl=dict(s)\n",
        "print(s,sl)"
      ],
      "metadata": {
        "colab": {
          "base_uri": "https://localhost:8080/",
          "height": 207
        },
        "id": "y74yQJYLJBav",
        "outputId": "bbe279bf-0e43-4e60-dbef-5c0c8bff0af9"
      },
      "execution_count": null,
      "outputs": [
        {
          "output_type": "error",
          "ename": "ValueError",
          "evalue": "ignored",
          "traceback": [
            "\u001b[0;31m---------------------------------------------------------------------------\u001b[0m",
            "\u001b[0;31mValueError\u001b[0m                                Traceback (most recent call last)",
            "\u001b[0;32m<ipython-input-9-5d1994df794d>\u001b[0m in \u001b[0;36m<module>\u001b[0;34m\u001b[0m\n\u001b[1;32m      1\u001b[0m \u001b[0ms\u001b[0m\u001b[0;34m=\u001b[0m\u001b[0;34m\"amar\"\u001b[0m\u001b[0;34m\u001b[0m\u001b[0;34m\u001b[0m\u001b[0m\n\u001b[0;32m----> 2\u001b[0;31m \u001b[0msl\u001b[0m\u001b[0;34m=\u001b[0m\u001b[0mdict\u001b[0m\u001b[0;34m(\u001b[0m\u001b[0ms\u001b[0m\u001b[0;34m)\u001b[0m\u001b[0;34m\u001b[0m\u001b[0;34m\u001b[0m\u001b[0m\n\u001b[0m\u001b[1;32m      3\u001b[0m \u001b[0mprint\u001b[0m\u001b[0;34m(\u001b[0m\u001b[0ms\u001b[0m\u001b[0;34m,\u001b[0m\u001b[0msl\u001b[0m\u001b[0;34m)\u001b[0m\u001b[0;34m\u001b[0m\u001b[0;34m\u001b[0m\u001b[0m\n",
            "\u001b[0;31mValueError\u001b[0m: dictionary update sequence element #0 has length 1; 2 is required"
          ]
        }
      ]
    },
    {
      "cell_type": "code",
      "source": [
        "# 9) split() will convert string to list of words.\n",
        "sw = \"amar panchal is my teacher who teaches me programming .\"\n",
        "wordlist = sw.split()\n",
        "print(wordlist)"
      ],
      "metadata": {
        "colab": {
          "base_uri": "https://localhost:8080/"
        },
        "id": "1HJ8KSkJJuHI",
        "outputId": "d986f569-abc6-44b2-efd6-8ee4b5597fe6"
      },
      "execution_count": null,
      "outputs": [
        {
          "output_type": "stream",
          "name": "stdout",
          "text": [
            "['amar', 'panchal', 'is', 'my', 'teacher', 'who', 'teaches', 'me', 'programming', '.']\n"
          ]
        }
      ]
    },
    {
      "cell_type": "code",
      "source": [
        "# Q1) Reverse a statement\n",
        "sw = \"amar panchal is my teacher who teaches me programming .\"\n",
        "wordlist = sw.split()\n",
        "\n",
        "print(wordlist[::-1])\n",
        "\n",
        "for i in wordlist[::-1]:\n",
        "  print(i,end=\" \")"
      ],
      "metadata": {
        "colab": {
          "base_uri": "https://localhost:8080/"
        },
        "id": "O7U2h5bpKMHf",
        "outputId": "1157ac7a-8d55-4bb5-b223-9a28398f89ce"
      },
      "execution_count": null,
      "outputs": [
        {
          "output_type": "stream",
          "name": "stdout",
          "text": [
            "['.', 'programming', 'me', 'teaches', 'who', 'teacher', 'my', 'is', 'panchal', 'amar']\n",
            ". programming me teaches who teacher my is panchal amar "
          ]
        }
      ]
    },
    {
      "cell_type": "markdown",
      "source": [
        "**Lecture 9 -> Interview Q's on STRINGS**\n",
        "---"
      ],
      "metadata": {
        "id": "qKr60OQBKLXO"
      }
    },
    {
      "cell_type": "markdown",
      "source": [
        "![Screenshot 2022-08-28 123922.jpg](data:image/jpeg;base64,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)"
      ],
      "metadata": {
        "id": "fLUS5sYiSO5N"
      }
    },
    {
      "cell_type": "code",
      "source": [
        "# Q) Count\n",
        "  # words\n",
        "  # alphabets \n",
        "  # digits \n",
        "  # symbols in a string\n",
        "\n",
        "ca=cd=cs = 0\n",
        "s = input(\"Enter a string: \")\n",
        "wc = len(s.split())\n",
        "for i in s:\n",
        "  \n",
        "  if i.isdigit():\n",
        "    cd+=1\n",
        "  \n",
        "  elif i.isalpha():\n",
        "    ca+=1\n",
        "  \n",
        "  elif not i.isspace():\n",
        "    cs+=1\n",
        "\n",
        "print(\"words:\",wc,\"\\n\",\"digits:\",cd,\"\\n\",\"alphabets:\",ca,\"\\n\",\"Symbols:\",cs)"
      ],
      "metadata": {
        "colab": {
          "base_uri": "https://localhost:8080/"
        },
        "id": "yiFE2j90NQvw",
        "outputId": "2d041c51-3a4f-4ddf-a457-a1644560da2b"
      },
      "execution_count": null,
      "outputs": [
        {
          "output_type": "stream",
          "name": "stdout",
          "text": [
            "Enter a string: thiswd 123kl $%%\n",
            "words: 3 \n",
            " digits: 3 \n",
            " alphabets: 8 \n",
            " Symbols: 3\n"
          ]
        }
      ]
    },
    {
      "cell_type": "code",
      "source": [
        "# Q1) Reverse a string\n",
        "\n",
        "s = input(\"Enter a string: \")\n",
        "print(s[::-1]) #temporary way"
      ],
      "metadata": {
        "colab": {
          "base_uri": "https://localhost:8080/"
        },
        "id": "fl1rdZ4GKdwK",
        "outputId": "80059892-434d-4101-db72-525f4cbabb20"
      },
      "execution_count": null,
      "outputs": [
        {
          "output_type": "stream",
          "name": "stdout",
          "text": [
            "Enter a string: raj\n",
            "jar\n"
          ]
        }
      ]
    },
    {
      "cell_type": "code",
      "source": [
        "sr = s[::-1]\n",
        "print(sr)"
      ],
      "metadata": {
        "colab": {
          "base_uri": "https://localhost:8080/"
        },
        "id": "Y5zJISeKS6hU",
        "outputId": "0d2dbcca-31d2-41d2-f71c-096f9fefa2c4"
      },
      "execution_count": null,
      "outputs": [
        {
          "output_type": "stream",
          "name": "stdout",
          "text": [
            "jar\n"
          ]
        }
      ]
    },
    {
      "cell_type": "code",
      "source": [
        "# Q2) Check palindrome\n",
        "s = input(\"Enter a string: \")\n",
        "if s == s[::-1]:\n",
        "  print(\"Is palindrome\")\n",
        "else:\n",
        "  print(\"Not palindrome\")"
      ],
      "metadata": {
        "colab": {
          "base_uri": "https://localhost:8080/"
        },
        "id": "KzFgWN9fTVE9",
        "outputId": "fa7e4c59-7cbb-48ea-cccf-a22abe830f6d"
      },
      "execution_count": null,
      "outputs": [
        {
          "output_type": "stream",
          "name": "stdout",
          "text": [
            "Enter a string: nitin ama\n",
            "Not palindrome\n"
          ]
        }
      ]
    },
    {
      "cell_type": "code",
      "source": [
        "# Q3) Reverse string word by word \n",
        "# this is it \n",
        "# it is this\n",
        "\n",
        "sw = input(\"Enter a string: \")\n",
        "wordlist = sw.split()\n",
        "\n",
        "# print(wordlist[::-1])\n",
        "\n",
        "for i in wordlist[::-1]:\n",
        "  print(i,end=\" \")"
      ],
      "metadata": {
        "id": "RM-AybfDUNo8",
        "colab": {
          "base_uri": "https://localhost:8080/"
        },
        "outputId": "76719306-447d-49a4-9d01-e0e72aacd75b"
      },
      "execution_count": null,
      "outputs": [
        {
          "output_type": "stream",
          "name": "stdout",
          "text": [
            "Enter a string: this is it\n",
            "it is this "
          ]
        }
      ]
    },
    {
      "cell_type": "code",
      "source": [
        "# Q) Find count of words in minimum no of lines\n",
        "s = input(\"Enter a string: \")\n",
        "lis = len(s.split())\n",
        "print(lis)"
      ],
      "metadata": {
        "colab": {
          "base_uri": "https://localhost:8080/"
        },
        "id": "yNoZEGt0VoLu",
        "outputId": "1bfecf1a-9881-4b3a-a259-031466a3a352"
      },
      "execution_count": null,
      "outputs": [
        {
          "output_type": "stream",
          "name": "stdout",
          "text": [
            "Enter a string: amar is here\n",
            "3\n"
          ]
        }
      ]
    },
    {
      "cell_type": "code",
      "source": [
        "# Q4) count freq of characters \n",
        "s = input(\"Enter a string: \")   #take a string as input\n",
        "st = list(s)                    #convert to character list\n",
        "print(st)\n",
        "for i in set(st):               #take unique characters\n",
        "  print(i,st.count(i))          #count freq of each"
      ],
      "metadata": {
        "colab": {
          "base_uri": "https://localhost:8080/"
        },
        "id": "Xlza57tbW4O3",
        "outputId": "9b88ef57-c423-4ad4-9b5f-c9f4a357131b"
      },
      "execution_count": null,
      "outputs": [
        {
          "output_type": "stream",
          "name": "stdout",
          "text": [
            "Enter a string: amar is here for amar\n",
            "['a', 'm', 'a', 'r', ' ', 'i', 's', ' ', 'h', 'e', 'r', 'e', ' ', 'f', 'o', 'r', ' ', 'a', 'm', 'a', 'r']\n",
            "h 1\n",
            "m 2\n",
            "e 2\n",
            "  4\n",
            "a 4\n",
            "f 1\n",
            "o 1\n",
            "r 4\n",
            "i 1\n",
            "s 1\n"
          ]
        }
      ]
    },
    {
      "cell_type": "code",
      "source": [
        "# Q4) count freq of characters \n",
        "s = input(\"Enter a string: \")   #take a string as input\n",
        "uset = set(list(s))                    #convert to character list\n",
        "for i in uset:               #take unique characters\n",
        "  print(i,s.count(i))          #count freq of each"
      ],
      "metadata": {
        "colab": {
          "base_uri": "https://localhost:8080/"
        },
        "id": "51tOSMGSuQd0",
        "outputId": "f0f3fc2e-4608-488a-be47-160083e7d1fd"
      },
      "execution_count": null,
      "outputs": [
        {
          "output_type": "stream",
          "name": "stdout",
          "text": [
            "Enter a string: amar is here for raj\n",
            "r 4\n",
            "i 1\n",
            "o 1\n",
            "j 1\n",
            "m 1\n",
            "h 1\n",
            "  4\n",
            "f 1\n",
            "a 3\n",
            "s 1\n",
            "e 2\n"
          ]
        }
      ]
    },
    {
      "cell_type": "code",
      "source": [
        "# Q5) count freq of words \n",
        "line = input(\"Enter a string: \")  #take a line\n",
        "uniqwordlist = set(line.split())  #create word list and get unique words\n",
        "for word in uniqwordlist:         # count and print word \n",
        "  print(word,\"-->\",line.count(word))"
      ],
      "metadata": {
        "colab": {
          "base_uri": "https://localhost:8080/"
        },
        "id": "iXbrQPAkZTBU",
        "outputId": "b8468617-3f50-4553-a4a1-1c36be985338"
      },
      "execution_count": null,
      "outputs": [
        {
          "output_type": "stream",
          "name": "stdout",
          "text": [
            "Enter a string: this is a test for him this\n",
            "test --> 1\n",
            "is --> 3\n",
            "for --> 1\n",
            "this --> 2\n",
            "him --> 1\n",
            "a --> 1\n"
          ]
        }
      ]
    },
    {
      "cell_type": "code",
      "source": [
        "# Q6) count maximum occuring character\n",
        "line = input(\"Enter a line: \") #take string\n",
        "\n",
        "#convert to character list to take unique characters\n",
        "uset = set(list(line))\n",
        "print(uset)\n",
        "# count freq of each character\n",
        "maxchar = \"\"\n",
        "maxfreq =0\n",
        "for i in uset:\n",
        "  if i!=' ':\n",
        "    temp = line.count(i)\n",
        "    if temp > maxfreq:\n",
        "        maxfreq = temp\n",
        "        maxchar = i\n",
        "#print character with max frequency\n",
        "print(\"max occurence of character is\", maxchar, \"with count\", maxfreq)"
      ],
      "metadata": {
        "colab": {
          "base_uri": "https://localhost:8080/"
        },
        "id": "B7NTYMg-dAjE",
        "outputId": "c6da6dde-8019-444f-e85c-fbb050e1793a"
      },
      "execution_count": null,
      "outputs": [
        {
          "output_type": "stream",
          "name": "stdout",
          "text": [
            "Enter a line: raj amar\n",
            "{'r', 'j', 'm', ' ', 'a'}\n",
            "max occurence of character is a with count 3\n"
          ]
        }
      ]
    },
    {
      "cell_type": "code",
      "source": [
        "# Q7) count maximum occuring word\n",
        "s = input(\"Enter a line: \")\n",
        "#create word list and get unique words\n",
        "uwordlist = set(s.split())\n",
        "s = s.split()\n",
        "maxchar = \"\"\n",
        "maxf =0\n",
        "for word in uwordlist:\n",
        "  if word!=' ':\n",
        "    temp = s.count(word)\n",
        "    if temp > maxf:\n",
        "        maxf = temp\n",
        "        maxchar = word\n",
        "print(\"max occurence of word:\", maxchar, \"with count\", maxf)"
      ],
      "metadata": {
        "colab": {
          "base_uri": "https://localhost:8080/"
        },
        "id": "QX06ZAi-eg58",
        "outputId": "4c56cb40-a7fb-431a-df0b-293b745c6620"
      },
      "execution_count": null,
      "outputs": [
        {
          "output_type": "stream",
          "name": "stdout",
          "text": [
            "Enter a line: raj is here for amarraj\n",
            "max occurence of word: is with count 1\n"
          ]
        }
      ]
    },
    {
      "cell_type": "code",
      "source": [
        "# Q8) Remove Duplicates without using set theory\n",
        "# input:imagination \n",
        "# output : i m a g n t o \n",
        "line = input(\"Enter a line: \")\n",
        "slist = list()\n",
        "for i in line:\n",
        "    if i not in slist:\n",
        "        slist.append(i)\n",
        "print(\"\".join(slist))\n",
        "# print(slist)\n",
        "\n"
      ],
      "metadata": {
        "colab": {
          "base_uri": "https://localhost:8080/"
        },
        "id": "U18W3Gx5hcYz",
        "outputId": "d40933b2-6420-4195-8d33-8813dd2d20a2"
      },
      "execution_count": null,
      "outputs": [
        {
          "output_type": "stream",
          "name": "stdout",
          "text": [
            "Enter a line: imagination is amar\n",
            "imagnto sr\n"
          ]
        }
      ]
    },
    {
      "cell_type": "code",
      "source": [
        "line = input(\"Enter a line: \")\n",
        "slist = list()\n",
        "for i in line:\n",
        "    if i not in slist:\n",
        "        slist.append(i)\n",
        "# print(\"\".join(slist))\n",
        "print(slist)"
      ],
      "metadata": {
        "id": "fM09gW1XxxjD"
      },
      "execution_count": null,
      "outputs": []
    },
    {
      "cell_type": "code",
      "source": [
        "str = \"imagination\"\n",
        "temp = \"\"\n",
        "for i in str:\n",
        "    if i not in temp:\n",
        "        temp += i\n",
        "print(temp)"
      ],
      "metadata": {
        "colab": {
          "base_uri": "https://localhost:8080/"
        },
        "id": "iJlc8quk5OdI",
        "outputId": "2aa4c1d8-d1de-4492-c956-1c584c3dad4b"
      },
      "execution_count": null,
      "outputs": [
        {
          "output_type": "stream",
          "name": "stdout",
          "text": [
            "imagnto\n"
          ]
        }
      ]
    },
    {
      "cell_type": "code",
      "source": [
        "# Q11)Check for anagram\n",
        "\n",
        "'mary'  'army'\n",
        "s1 = input(\"Word:\")\n",
        "s2 = input(\"Word2:\")\n",
        "count = 0 \n",
        "if len(s1) != len(s2):\n",
        "  print(\"Not equal in size\")\n",
        "else:\n",
        "  slist = sorted(list(s1))\n",
        "  slist2 = sorted(list(s2))\n",
        "\n",
        "  for i in range(len(slist)):\n",
        "    if slist[i] == slist2[i]:\n",
        "      count+=1\n",
        "    \n",
        "  if count == len(slist):\n",
        "    print(\"Yes\")\n",
        "  else:\n",
        "    print(\"No\")\n",
        "\n"
      ],
      "metadata": {
        "colab": {
          "base_uri": "https://localhost:8080/"
        },
        "id": "T774F0k5GFy4",
        "outputId": "28ca60f4-aed4-42d5-e55a-292117f36414"
      },
      "execution_count": null,
      "outputs": [
        {
          "output_type": "stream",
          "name": "stdout",
          "text": [
            "Word:army\n",
            "Word2:mary\n",
            "Yes\n"
          ]
        }
      ]
    }
  ]
}