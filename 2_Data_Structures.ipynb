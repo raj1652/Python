{
  "nbformat": 4,
  "nbformat_minor": 0,
  "metadata": {
    "colab": {
      "provenance": [],
      "collapsed_sections": [
        "OyERXXycGN2B",
        "Mfh0xQSjTFz2",
        "5PPEN6VFT9Ne",
        "hPxvOR5uI38l",
        "2xF8d9JyJI0k",
        "EU5Q-H2lJTgb"
      ],
      "authorship_tag": "ABX9TyOdedsH+TmudcuhqPN9IoiX",
      "include_colab_link": true
    },
    "kernelspec": {
      "name": "python3",
      "display_name": "Python 3"
    },
    "language_info": {
      "name": "python"
    }
  },
  "cells": [
    {
      "cell_type": "markdown",
      "metadata": {
        "id": "view-in-github",
        "colab_type": "text"
      },
      "source": [
        "<a href=\"https://colab.research.google.com/github/raj1652/Python/blob/main/2_Data_Structures.ipynb\" target=\"_parent\"><img src=\"https://colab.research.google.com/assets/colab-badge.svg\" alt=\"Open In Colab\"/></a>"
      ]
    },
    {
      "cell_type": "markdown",
      "source": [
        "# **Lecture 5 -> DATA STRUCTURE-1 - LIST**\n",
        "---\n",
        "1. indexed access\n",
        "2. Auto iteration access\n",
        "3. Slicing\n",
        "4. Methods of LIST\n",
        "5. Interview Q's\n",
        "6. 2D List\n",
        "7. Properties of List\n",
        "\n"
      ],
      "metadata": {
        "id": "OyERXXycGN2B"
      }
    },
    {
      "cell_type": "code",
      "source": [
        "# a={}\n",
        "# type(a)\n",
        "# b={0}\n",
        "# type(b)\n",
        "c=set()\n",
        "type(c)"
      ],
      "metadata": {
        "colab": {
          "base_uri": "https://localhost:8080/"
        },
        "id": "WoLjtUDpGVJQ",
        "outputId": "4ce330bc-40f9-4d52-83cd-9955d2973cfe"
      },
      "execution_count": null,
      "outputs": [
        {
          "output_type": "execute_result",
          "data": {
            "text/plain": [
              "set"
            ]
          },
          "metadata": {},
          "execution_count": 59
        }
      ]
    },
    {
      "cell_type": "code",
      "source": [
        "# ways to create empty set --\n",
        "b={0}\n",
        "type(b)\n",
        "# c=set()\n",
        "# type(c)"
      ],
      "metadata": {
        "colab": {
          "base_uri": "https://localhost:8080/"
        },
        "id": "Nd7iTzjRG-x-",
        "outputId": "de9a5dd4-6d1e-4203-8944-899b5069fa25"
      },
      "execution_count": null,
      "outputs": [
        {
          "output_type": "execute_result",
          "data": {
            "text/plain": [
              "set"
            ]
          },
          "metadata": {},
          "execution_count": 60
        }
      ]
    },
    {
      "cell_type": "markdown",
      "source": [],
      "metadata": {
        "id": "qoA7X0Dd3zPX"
      }
    },
    {
      "cell_type": "markdown",
      "source": [
        "**1. Indexed Access**\n",
        "---"
      ],
      "metadata": {
        "id": "aT1gYd353VJA"
      }
    },
    {
      "cell_type": "code",
      "source": [
        "lis = [10,20,30,40,55,66,77,88,99,111]\n",
        "for i in range(len(lis)):\n",
        "    print(\"i=\",i,\" \",lis[i])"
      ],
      "metadata": {
        "colab": {
          "base_uri": "https://localhost:8080/"
        },
        "id": "sXdOKTtkSxKm",
        "outputId": "80faa6ec-c843-46dd-d263-67de61d711f6"
      },
      "execution_count": null,
      "outputs": [
        {
          "output_type": "stream",
          "name": "stdout",
          "text": [
            "i= 0   10\n",
            "i= 1   20\n",
            "i= 2   30\n",
            "i= 3   40\n",
            "i= 4   55\n",
            "i= 5   66\n",
            "i= 6   77\n",
            "i= 7   88\n",
            "i= 8   99\n",
            "i= 9   111\n"
          ]
        }
      ]
    },
    {
      "cell_type": "markdown",
      "source": [
        "**2. Auto iteration access**\n",
        "---\n",
        "\n"
      ],
      "metadata": {
        "id": "Mfh0xQSjTFz2"
      }
    },
    {
      "cell_type": "code",
      "source": [
        "lis = [10,20,30,40,55,66,77,88,99,111]\n",
        "for i in lis:\n",
        "    print(\"i =\",i)"
      ],
      "metadata": {
        "colab": {
          "base_uri": "https://localhost:8080/"
        },
        "id": "crlIlDuFTd9O",
        "outputId": "8eb92c43-6ada-460a-c839-b49c1d5f3e26"
      },
      "execution_count": null,
      "outputs": [
        {
          "output_type": "stream",
          "name": "stdout",
          "text": [
            "i = 10\n",
            "i = 20\n",
            "i = 30\n",
            "i = 40\n",
            "i = 55\n",
            "i = 66\n",
            "i = 77\n",
            "i = 88\n",
            "i = 99\n",
            "i = 111\n"
          ]
        }
      ]
    },
    {
      "cell_type": "markdown",
      "source": [
        "**3. Slicing**\n",
        "---\n",
        "\n"
      ],
      "metadata": {
        "id": "5PPEN6VFT9Ne"
      }
    },
    {
      "cell_type": "code",
      "source": [
        "l=[11,22,33,44,55,66,77,88,99,111]"
      ],
      "metadata": {
        "id": "pI1hngifT-v-"
      },
      "execution_count": null,
      "outputs": []
    },
    {
      "cell_type": "code",
      "source": [
        "l[3:9:2]"
      ],
      "metadata": {
        "colab": {
          "base_uri": "https://localhost:8080/"
        },
        "id": "3KjIKxhYUD8-",
        "outputId": "ad8e0e32-f8fe-4966-a4a3-ee3d71d9a8c3"
      },
      "execution_count": null,
      "outputs": [
        {
          "output_type": "execute_result",
          "data": {
            "text/plain": [
              "[44, 66, 88]"
            ]
          },
          "metadata": {},
          "execution_count": 64
        }
      ]
    },
    {
      "cell_type": "code",
      "source": [
        "l[::-1]"
      ],
      "metadata": {
        "colab": {
          "base_uri": "https://localhost:8080/"
        },
        "id": "2Eem4IN2UHDO",
        "outputId": "eea560d0-8e3d-4302-aefc-390c71096e4a"
      },
      "execution_count": null,
      "outputs": [
        {
          "output_type": "execute_result",
          "data": {
            "text/plain": [
              "[111, 99, 88, 77, 66, 55, 44, 33, 22, 11]"
            ]
          },
          "metadata": {},
          "execution_count": 65
        }
      ]
    },
    {
      "cell_type": "code",
      "source": [
        "l"
      ],
      "metadata": {
        "colab": {
          "base_uri": "https://localhost:8080/"
        },
        "id": "X7NQfr7pUH4f",
        "outputId": "46ce8d6c-1405-4153-8277-ed02da94a46e"
      },
      "execution_count": null,
      "outputs": [
        {
          "output_type": "execute_result",
          "data": {
            "text/plain": [
              "[11, 22, 33, 44, 55, 66, 77, 88, 99, 111]"
            ]
          },
          "metadata": {},
          "execution_count": 66
        }
      ]
    },
    {
      "cell_type": "code",
      "source": [
        "l[::]"
      ],
      "metadata": {
        "colab": {
          "base_uri": "https://localhost:8080/"
        },
        "id": "k8Ban8sAULuP",
        "outputId": "271db3ae-efb4-4ca2-9558-6e121af30566"
      },
      "execution_count": null,
      "outputs": [
        {
          "output_type": "execute_result",
          "data": {
            "text/plain": [
              "[11, 22, 33, 44, 55, 66, 77, 88, 99, 111]"
            ]
          },
          "metadata": {},
          "execution_count": 67
        }
      ]
    },
    {
      "cell_type": "markdown",
      "source": [
        "**4. Methods of LIST**\n",
        "---\n",
        "\n"
      ],
      "metadata": {
        "id": "hPp4ux2rUhVm"
      }
    },
    {
      "cell_type": "code",
      "source": [
        "li = [10,20,30,40,55,66,77,88,99,111]"
      ],
      "metadata": {
        "id": "LeOMpPHaHNUT"
      },
      "execution_count": null,
      "outputs": []
    },
    {
      "cell_type": "code",
      "source": [
        "sum(li)\n"
      ],
      "metadata": {
        "colab": {
          "base_uri": "https://localhost:8080/"
        },
        "id": "2-YoEltzQST6",
        "outputId": "a40d4f42-39b9-45ba-e8ab-5fe025180dca"
      },
      "execution_count": null,
      "outputs": [
        {
          "output_type": "execute_result",
          "data": {
            "text/plain": [
              "596"
            ]
          },
          "metadata": {},
          "execution_count": 69
        }
      ]
    },
    {
      "cell_type": "code",
      "source": [
        "min(li)\n"
      ],
      "metadata": {
        "colab": {
          "base_uri": "https://localhost:8080/"
        },
        "id": "OMZXdusGQsK_",
        "outputId": "dc54c6ba-9464-47a2-b779-f5238a9be20a"
      },
      "execution_count": null,
      "outputs": [
        {
          "output_type": "execute_result",
          "data": {
            "text/plain": [
              "10"
            ]
          },
          "metadata": {},
          "execution_count": 70
        }
      ]
    },
    {
      "cell_type": "code",
      "source": [
        "max(li)"
      ],
      "metadata": {
        "colab": {
          "base_uri": "https://localhost:8080/"
        },
        "id": "dE_GjcPqQxTm",
        "outputId": "9d27c3cb-af4d-433a-f38c-09a123a78fa1"
      },
      "execution_count": null,
      "outputs": [
        {
          "output_type": "execute_result",
          "data": {
            "text/plain": [
              "111"
            ]
          },
          "metadata": {},
          "execution_count": 71
        }
      ]
    },
    {
      "cell_type": "code",
      "source": [
        "len(li)"
      ],
      "metadata": {
        "colab": {
          "base_uri": "https://localhost:8080/"
        },
        "id": "4w9-GaXvQ3AO",
        "outputId": "6b78c9a7-53bd-4044-9fea-79e0842b1297"
      },
      "execution_count": null,
      "outputs": [
        {
          "output_type": "execute_result",
          "data": {
            "text/plain": [
              "10"
            ]
          },
          "metadata": {},
          "execution_count": 72
        }
      ]
    },
    {
      "cell_type": "code",
      "source": [
        "sorted(li)"
      ],
      "metadata": {
        "colab": {
          "base_uri": "https://localhost:8080/"
        },
        "id": "FAx7cEM-Q6c2",
        "outputId": "3fecc3f8-9c7a-4079-d91f-05058a4401b0"
      },
      "execution_count": null,
      "outputs": [
        {
          "output_type": "execute_result",
          "data": {
            "text/plain": [
              "[10, 20, 30, 40, 55, 66, 77, 88, 99, 111]"
            ]
          },
          "metadata": {},
          "execution_count": 73
        }
      ]
    },
    {
      "cell_type": "code",
      "source": [
        "l2 = sorted(li)"
      ],
      "metadata": {
        "id": "w5ftEeZtRVBW"
      },
      "execution_count": null,
      "outputs": []
    },
    {
      "cell_type": "code",
      "source": [
        "l2"
      ],
      "metadata": {
        "colab": {
          "base_uri": "https://localhost:8080/"
        },
        "id": "93oXBb6uRZMe",
        "outputId": "aee0546d-1c2d-4971-f5fb-c98292cac8a4"
      },
      "execution_count": null,
      "outputs": [
        {
          "output_type": "execute_result",
          "data": {
            "text/plain": [
              "[10, 20, 30, 40, 55, 66, 77, 88, 99, 111]"
            ]
          },
          "metadata": {},
          "execution_count": 75
        }
      ]
    },
    {
      "cell_type": "markdown",
      "source": [
        "**5. Interview Q's**\n",
        "---\n",
        "---\n",
        "\n"
      ],
      "metadata": {
        "id": "6cRQYAwKXE5d"
      }
    },
    {
      "cell_type": "code",
      "source": [
        "l=[22,6,45,12,98,56,88,22]\n",
        "\n",
        "# print second largest no\n",
        "print(sorted(l)[-2])\n",
        "# print second smallest\n",
        "print(sorted(l)[1])\n",
        "\n",
        "\n"
      ],
      "metadata": {
        "colab": {
          "base_uri": "https://localhost:8080/"
        },
        "id": "JgCLjeoWRfWX",
        "outputId": "2101f291-2027-453c-ce1a-a9346e59a78c"
      },
      "execution_count": null,
      "outputs": [
        {
          "output_type": "stream",
          "name": "stdout",
          "text": [
            "88\n",
            "12\n"
          ]
        }
      ]
    },
    {
      "cell_type": "code",
      "source": [
        "l=[22.3,66.8,45,12.26,98.99,56,88.987,22]\n",
        "\n",
        "# print second largest no\n",
        "print(sorted(l)[-2])\n",
        "# print second smallest\n",
        "print(sorted(l)[1])\n",
        "\n",
        "# print sum\n",
        "print(sum(l))\n",
        "\n",
        "# print max and min\n",
        "print(\"Max:\",max(l))\n",
        "print(\"Min:\",min(l))"
      ],
      "metadata": {
        "colab": {
          "base_uri": "https://localhost:8080/"
        },
        "id": "-WxhylECTKtO",
        "outputId": "6ef55d5c-2bf0-455f-e888-fa89afade99a"
      },
      "execution_count": null,
      "outputs": [
        {
          "output_type": "stream",
          "name": "stdout",
          "text": [
            "88.987\n",
            "22\n",
            "412.337\n",
            "Max: 98.99\n",
            "Min: 12.26\n"
          ]
        }
      ]
    },
    {
      "cell_type": "code",
      "source": [
        "l=[\"zzz\",\"bbb\",\"waz\",\"aaa\",\"dad\",'raj']\n",
        "\n",
        "# print sorted \n",
        "print(sorted(l))\n",
        "\n",
        "# print second largest no\n",
        "print(sorted(l)[-2])\n",
        "# print second smallest\n",
        "print(sorted(l)[1])\n",
        "\n",
        "# print sum\n",
        "# print(sum(l))\n",
        "\n",
        "\n",
        "# print max and min\n",
        "print(\"Max:\",max(l))\n",
        "print(\"Min:\",min(l))"
      ],
      "metadata": {
        "colab": {
          "base_uri": "https://localhost:8080/"
        },
        "id": "DA_A89KlTm8G",
        "outputId": "34d0bc7c-1b7c-4405-ffcc-3ae9b0d88904"
      },
      "execution_count": null,
      "outputs": [
        {
          "output_type": "stream",
          "name": "stdout",
          "text": [
            "['aaa', 'bbb', 'dad', 'raj', 'waz', 'zzz']\n",
            "waz\n",
            "bbb\n",
            "Max: zzz\n",
            "Min: aaa\n"
          ]
        }
      ]
    },
    {
      "cell_type": "code",
      "source": [
        "lh=[23,5.1,True,\"amar\"]"
      ],
      "metadata": {
        "id": "cTP8EMDeT-WW"
      },
      "execution_count": null,
      "outputs": []
    },
    {
      "cell_type": "code",
      "source": [
        "min(lh)  # min,max,sum,sorted cannot compare different datatype - does not support heterogeneity"
      ],
      "metadata": {
        "id": "iiCCtSQbUJOF",
        "colab": {
          "base_uri": "https://localhost:8080/",
          "height": 171
        },
        "outputId": "e3579128-d9e9-44d7-e893-2291d3180561"
      },
      "execution_count": null,
      "outputs": [
        {
          "output_type": "error",
          "ename": "TypeError",
          "evalue": "ignored",
          "traceback": [
            "\u001b[0;31m---------------------------------------------------------------------------\u001b[0m",
            "\u001b[0;31mTypeError\u001b[0m                                 Traceback (most recent call last)",
            "\u001b[0;32m<ipython-input-80-b675d148bcf5>\u001b[0m in \u001b[0;36m<module>\u001b[0;34m()\u001b[0m\n\u001b[0;32m----> 1\u001b[0;31m \u001b[0mmin\u001b[0m\u001b[0;34m(\u001b[0m\u001b[0mlh\u001b[0m\u001b[0;34m)\u001b[0m  \u001b[0;31m# min,max,sum,sorted cannot compare different datatype - does not support heterogeneity\u001b[0m\u001b[0;34m\u001b[0m\u001b[0;34m\u001b[0m\u001b[0m\n\u001b[0m",
            "\u001b[0;31mTypeError\u001b[0m: '<' not supported between instances of 'str' and 'bool'"
          ]
        }
      ]
    },
    {
      "cell_type": "markdown",
      "source": [
        "**6. 2D LIST**\n",
        "---\n",
        "---\n"
      ],
      "metadata": {
        "id": "XpQrslUjXRwd"
      }
    },
    {
      "cell_type": "code",
      "source": [
        "# 2D-LIST \n",
        "l2D=[[10,20,30],[40,50,60],[70,80,90]]"
      ],
      "metadata": {
        "id": "FV5CGG8zUlbO"
      },
      "execution_count": null,
      "outputs": []
    },
    {
      "cell_type": "code",
      "source": [
        "l2D[2][1]"
      ],
      "metadata": {
        "colab": {
          "base_uri": "https://localhost:8080/"
        },
        "id": "6aEFyrQuVlwt",
        "outputId": "36bf9dbb-bf7d-4975-c70c-92b5d1005f86"
      },
      "execution_count": null,
      "outputs": [
        {
          "output_type": "execute_result",
          "data": {
            "text/plain": [
              "80"
            ]
          },
          "metadata": {},
          "execution_count": 82
        }
      ]
    },
    {
      "cell_type": "code",
      "source": [
        "for row in l2D:\n",
        "  print(\"Line:\",row)"
      ],
      "metadata": {
        "colab": {
          "base_uri": "https://localhost:8080/"
        },
        "id": "X_uZ8Cg4VtsM",
        "outputId": "6d97597b-2699-498d-b3df-4bfc0cf1840e"
      },
      "execution_count": null,
      "outputs": [
        {
          "output_type": "stream",
          "name": "stdout",
          "text": [
            "Line: [10, 20, 30]\n",
            "Line: [40, 50, 60]\n",
            "Line: [70, 80, 90]\n"
          ]
        }
      ]
    },
    {
      "cell_type": "code",
      "source": [
        "for row in l2D:\n",
        "  print(\"Row has:\",row)\n",
        "  for element in row:\n",
        "    print(\"Element:\",element)"
      ],
      "metadata": {
        "colab": {
          "base_uri": "https://localhost:8080/"
        },
        "id": "DoosBRp0V5Ut",
        "outputId": "6e7708b9-8f2a-4d35-f0f1-e897874051f6"
      },
      "execution_count": null,
      "outputs": [
        {
          "output_type": "stream",
          "name": "stdout",
          "text": [
            "Row has: [10, 20, 30]\n",
            "Element: 10\n",
            "Element: 20\n",
            "Element: 30\n",
            "Row has: [40, 50, 60]\n",
            "Element: 40\n",
            "Element: 50\n",
            "Element: 60\n",
            "Row has: [70, 80, 90]\n",
            "Element: 70\n",
            "Element: 80\n",
            "Element: 90\n"
          ]
        }
      ]
    },
    {
      "cell_type": "markdown",
      "source": [
        "**7. Properties of List**\n",
        "---\n",
        "---\n",
        "\n",
        "1.   list.append()\n",
        "2.   list.extend()\n",
        "3.   list.insert()\n",
        "4.   list.remove()\n",
        "5.   list.pop([i])\n",
        "6.   list.clear()\n",
        "7.   list.index()\n",
        "8.   list.count()\n",
        "9.   list.sort() -- temporarily use :sorted\n",
        "10.  list.reverse() -- temporarily use : [::-1] \n",
        "\n",
        "\n"
      ],
      "metadata": {
        "id": "d89J_0U-YAXF"
      }
    },
    {
      "cell_type": "code",
      "source": [
        "l=['see this','AMAR',55.0,12.9,98.0,11,22,'','in between','The End',33,19.33,22,89,'ralph']"
      ],
      "metadata": {
        "id": "DAVir3r0YCPM"
      },
      "execution_count": null,
      "outputs": []
    },
    {
      "cell_type": "code",
      "source": [
        "l.append(589) #adds element to end of list"
      ],
      "metadata": {
        "id": "qbmt1uXBXqVx"
      },
      "execution_count": null,
      "outputs": []
    },
    {
      "cell_type": "code",
      "source": [
        "l1 = [10,11,12,22,23,65,65,87,74,12.36]\n"
      ],
      "metadata": {
        "id": "rYRAA6RXYXs9"
      },
      "execution_count": null,
      "outputs": []
    },
    {
      "cell_type": "code",
      "source": [
        "l.extend(l1) #extends l1 list to end of original list l"
      ],
      "metadata": {
        "id": "sJa54hUrYgr8"
      },
      "execution_count": null,
      "outputs": []
    },
    {
      "cell_type": "code",
      "source": [
        "l"
      ],
      "metadata": {
        "colab": {
          "base_uri": "https://localhost:8080/"
        },
        "id": "-A54aPQlYQGl",
        "outputId": "b60ada5c-3ddd-4b48-f504-b8ff23b08309"
      },
      "execution_count": null,
      "outputs": [
        {
          "output_type": "execute_result",
          "data": {
            "text/plain": [
              "['zzz', 'bbb', 'waz', 'aaa', 'dad']"
            ]
          },
          "metadata": {},
          "execution_count": 87
        }
      ]
    },
    {
      "cell_type": "code",
      "source": [
        "l.remove(12)\n",
        "print(l)"
      ],
      "metadata": {
        "colab": {
          "base_uri": "https://localhost:8080/",
          "height": 189
        },
        "id": "tOrsuagPbZvz",
        "outputId": "8fe09c46-edff-4758-f683-34ba86d6ca40"
      },
      "execution_count": null,
      "outputs": [
        {
          "output_type": "error",
          "ename": "ValueError",
          "evalue": "ignored",
          "traceback": [
            "\u001b[0;31m---------------------------------------------------------------------------\u001b[0m",
            "\u001b[0;31mValueError\u001b[0m                                Traceback (most recent call last)",
            "\u001b[0;32m<ipython-input-92-e852c53a26cc>\u001b[0m in \u001b[0;36m<module>\u001b[0;34m()\u001b[0m\n\u001b[0;32m----> 1\u001b[0;31m \u001b[0ml\u001b[0m\u001b[0;34m.\u001b[0m\u001b[0mremove\u001b[0m\u001b[0;34m(\u001b[0m\u001b[0;36m12\u001b[0m\u001b[0;34m)\u001b[0m\u001b[0;34m\u001b[0m\u001b[0;34m\u001b[0m\u001b[0m\n\u001b[0m\u001b[1;32m      2\u001b[0m \u001b[0mprint\u001b[0m\u001b[0;34m(\u001b[0m\u001b[0ml\u001b[0m\u001b[0;34m)\u001b[0m\u001b[0;34m\u001b[0m\u001b[0;34m\u001b[0m\u001b[0m\n",
            "\u001b[0;31mValueError\u001b[0m: list.remove(x): x not in list"
          ]
        }
      ]
    },
    {
      "cell_type": "code",
      "source": [
        "l.pop(5)\n",
        "print(l)"
      ],
      "metadata": {
        "colab": {
          "base_uri": "https://localhost:8080/"
        },
        "id": "2pk-_Ekgbm28",
        "outputId": "25029f45-daae-4011-dd40-071255ed6a6b"
      },
      "execution_count": null,
      "outputs": [
        {
          "output_type": "stream",
          "name": "stdout",
          "text": [
            "['see this', 'AMAR', 55.0, 12.9, 98.0, 22, '', 'in between', 'The End', 33, 19.33, 22, 89, 'ralph', 589]\n"
          ]
        }
      ]
    },
    {
      "cell_type": "code",
      "source": [
        "l.pop()\n",
        "print(l)"
      ],
      "metadata": {
        "colab": {
          "base_uri": "https://localhost:8080/"
        },
        "id": "7UznKISKZO5E",
        "outputId": "c70a9b7b-e0f8-429b-8236-03ad15005380"
      },
      "execution_count": null,
      "outputs": [
        {
          "output_type": "stream",
          "name": "stdout",
          "text": [
            "['see this', 'AMAR', 55.0, 12.9, 98.0, 22, '', 'in between', 'The End', 33, 19.33, 22, 89, 'ralph']\n"
          ]
        }
      ]
    },
    {
      "cell_type": "code",
      "source": [
        "l.pop() # removes last element by default\n",
        "print(l)"
      ],
      "metadata": {
        "colab": {
          "base_uri": "https://localhost:8080/"
        },
        "id": "0_aNxk-SZR1W",
        "outputId": "3d651f0b-74c2-4667-a741-97f3c2621b63"
      },
      "execution_count": null,
      "outputs": [
        {
          "output_type": "stream",
          "name": "stdout",
          "text": [
            "['see this', 'AMAR', 55.0, 12.9, 98.0, 22, '', 'in between', 'The End', 33, 19.33, 22, 89]\n"
          ]
        }
      ]
    },
    {
      "cell_type": "code",
      "source": [
        "l.pop(-3) # removes last element by default\n",
        "print(l)"
      ],
      "metadata": {
        "colab": {
          "base_uri": "https://localhost:8080/"
        },
        "id": "ZmWkdDwEZXsm",
        "outputId": "b8314c33-962b-492f-b4eb-309d260bd1e8"
      },
      "execution_count": null,
      "outputs": [
        {
          "output_type": "stream",
          "name": "stdout",
          "text": [
            "['see this', 'AMAR', 55.0, 12.9, 98.0, 22, '', 'in between', 'The End', 33, 22, 89]\n"
          ]
        }
      ]
    },
    {
      "cell_type": "code",
      "source": [
        "l.insert(1,789) #(index,value)\n",
        "print(l)"
      ],
      "metadata": {
        "colab": {
          "base_uri": "https://localhost:8080/"
        },
        "id": "TaXWSdP7Zfo1",
        "outputId": "be0e95f7-8e66-450b-e1b1-d03e7564492a"
      },
      "execution_count": null,
      "outputs": [
        {
          "output_type": "stream",
          "name": "stdout",
          "text": [
            "['see this', 789, 'AMAR', 55.0, 12.9, 98.0, 22, '', 'in between', 'The End', 33, 22, 89]\n"
          ]
        }
      ]
    },
    {
      "cell_type": "code",
      "source": [
        "l.index('ralph') #gives index of given element"
      ],
      "metadata": {
        "colab": {
          "base_uri": "https://localhost:8080/",
          "height": 171
        },
        "id": "xY8gPeZyZvFV",
        "outputId": "c8bac5c0-5045-411d-ebe1-9e1bafdceefc"
      },
      "execution_count": null,
      "outputs": [
        {
          "output_type": "error",
          "ename": "ValueError",
          "evalue": "ignored",
          "traceback": [
            "\u001b[0;31m---------------------------------------------------------------------------\u001b[0m",
            "\u001b[0;31mValueError\u001b[0m                                Traceback (most recent call last)",
            "\u001b[0;32m<ipython-input-106-c797f31b5047>\u001b[0m in \u001b[0;36m<module>\u001b[0;34m()\u001b[0m\n\u001b[0;32m----> 1\u001b[0;31m \u001b[0ml\u001b[0m\u001b[0;34m.\u001b[0m\u001b[0mindex\u001b[0m\u001b[0;34m(\u001b[0m\u001b[0;34m'ralph'\u001b[0m\u001b[0;34m)\u001b[0m \u001b[0;31m#gives index of given element\u001b[0m\u001b[0;34m\u001b[0m\u001b[0;34m\u001b[0m\u001b[0m\n\u001b[0m",
            "\u001b[0;31mValueError\u001b[0m: 'ralph' is not in list"
          ]
        }
      ]
    },
    {
      "cell_type": "code",
      "source": [
        "l.count(22)\n"
      ],
      "metadata": {
        "colab": {
          "base_uri": "https://localhost:8080/"
        },
        "id": "KbM2C66OZ8P0",
        "outputId": "d4f6de6e-b514-43eb-a326-8a9215e7656e"
      },
      "execution_count": null,
      "outputs": [
        {
          "output_type": "execute_result",
          "data": {
            "text/plain": [
              "2"
            ]
          },
          "metadata": {},
          "execution_count": 98
        }
      ]
    },
    {
      "cell_type": "code",
      "source": [
        "l.count(34) #will return 0 if not present "
      ],
      "metadata": {
        "colab": {
          "base_uri": "https://localhost:8080/"
        },
        "id": "-YY2YFxOaA5O",
        "outputId": "304668e3-3b7d-4de7-d909-14292112e700"
      },
      "execution_count": null,
      "outputs": [
        {
          "output_type": "execute_result",
          "data": {
            "text/plain": [
              "0"
            ]
          },
          "metadata": {},
          "execution_count": 105
        }
      ]
    },
    {
      "cell_type": "code",
      "source": [
        "l.sort()\n",
        "print(l)"
      ],
      "metadata": {
        "colab": {
          "base_uri": "https://localhost:8080/"
        },
        "id": "PkTgcpJKaJKm",
        "outputId": "b72bc70d-0b22-47e7-9aba-41cf908dcd0b"
      },
      "execution_count": null,
      "outputs": [
        {
          "output_type": "stream",
          "name": "stdout",
          "text": [
            "[11, 22, 28, 44, 66, 99]\n"
          ]
        }
      ]
    },
    {
      "cell_type": "code",
      "source": [
        "l=[22,11,66,44,99,28]\n",
        "l2 = l[::-1]\n",
        "print(l2)"
      ],
      "metadata": {
        "colab": {
          "base_uri": "https://localhost:8080/"
        },
        "id": "gBkYqxUbdlvz",
        "outputId": "e54e4f04-3f8c-4a62-9bdb-e313d0db9329"
      },
      "execution_count": null,
      "outputs": [
        {
          "output_type": "stream",
          "name": "stdout",
          "text": [
            "[28, 99, 44, 66, 11, 22]\n"
          ]
        }
      ]
    },
    {
      "cell_type": "code",
      "source": [
        "l.sort()\n",
        "print(l)"
      ],
      "metadata": {
        "colab": {
          "base_uri": "https://localhost:8080/",
          "height": 189
        },
        "id": "g7y6Uk9GdsFL",
        "outputId": "38a52028-fa03-43ed-9c62-368e21c61a5b"
      },
      "execution_count": null,
      "outputs": [
        {
          "output_type": "error",
          "ename": "TypeError",
          "evalue": "ignored",
          "traceback": [
            "\u001b[0;31m---------------------------------------------------------------------------\u001b[0m",
            "\u001b[0;31mTypeError\u001b[0m                                 Traceback (most recent call last)",
            "\u001b[0;32m<ipython-input-102-da7d2f4828a2>\u001b[0m in \u001b[0;36m<module>\u001b[0;34m()\u001b[0m\n\u001b[0;32m----> 1\u001b[0;31m \u001b[0ml\u001b[0m\u001b[0;34m.\u001b[0m\u001b[0msort\u001b[0m\u001b[0;34m(\u001b[0m\u001b[0;34m)\u001b[0m\u001b[0;34m\u001b[0m\u001b[0;34m\u001b[0m\u001b[0m\n\u001b[0m\u001b[1;32m      2\u001b[0m \u001b[0mprint\u001b[0m\u001b[0;34m(\u001b[0m\u001b[0ml\u001b[0m\u001b[0;34m)\u001b[0m\u001b[0;34m\u001b[0m\u001b[0;34m\u001b[0m\u001b[0m\n",
            "\u001b[0;31mTypeError\u001b[0m: '<' not supported between instances of 'int' and 'str'"
          ]
        }
      ]
    },
    {
      "cell_type": "code",
      "source": [
        "dl=[11,22,11,44,11,66]"
      ],
      "metadata": {
        "id": "RrqePWeaadX8"
      },
      "execution_count": null,
      "outputs": []
    },
    {
      "cell_type": "code",
      "source": [
        "dl.index(11,1)#key , from where to search"
      ],
      "metadata": {
        "colab": {
          "base_uri": "https://localhost:8080/"
        },
        "id": "Lvu6itGyafym",
        "outputId": "79122703-c66d-4fe1-d4d8-c2089dcebd2c"
      },
      "execution_count": null,
      "outputs": [
        {
          "output_type": "execute_result",
          "data": {
            "text/plain": [
              "3"
            ]
          },
          "metadata": {},
          "execution_count": 100
        }
      ]
    },
    {
      "cell_type": "code",
      "source": [
        "dl.sort(reverse=True)\n",
        "print(dl)"
      ],
      "metadata": {
        "colab": {
          "base_uri": "https://localhost:8080/"
        },
        "id": "wIv4RVnVanIc",
        "outputId": "9fce1677-f701-411a-bbd9-c95a7abe7111"
      },
      "execution_count": null,
      "outputs": [
        {
          "output_type": "stream",
          "name": "stdout",
          "text": [
            "[66, 44, 22, 11, 11, 11]\n"
          ]
        }
      ]
    },
    {
      "cell_type": "markdown",
      "source": [],
      "metadata": {
        "id": "FqevSYNMQsf2"
      }
    },
    {
      "cell_type": "code",
      "source": [
        "ds=set()\n",
        "while True:     \n",
        "  inp = float(input(\"Enter a number:\"))\n",
        "  ds.add(inp)\n",
        "  if inp == -1:\n",
        "    print(ds)\n",
        "    break"
      ],
      "metadata": {
        "colab": {
          "base_uri": "https://localhost:8080/"
        },
        "id": "LxD7hUYTBx7r",
        "outputId": "a0c74598-08b7-4182-8b29-ad54099ead7f"
      },
      "execution_count": null,
      "outputs": [
        {
          "output_type": "stream",
          "name": "stdout",
          "text": [
            "Enter a number:54\n",
            "Enter a number:23\n",
            "Enter a number:21\n",
            "Enter a number:-1\n",
            "{-1.0, 21.0, 54.0, 23.0}\n"
          ]
        }
      ]
    },
    {
      "cell_type": "code",
      "source": [
        "Dict = {1: 'Jan', 2: 'Feb', 3: 'Mar' , 4: 'Apr' }\n",
        "data = int(input(\"Enter number:\"))\n",
        "if 0<data<13:\n",
        "  print(Dict[data])\n",
        "else:\n",
        "  print(\"wrong choice\")"
      ],
      "metadata": {
        "colab": {
          "base_uri": "https://localhost:8080/"
        },
        "id": "vx-y-NVlGDmb",
        "outputId": "f4594db3-70e1-4c57-ef1a-73658bed7e04"
      },
      "execution_count": null,
      "outputs": [
        {
          "output_type": "stream",
          "name": "stdout",
          "text": [
            "Enter number:3\n",
            "Mar\n"
          ]
        }
      ]
    },
    {
      "cell_type": "markdown",
      "source": [
        "# **Lecture 6 -> DATA STRUCTURE - TUPLE**\n",
        "\n",
        "\n",
        "1. indexed access\n",
        "2. Auto iteration access\n",
        "3. Slicing\n",
        "4. Built in Methods"
      ],
      "metadata": {
        "id": "hPxvOR5uI38l"
      }
    },
    {
      "cell_type": "code",
      "source": [
        "# 1. Indexed Access\n",
        "tu = (11,22,99,74,'ralph',5698745.333)\n",
        "for i in range(len(tu)):\n",
        "    print(\"i=\",i,\" \",tu[i])"
      ],
      "metadata": {
        "id": "m2PhFjYBJCv0",
        "colab": {
          "base_uri": "https://localhost:8080/"
        },
        "outputId": "9374828a-9bce-4d78-d9ce-e5927dbac46a"
      },
      "execution_count": null,
      "outputs": [
        {
          "output_type": "stream",
          "name": "stdout",
          "text": [
            "i= 0   11\n",
            "i= 1   22\n",
            "i= 2   99\n",
            "i= 3   74\n",
            "i= 4   ralph\n",
            "i= 5   5698745.333\n"
          ]
        }
      ]
    },
    {
      "cell_type": "code",
      "source": [
        "# 2. Auto-Iteration Access\n",
        "for i in tu:\n",
        "    print(\"i=\",i)"
      ],
      "metadata": {
        "id": "9Ws9RypdJCm8",
        "colab": {
          "base_uri": "https://localhost:8080/"
        },
        "outputId": "3c8c7818-57f8-46a4-fe1f-1effac234466"
      },
      "execution_count": null,
      "outputs": [
        {
          "output_type": "stream",
          "name": "stdout",
          "text": [
            "i= 11\n",
            "i= 22\n",
            "i= 99\n",
            "i= 74\n",
            "i= ralph\n",
            "i= 5698745.333\n"
          ]
        }
      ]
    },
    {
      "cell_type": "code",
      "source": [
        "# 3. Slicing\n",
        "print(tu[1:4:2])\n",
        "print(tu[::-1])\n",
        "print(tu[:3:])"
      ],
      "metadata": {
        "id": "HSvLFgvoJCZ0",
        "colab": {
          "base_uri": "https://localhost:8080/"
        },
        "outputId": "197b4455-ff86-410e-e27a-de488de1e406"
      },
      "execution_count": null,
      "outputs": [
        {
          "output_type": "stream",
          "name": "stdout",
          "text": [
            "(22, 74)\n",
            "(5698745.333, 'ralph', 74, 99, 22, 11)\n",
            "(11, 22, 99)\n"
          ]
        }
      ]
    },
    {
      "cell_type": "code",
      "source": [
        "# 4.Built in Methods\n",
        "# count()\tReturns the number of times a specified value occurs in a tuple\n",
        "# index()\tSearches the tuple for a specified value and returns the position of where it was found\n",
        "t=(11,22,11,33,555,555,666,888,99,99)\n",
        "t.count(11)"
      ],
      "metadata": {
        "colab": {
          "base_uri": "https://localhost:8080/"
        },
        "id": "hdvPBz9_-RIH",
        "outputId": "93ab45a7-fa54-4527-ceb8-1743f9c65f13"
      },
      "execution_count": null,
      "outputs": [
        {
          "output_type": "execute_result",
          "data": {
            "text/plain": [
              "2"
            ]
          },
          "metadata": {},
          "execution_count": 16
        }
      ]
    },
    {
      "cell_type": "code",
      "source": [
        "t.index(555)"
      ],
      "metadata": {
        "colab": {
          "base_uri": "https://localhost:8080/"
        },
        "id": "Kvs7YGHr-9a3",
        "outputId": "5db36a33-ea1c-4682-bddc-b9406b8882dc"
      },
      "execution_count": null,
      "outputs": [
        {
          "output_type": "execute_result",
          "data": {
            "text/plain": [
              "4"
            ]
          },
          "metadata": {},
          "execution_count": 17
        }
      ]
    },
    {
      "cell_type": "markdown",
      "source": [
        "# **Lecture 6 -> DATA STRUCTURE - SET**\n"
      ],
      "metadata": {
        "id": "2xF8d9JyJI0k"
      }
    },
    {
      "cell_type": "code",
      "source": [
        "s={11,22,11,22,33,33,44,66,88,99,77,88,99,101}"
      ],
      "metadata": {
        "id": "cr-f-d1wJR18"
      },
      "execution_count": null,
      "outputs": []
    },
    {
      "cell_type": "code",
      "source": [
        "s"
      ],
      "metadata": {
        "id": "oUqiBl3hJRx_",
        "colab": {
          "base_uri": "https://localhost:8080/"
        },
        "outputId": "176ab00b-2e56-4462-df84-548929f90d4a"
      },
      "execution_count": null,
      "outputs": [
        {
          "output_type": "execute_result",
          "data": {
            "text/plain": [
              "{11, 22, 33, 44, 66, 77, 88, 99, 101}"
            ]
          },
          "metadata": {},
          "execution_count": 21
        }
      ]
    },
    {
      "cell_type": "code",
      "source": [
        "s[3]"
      ],
      "metadata": {
        "id": "DP5hjjcsJRur",
        "colab": {
          "base_uri": "https://localhost:8080/",
          "height": 171
        },
        "outputId": "c4984442-0262-44f9-bcd7-9ea742acd648"
      },
      "execution_count": null,
      "outputs": [
        {
          "output_type": "error",
          "ename": "TypeError",
          "evalue": "ignored",
          "traceback": [
            "\u001b[0;31m---------------------------------------------------------------------------\u001b[0m",
            "\u001b[0;31mTypeError\u001b[0m                                 Traceback (most recent call last)",
            "\u001b[0;32m<ipython-input-22-354d6d7fa2e4>\u001b[0m in \u001b[0;36m<module>\u001b[0;34m\u001b[0m\n\u001b[0;32m----> 1\u001b[0;31m \u001b[0ms\u001b[0m\u001b[0;34m[\u001b[0m\u001b[0;36m3\u001b[0m\u001b[0;34m]\u001b[0m\u001b[0;34m\u001b[0m\u001b[0;34m\u001b[0m\u001b[0m\n\u001b[0m",
            "\u001b[0;31mTypeError\u001b[0m: 'set' object is not subscriptable"
          ]
        }
      ]
    },
    {
      "cell_type": "code",
      "source": [
        "for i in range(len(s)):\n",
        "    print(\"i=\",i,\" \",s[i])"
      ],
      "metadata": {
        "id": "Shfp7oCtJRpt",
        "colab": {
          "base_uri": "https://localhost:8080/",
          "height": 189
        },
        "outputId": "cd42e038-7444-40bb-a1e6-ac8cea0e3245"
      },
      "execution_count": null,
      "outputs": [
        {
          "output_type": "error",
          "ename": "TypeError",
          "evalue": "ignored",
          "traceback": [
            "\u001b[0;31m---------------------------------------------------------------------------\u001b[0m",
            "\u001b[0;31mTypeError\u001b[0m                                 Traceback (most recent call last)",
            "\u001b[0;32m<ipython-input-23-bcec362901d2>\u001b[0m in \u001b[0;36m<module>\u001b[0;34m\u001b[0m\n\u001b[1;32m      1\u001b[0m \u001b[0;32mfor\u001b[0m \u001b[0mi\u001b[0m \u001b[0;32min\u001b[0m \u001b[0mrange\u001b[0m\u001b[0;34m(\u001b[0m\u001b[0mlen\u001b[0m\u001b[0;34m(\u001b[0m\u001b[0ms\u001b[0m\u001b[0;34m)\u001b[0m\u001b[0;34m)\u001b[0m\u001b[0;34m:\u001b[0m\u001b[0;34m\u001b[0m\u001b[0;34m\u001b[0m\u001b[0m\n\u001b[0;32m----> 2\u001b[0;31m     \u001b[0mprint\u001b[0m\u001b[0;34m(\u001b[0m\u001b[0;34m\"i=\"\u001b[0m\u001b[0;34m,\u001b[0m\u001b[0mi\u001b[0m\u001b[0;34m,\u001b[0m\u001b[0;34m\" \"\u001b[0m\u001b[0;34m,\u001b[0m\u001b[0ms\u001b[0m\u001b[0;34m[\u001b[0m\u001b[0mi\u001b[0m\u001b[0;34m]\u001b[0m\u001b[0;34m)\u001b[0m\u001b[0;34m\u001b[0m\u001b[0;34m\u001b[0m\u001b[0m\n\u001b[0m",
            "\u001b[0;31mTypeError\u001b[0m: 'set' object is not subscriptable"
          ]
        }
      ]
    },
    {
      "cell_type": "code",
      "source": [
        "for i in s:\n",
        "  print(\"i = \",i)"
      ],
      "metadata": {
        "id": "f9HxF4QkJRf7",
        "colab": {
          "base_uri": "https://localhost:8080/"
        },
        "outputId": "18b1e92f-423f-4185-c9bc-8519b69a3127"
      },
      "execution_count": null,
      "outputs": [
        {
          "output_type": "stream",
          "name": "stdout",
          "text": [
            "i =  33\n",
            "i =  66\n",
            "i =  99\n",
            "i =  101\n",
            "i =  11\n",
            "i =  44\n",
            "i =  77\n",
            "i =  22\n",
            "i =  88\n"
          ]
        }
      ]
    },
    {
      "cell_type": "code",
      "source": [
        "# Set Theory\n",
        "a={1,2,3,4,5,6,7,8,9,10}\n",
        "b={5,6,7,8,22,89,74,11,1,2}\n",
        "\n",
        "print(a&b) #Intersection\n",
        "print(a|b) #Union\n",
        "print(a^b) #Symmetric Difference\n",
        "\n",
        "print(a-b)\n",
        "print(b-a)"
      ],
      "metadata": {
        "id": "vYTfEvtgJS_7",
        "colab": {
          "base_uri": "https://localhost:8080/"
        },
        "outputId": "be8d9a8b-731e-4d32-d278-feb199f78c62"
      },
      "execution_count": null,
      "outputs": [
        {
          "output_type": "stream",
          "name": "stdout",
          "text": [
            "{1, 2, 5, 6, 7, 8}\n",
            "{1, 2, 3, 4, 5, 6, 7, 8, 9, 10, 74, 11, 22, 89}\n",
            "{3, 4, 9, 74, 11, 10, 22, 89}\n",
            "{9, 10, 3, 4}\n",
            "{89, 74, 11, 22}\n"
          ]
        }
      ]
    },
    {
      "cell_type": "code",
      "source": [
        "# Set Built In Methods\n",
        "s={11,22,11,22,33,33,44,66,88,99,77,88,99,101}\n",
        "print(s)"
      ],
      "metadata": {
        "colab": {
          "base_uri": "https://localhost:8080/"
        },
        "id": "mP6sQsLDBKOx",
        "outputId": "ab16c6b2-0b95-4b1c-bf58-b28653a60858"
      },
      "execution_count": null,
      "outputs": [
        {
          "output_type": "stream",
          "name": "stdout",
          "text": [
            "{33, 66, 99, 101, 11, 44, 77, 22, 88}\n"
          ]
        }
      ]
    },
    {
      "cell_type": "code",
      "source": [
        "# 1.\n",
        "s.add(12369.2333)"
      ],
      "metadata": {
        "id": "WjR0u51VBXjf"
      },
      "execution_count": null,
      "outputs": []
    },
    {
      "cell_type": "code",
      "source": [
        "s"
      ],
      "metadata": {
        "colab": {
          "base_uri": "https://localhost:8080/"
        },
        "id": "obKfJD6mBanv",
        "outputId": "5e2648b1-092d-4e9d-af89-57334a077a9f"
      },
      "execution_count": null,
      "outputs": [
        {
          "output_type": "execute_result",
          "data": {
            "text/plain": [
              "{11, 22, 33, 44, 66, 77, 88, 99, 101, 12369.2333}"
            ]
          },
          "metadata": {},
          "execution_count": 28
        }
      ]
    },
    {
      "cell_type": "code",
      "source": [
        "# 2.\n",
        "s2={555,666,777}\n",
        "s.update(s2)"
      ],
      "metadata": {
        "id": "yHqgd17VBcKO"
      },
      "execution_count": null,
      "outputs": []
    },
    {
      "cell_type": "code",
      "source": [
        "s"
      ],
      "metadata": {
        "colab": {
          "base_uri": "https://localhost:8080/"
        },
        "id": "0s3miGn2Bocv",
        "outputId": "2ead5752-8ad1-4bc9-db05-818603b42e33"
      },
      "execution_count": null,
      "outputs": [
        {
          "output_type": "execute_result",
          "data": {
            "text/plain": [
              "{11, 22, 33, 44, 66, 77, 88, 99, 101, 555, 666, 777, 12369.2333}"
            ]
          },
          "metadata": {},
          "execution_count": 30
        }
      ]
    },
    {
      "cell_type": "code",
      "source": [
        "s2"
      ],
      "metadata": {
        "colab": {
          "base_uri": "https://localhost:8080/"
        },
        "id": "syMgsu0NBqBR",
        "outputId": "b5b28e2a-8b66-4143-ab79-2bcecc3e2e77"
      },
      "execution_count": null,
      "outputs": [
        {
          "output_type": "execute_result",
          "data": {
            "text/plain": [
              "{555, 666, 777}"
            ]
          },
          "metadata": {},
          "execution_count": 31
        }
      ]
    },
    {
      "cell_type": "code",
      "source": [
        "# 3.\n",
        "# remove()  - element not found --> error\n",
        "# discard()                     --> no error\n",
        "\n",
        "s2.remove(555)\n",
        "print(s2)"
      ],
      "metadata": {
        "colab": {
          "base_uri": "https://localhost:8080/"
        },
        "id": "L3DlboRZBsG_",
        "outputId": "03a8cc95-ff9c-4311-e146-df80f046265a"
      },
      "execution_count": null,
      "outputs": [
        {
          "output_type": "stream",
          "name": "stdout",
          "text": [
            "{777, 666}\n"
          ]
        }
      ]
    },
    {
      "cell_type": "code",
      "source": [
        "s2.remove(111)"
      ],
      "metadata": {
        "colab": {
          "base_uri": "https://localhost:8080/",
          "height": 171
        },
        "id": "LoqV6-ELCEHL",
        "outputId": "4badef64-4d46-44d1-8448-322a7e2070ac"
      },
      "execution_count": null,
      "outputs": [
        {
          "output_type": "error",
          "ename": "KeyError",
          "evalue": "ignored",
          "traceback": [
            "\u001b[0;31m---------------------------------------------------------------------------\u001b[0m",
            "\u001b[0;31mKeyError\u001b[0m                                  Traceback (most recent call last)",
            "\u001b[0;32m<ipython-input-34-8a0d251c988b>\u001b[0m in \u001b[0;36m<module>\u001b[0;34m\u001b[0m\n\u001b[0;32m----> 1\u001b[0;31m \u001b[0ms2\u001b[0m\u001b[0;34m.\u001b[0m\u001b[0mremove\u001b[0m\u001b[0;34m(\u001b[0m\u001b[0;36m111\u001b[0m\u001b[0;34m)\u001b[0m\u001b[0;34m\u001b[0m\u001b[0;34m\u001b[0m\u001b[0m\n\u001b[0m",
            "\u001b[0;31mKeyError\u001b[0m: 111"
          ]
        }
      ]
    },
    {
      "cell_type": "code",
      "source": [
        "s2.discard(666)\n",
        "print(s2)"
      ],
      "metadata": {
        "colab": {
          "base_uri": "https://localhost:8080/"
        },
        "id": "yeA0ddL7CG82",
        "outputId": "ec67b5cf-9a28-4368-c4d2-1b951951f693"
      },
      "execution_count": null,
      "outputs": [
        {
          "output_type": "stream",
          "name": "stdout",
          "text": [
            "{777}\n"
          ]
        }
      ]
    },
    {
      "cell_type": "code",
      "source": [
        "s2.discard(111)"
      ],
      "metadata": {
        "id": "Nc3k_n7LCMx-"
      },
      "execution_count": null,
      "outputs": []
    },
    {
      "cell_type": "markdown",
      "source": [
        "# **Lecture 6 -> DATA STRUCTURE - DICTIONARY**"
      ],
      "metadata": {
        "id": "EU5Q-H2lJTgb"
      }
    },
    {
      "cell_type": "code",
      "source": [
        "Dict = {1: 'Jan', 2: 'Feb', 3:'Mar' , 4:'Apr' , 5: 'May' , 6:'Jun' , 7:'Jul' , 8:'Aug'}\n",
        "data = int(input(\"Enter number:\"))\n",
        "if 0<data<13:\n",
        "  print(Dict[data])\n",
        "else:\n",
        "  print(\"wrong choice\")"
      ],
      "metadata": {
        "id": "zLINflslJYCT"
      },
      "execution_count": null,
      "outputs": []
    },
    {
      "cell_type": "code",
      "source": [
        "di = {1: 'Jan', 2: 'Feb', 3:'Mar' , 4:'Apr' , 5: 'May' , 6:'Jun' , 7:'Jul' , 8:'Aug'}   "
      ],
      "metadata": {
        "id": "2c6B27hgJX_n"
      },
      "execution_count": null,
      "outputs": []
    },
    {
      "cell_type": "code",
      "source": [
        "di['amar'] = 'panchal'\n",
        "di[9.999] = 3.159"
      ],
      "metadata": {
        "id": "6b9eDSy3JX8z"
      },
      "execution_count": null,
      "outputs": []
    },
    {
      "cell_type": "code",
      "source": [
        "di"
      ],
      "metadata": {
        "id": "rn77oDn9JX6D",
        "colab": {
          "base_uri": "https://localhost:8080/"
        },
        "outputId": "33049e27-e708-440b-ea38-7c3b6d17cdff"
      },
      "execution_count": null,
      "outputs": [
        {
          "output_type": "execute_result",
          "data": {
            "text/plain": [
              "{1: 'Jan',\n",
              " 2: 'Feb',\n",
              " 3: 'Mar',\n",
              " 4: 'Apr',\n",
              " 5: 'May',\n",
              " 6: 'Jun',\n",
              " 7: 'Jul',\n",
              " 8: 'Aug',\n",
              " 'amar': 'panchal',\n",
              " 9.999: 3.159}"
            ]
          },
          "metadata": {},
          "execution_count": 7
        }
      ]
    },
    {
      "cell_type": "code",
      "source": [
        "for i in di:\n",
        "  print(i,\"-->\",di[i])"
      ],
      "metadata": {
        "colab": {
          "base_uri": "https://localhost:8080/"
        },
        "id": "rosfgUhB9rQ5",
        "outputId": "9f7622ee-f478-4cff-caaa-148fa924fd1c"
      },
      "execution_count": null,
      "outputs": [
        {
          "output_type": "stream",
          "name": "stdout",
          "text": [
            "1 --> Jan\n",
            "2 --> Feb\n",
            "3 --> Mar\n",
            "4 --> Apr\n",
            "5 --> May\n",
            "6 --> Jun\n",
            "7 --> Jul\n",
            "8 --> Aug\n",
            "amar --> panchal\n",
            "9.999 --> 3.159\n"
          ]
        }
      ]
    },
    {
      "cell_type": "code",
      "source": [
        "#Q1 - print no in words \n",
        "# e.g user input -> 286  o/p -> two eight six\n",
        "\n",
        "no = {1: 'one', 2: 'two', 3:'three' , 4:'four' , 5: 'five' , 6:'six' , 7:'seven' , 8:'eight' , 9:'nine', 0:'zero'}\n",
        "\n",
        "user = input(\"Enter a number:\")\n",
        "\n",
        "for i in user:\n",
        "  print(no[int(i)],end =\" \")"
      ],
      "metadata": {
        "colab": {
          "base_uri": "https://localhost:8080/"
        },
        "id": "Lr5mIPon9_9A",
        "outputId": "a56d332f-6356-4c8b-96fa-90cd805675f6"
      },
      "execution_count": null,
      "outputs": [
        {
          "output_type": "stream",
          "name": "stdout",
          "text": [
            "Enter a number:897\n",
            "eight nine seven "
          ]
        }
      ]
    },
    {
      "cell_type": "markdown",
      "source": [
        "# **Lecture 7 -> DATA STRUCTURE - 2 Interview Q's**\n",
        "\n",
        "---\n",
        "\n"
      ],
      "metadata": {
        "id": "rfw3ctJ-Or9B"
      }
    },
    {
      "cell_type": "code",
      "source": [
        "# Q1) Convert given datalist into list,tuple and set.\n",
        "\n",
        "# Ans: we haven given three methods \n",
        "# i)    list()\n",
        "# ii)   tuple()\n",
        "# iii)  set()\n",
        "\n",
        "dl=[11,22,33,44,55,11,22,33,11]\n",
        "print(type(dl))\n"
      ],
      "metadata": {
        "id": "AoSFKIJVOrQJ",
        "colab": {
          "base_uri": "https://localhost:8080/"
        },
        "outputId": "e423409b-c389-4a5c-ea91-a4f88512f920"
      },
      "execution_count": null,
      "outputs": [
        {
          "output_type": "stream",
          "name": "stdout",
          "text": [
            "<class 'list'>\n"
          ]
        }
      ]
    },
    {
      "cell_type": "code",
      "source": [
        "t=tuple(dl)\n",
        "print(t,type(t))"
      ],
      "metadata": {
        "colab": {
          "base_uri": "https://localhost:8080/"
        },
        "id": "80vRG7b2Ho3f",
        "outputId": "1ddbc1e0-8cc8-4ec5-d3b3-0713e9b02af0"
      },
      "execution_count": null,
      "outputs": [
        {
          "output_type": "stream",
          "name": "stdout",
          "text": [
            "(11, 22, 33, 44, 55, 11, 22, 33, 11) <class 'tuple'>\n"
          ]
        }
      ]
    },
    {
      "cell_type": "code",
      "source": [
        "se=set(dl)\n",
        "print(se,type(se))"
      ],
      "metadata": {
        "colab": {
          "base_uri": "https://localhost:8080/"
        },
        "id": "5wtiGgbLH0Bw",
        "outputId": "a9632c51-9db5-4c96-d94d-e6905dd146cf"
      },
      "execution_count": null,
      "outputs": [
        {
          "output_type": "stream",
          "name": "stdout",
          "text": [
            "{33, 11, 44, 22, 55} <class 'set'>\n"
          ]
        }
      ]
    },
    {
      "cell_type": "code",
      "source": [
        "# Q2) Difference between sorted() and sort()\n",
        "\n",
        "# Ans:\n",
        "# sort() function is very similar to sorted() but unlike sorted it returns nothing and makes changes to the original sequence. \n",
        "# Moreover, sort() is a method of list class and can only be used with lists.\n",
        "\n",
        "# List of Integers\n",
        "numbers = [1, 3, 4, 2]\n",
        "   \n",
        "# Sorting list of Integers\n",
        "numbers.sort()\n",
        "   \n",
        "print(numbers)"
      ],
      "metadata": {
        "colab": {
          "base_uri": "https://localhost:8080/"
        },
        "id": "z1wX0xAiH-4Y",
        "outputId": "cdf1796f-049e-4f35-eae1-10df155a0aa2"
      },
      "execution_count": null,
      "outputs": [
        {
          "output_type": "stream",
          "name": "stdout",
          "text": [
            "[1, 2, 3, 4]\n"
          ]
        }
      ]
    },
    {
      "cell_type": "code",
      "source": [
        "L = [58,68,74,12,0,87,0.5]\n",
        "L.sort() #sorts permanently "
      ],
      "metadata": {
        "id": "_NXjIZmJI1VA"
      },
      "execution_count": null,
      "outputs": []
    },
    {
      "cell_type": "code",
      "source": [
        "L"
      ],
      "metadata": {
        "colab": {
          "base_uri": "https://localhost:8080/"
        },
        "id": "1qtpDDk7K8-R",
        "outputId": "175c6bb8-c74f-4141-b501-59a3f425cef8"
      },
      "execution_count": null,
      "outputs": [
        {
          "output_type": "execute_result",
          "data": {
            "text/plain": [
              "[0, 0.5, 12, 58, 68, 74, 87]"
            ]
          },
          "metadata": {},
          "execution_count": 23
        }
      ]
    },
    {
      "cell_type": "code",
      "source": [
        "L = [58,68,74,12,0,87,0.5]\n",
        "sorted(L) #sorts temporarily  "
      ],
      "metadata": {
        "colab": {
          "base_uri": "https://localhost:8080/"
        },
        "id": "1mreTtd_LLcx",
        "outputId": "116ec58f-af06-4e24-d384-7b40f9420c41"
      },
      "execution_count": null,
      "outputs": [
        {
          "output_type": "execute_result",
          "data": {
            "text/plain": [
              "[0, 0.5, 12, 58, 68, 74, 87]"
            ]
          },
          "metadata": {},
          "execution_count": 24
        }
      ]
    },
    {
      "cell_type": "code",
      "source": [
        "L"
      ],
      "metadata": {
        "colab": {
          "base_uri": "https://localhost:8080/"
        },
        "id": "M8g7TwBTLQ4B",
        "outputId": "244d280f-82d1-4f11-85fa-6382813fc8e1"
      },
      "execution_count": null,
      "outputs": [
        {
          "output_type": "execute_result",
          "data": {
            "text/plain": [
              "[58, 68, 74, 12, 0, 87, 0.5]"
            ]
          },
          "metadata": {},
          "execution_count": 25
        }
      ]
    },
    {
      "cell_type": "code",
      "source": [
        "# Q3. add element if it is not in the list\n",
        "\n",
        "# Ans: use of membership operators in/not in73.5689875\n",
        "dl=[]\n",
        "while True:\n",
        "    no=int(input(\"insert a number -ve to stop:\"))\n",
        "    if no<0:\n",
        "        break\n",
        "    if no not in dl:\n",
        "        dl.append(no)\n",
        "    else:\n",
        "        print(\"already present:\")\n",
        "    "
      ],
      "metadata": {
        "colab": {
          "base_uri": "https://localhost:8080/"
        },
        "id": "k6RMPei0RsNS",
        "outputId": "38567eef-cfb1-4444-ee6b-718052ce5169"
      },
      "execution_count": null,
      "outputs": [
        {
          "name": "stdout",
          "output_type": "stream",
          "text": [
            "insert a number -ve to stop:56\n",
            "insert a number -ve to stop:65\n",
            "insert a number -ve to stop:9\n",
            "insert a number -ve to stop:787\n",
            "insert a number -ve to stop:5244\n",
            "insert a number -ve to stop:77\n",
            "insert a number -ve to stop:-1\n"
          ]
        }
      ]
    },
    {
      "cell_type": "code",
      "source": [
        "# Q4. Find average in minimum no of lines\n",
        "dl=[11,22,33,11,44,55,66,11]\n",
        "print(\"Average:\",sum(dl)/len(dl))"
      ],
      "metadata": {
        "colab": {
          "base_uri": "https://localhost:8080/"
        },
        "id": "z-JQQlO8JmlJ",
        "outputId": "1424458c-54b0-4504-8f7c-559d58e05401"
      },
      "execution_count": null,
      "outputs": [
        {
          "output_type": "stream",
          "name": "stdout",
          "text": [
            "Average: 31.625\n"
          ]
        }
      ]
    },
    {
      "cell_type": "code",
      "source": [
        "# Q5) create 2 list one for even other for odd\n",
        "\n",
        "dl=[1,4,2,3,8,9,34,22,11,56,24,55,11]\n",
        "dle,dlo=[],[]\n",
        "\n",
        "for i in dl:\n",
        "  if i%2==0:\n",
        "    dle.append(i)\n",
        "  else:\n",
        "    dlo.append(i)\n",
        "print(\"Even List\",dle)\n",
        "print(\"Odd List\",dlo)\n",
        "print(\"Unique list\",set(dle),set(dlo))"
      ],
      "metadata": {
        "colab": {
          "base_uri": "https://localhost:8080/"
        },
        "id": "VnW7ZdfETKkQ",
        "outputId": "e4cd07d0-90cd-498d-fd5a-3589edd620da"
      },
      "execution_count": null,
      "outputs": [
        {
          "output_type": "stream",
          "name": "stdout",
          "text": [
            "Even List [4, 2, 8, 34, 22, 56, 24]\n",
            "Odd List [1, 3, 9, 11, 55, 11]\n",
            "Unique list {2, 34, 4, 8, 22, 56, 24} {1, 3, 9, 11, 55}\n"
          ]
        }
      ]
    },
    {
      "cell_type": "code",
      "source": [
        "# Q6. create 2 list one element> avg and other elements<= avag\n",
        "\n",
        "dl=[1,4,2,3,8,9,34,22,11,56,24,55,11]\n",
        "dle,dlo=[],[]\n",
        "avg = sum(dl)/len(dl)\n",
        "\n",
        "for i in dl:\n",
        "  if i>avg:\n",
        "    dle.append(i)\n",
        "  else:\n",
        "    dlo.append(i)\n",
        "print(\"More Avg\",dle)\n",
        "print(\"Less Than Avg\",dlo)\n",
        "print(\"Unique list\",set(dle),set(dlo))"
      ],
      "metadata": {
        "colab": {
          "base_uri": "https://localhost:8080/"
        },
        "id": "RpVmfRq2UaUv",
        "outputId": "0d1bb1b1-d223-4a70-96f5-5e2a7a1c3f0d"
      },
      "execution_count": null,
      "outputs": [
        {
          "output_type": "stream",
          "name": "stdout",
          "text": [
            "More Avg [34, 22, 56, 24, 55]\n",
            "Less Than Avg [1, 4, 2, 3, 8, 9, 11, 11]\n",
            "Unique list {34, 22, 55, 56, 24} {1, 2, 3, 4, 8, 9, 11}\n"
          ]
        }
      ]
    },
    {
      "cell_type": "code",
      "source": [
        "# Q7. Replace in circular Array \n",
        "dl=[5,11,7,2,44,87,12,56,23,89,4,22,48]\n",
        "\n",
        "#replace 1 and last from each position \n",
        "# e.g\n",
        "# dl=[48,11,7,2,44,87,12,56,23,89,4,22,5]\n",
        "# dl=[48,22,7,2,44,87,12,56,23,89,4,11,5]\n",
        "# dl=[48,22,4,2,44,87,12,56,23,89,7,11,5]\n",
        "\n",
        "for i in range(len(dl)):\n",
        "    dl[i],dl[len(dl)-1-i]=dl[len(dl)-1-i],dl[i]\n",
        "    print(\"Pass\",(i+1),\"\\n\",dl)"
      ],
      "metadata": {
        "colab": {
          "base_uri": "https://localhost:8080/"
        },
        "id": "2FHB5I_GWkRW",
        "outputId": "531c338f-e6b4-408e-d016-1f075a85b113"
      },
      "execution_count": null,
      "outputs": [
        {
          "output_type": "stream",
          "name": "stdout",
          "text": [
            "Pass 1 \n",
            " [48, 11, 7, 2, 44, 87, 12, 56, 23, 89, 4, 22, 5]\n",
            "Pass 2 \n",
            " [48, 22, 7, 2, 44, 87, 12, 56, 23, 89, 4, 11, 5]\n",
            "Pass 3 \n",
            " [48, 22, 4, 2, 44, 87, 12, 56, 23, 89, 7, 11, 5]\n",
            "Pass 4 \n",
            " [48, 22, 4, 89, 44, 87, 12, 56, 23, 2, 7, 11, 5]\n",
            "Pass 5 \n",
            " [48, 22, 4, 89, 23, 87, 12, 56, 44, 2, 7, 11, 5]\n",
            "Pass 6 \n",
            " [48, 22, 4, 89, 23, 56, 12, 87, 44, 2, 7, 11, 5]\n",
            "Pass 7 \n",
            " [48, 22, 4, 89, 23, 56, 12, 87, 44, 2, 7, 11, 5]\n",
            "Pass 8 \n",
            " [48, 22, 4, 89, 23, 87, 12, 56, 44, 2, 7, 11, 5]\n",
            "Pass 9 \n",
            " [48, 22, 4, 89, 44, 87, 12, 56, 23, 2, 7, 11, 5]\n",
            "Pass 10 \n",
            " [48, 22, 4, 2, 44, 87, 12, 56, 23, 89, 7, 11, 5]\n",
            "Pass 11 \n",
            " [48, 22, 7, 2, 44, 87, 12, 56, 23, 89, 4, 11, 5]\n",
            "Pass 12 \n",
            " [48, 11, 7, 2, 44, 87, 12, 56, 23, 89, 4, 22, 5]\n",
            "Pass 13 \n",
            " [5, 11, 7, 2, 44, 87, 12, 56, 23, 89, 4, 22, 48]\n"
          ]
        }
      ]
    },
    {
      "cell_type": "code",
      "source": [
        "dl=[5,11,7,2,44,87,12,56,23,89,4,22,48]\n",
        "#replace 1 and last from each position \n",
        "j=-1\n",
        "for i in range(len(dl)):\n",
        "    dl[i],dl[j]=dl[j],dl[i]\n",
        "    print(\"Pass\",(i+1),\"\\n\",dl)\n",
        "    j-=1"
      ],
      "metadata": {
        "colab": {
          "base_uri": "https://localhost:8080/"
        },
        "id": "PSF9E_DaKoXo",
        "outputId": "22262989-a669-41be-fb4c-79d068151dfe"
      },
      "execution_count": null,
      "outputs": [
        {
          "output_type": "stream",
          "name": "stdout",
          "text": [
            "Pass 1 \n",
            " [48, 11, 7, 2, 44, 87, 12, 56, 23, 89, 4, 22, 5]\n",
            "Pass 2 \n",
            " [48, 22, 7, 2, 44, 87, 12, 56, 23, 89, 4, 11, 5]\n",
            "Pass 3 \n",
            " [48, 22, 4, 2, 44, 87, 12, 56, 23, 89, 7, 11, 5]\n",
            "Pass 4 \n",
            " [48, 22, 4, 89, 44, 87, 12, 56, 23, 2, 7, 11, 5]\n",
            "Pass 5 \n",
            " [48, 22, 4, 89, 23, 87, 12, 56, 44, 2, 7, 11, 5]\n",
            "Pass 6 \n",
            " [48, 22, 4, 89, 23, 56, 12, 87, 44, 2, 7, 11, 5]\n",
            "Pass 7 \n",
            " [48, 22, 4, 89, 23, 56, 12, 87, 44, 2, 7, 11, 5]\n",
            "Pass 8 \n",
            " [48, 22, 4, 89, 23, 87, 12, 56, 44, 2, 7, 11, 5]\n",
            "Pass 9 \n",
            " [48, 22, 4, 89, 44, 87, 12, 56, 23, 2, 7, 11, 5]\n",
            "Pass 10 \n",
            " [48, 22, 4, 2, 44, 87, 12, 56, 23, 89, 7, 11, 5]\n",
            "Pass 11 \n",
            " [48, 22, 7, 2, 44, 87, 12, 56, 23, 89, 4, 11, 5]\n",
            "Pass 12 \n",
            " [48, 11, 7, 2, 44, 87, 12, 56, 23, 89, 4, 22, 5]\n",
            "Pass 13 \n",
            " [5, 11, 7, 2, 44, 87, 12, 56, 23, 89, 4, 22, 48]\n"
          ]
        }
      ]
    },
    {
      "cell_type": "code",
      "source": [
        "# Q8. Double the list,tuple\n",
        "\n",
        "de=[11,22,33]*2"
      ],
      "metadata": {
        "id": "i86Yb1kOLmcR"
      },
      "execution_count": null,
      "outputs": []
    },
    {
      "cell_type": "code",
      "source": [
        "de"
      ],
      "metadata": {
        "colab": {
          "base_uri": "https://localhost:8080/"
        },
        "id": "YK51J2OoLr3x",
        "outputId": "0f469e63-44f7-451d-882e-57df37aa4d72"
      },
      "execution_count": null,
      "outputs": [
        {
          "output_type": "execute_result",
          "data": {
            "text/plain": [
              "[11, 22, 33, 11, 22, 33]"
            ]
          },
          "metadata": {},
          "execution_count": 31
        }
      ]
    },
    {
      "cell_type": "code",
      "source": [
        "d=(11,22,33)*2"
      ],
      "metadata": {
        "id": "GxX1_odwLnNp"
      },
      "execution_count": null,
      "outputs": []
    },
    {
      "cell_type": "code",
      "source": [
        "d"
      ],
      "metadata": {
        "colab": {
          "base_uri": "https://localhost:8080/"
        },
        "id": "6RJxLcn0LtLA",
        "outputId": "d259d01c-1287-4545-b481-4b70017c846a"
      },
      "execution_count": null,
      "outputs": [
        {
          "output_type": "execute_result",
          "data": {
            "text/plain": [
              "(11, 22, 33, 11, 22, 33)"
            ]
          },
          "metadata": {},
          "execution_count": 33
        }
      ]
    },
    {
      "cell_type": "code",
      "source": [
        "# Q9. Cycling the list without use of index base operation\n",
        "dl=[1,2,3,4,5,6]\n",
        "\n",
        "for i in range(len(dl)):\n",
        "  dl.append(dl.pop(0))\n",
        "  print(dl)"
      ],
      "metadata": {
        "colab": {
          "base_uri": "https://localhost:8080/"
        },
        "id": "QSFJs3jDWoBB",
        "outputId": "8283416a-160d-4fd6-a94e-62002a76c75b"
      },
      "execution_count": null,
      "outputs": [
        {
          "output_type": "stream",
          "name": "stdout",
          "text": [
            "[2, 3, 4, 5, 6, 1]\n",
            "[3, 4, 5, 6, 1, 2]\n",
            "[4, 5, 6, 1, 2, 3]\n",
            "[5, 6, 1, 2, 3, 4]\n",
            "[6, 1, 2, 3, 4, 5]\n",
            "[1, 2, 3, 4, 5, 6]\n"
          ]
        }
      ]
    },
    {
      "cell_type": "code",
      "source": [
        "# Q10) Reverse-cycling the list without use of index base operation\n",
        "d1=[1,2,3,4,5]\n",
        "for i in range(len(d1)):\n",
        "    d1.insert(0,d1.pop(-1))\n",
        "    print(\"Pass:\",(i+1),d1)\n"
      ],
      "metadata": {
        "colab": {
          "base_uri": "https://localhost:8080/"
        },
        "id": "VLg8uDqcb36t",
        "outputId": "c4812b90-7289-4f2e-ef5c-8d67cb938be7"
      },
      "execution_count": null,
      "outputs": [
        {
          "output_type": "stream",
          "name": "stdout",
          "text": [
            "Pass: 1 [5, 1, 2, 3, 4]\n",
            "Pass: 2 [4, 5, 1, 2, 3]\n",
            "Pass: 3 [3, 4, 5, 1, 2]\n",
            "Pass: 4 [2, 3, 4, 5, 1]\n",
            "Pass: 5 [1, 2, 3, 4, 5]\n"
          ]
        }
      ]
    },
    {
      "cell_type": "code",
      "source": [
        "# Q11. Find common elements in both list\n",
        "\n",
        "d1=[1,2,3,4,5]\n",
        "d2=[3,4,5,6,7,8]\n",
        "print(\"Common elements are:\",set(d1)&set(d2))"
      ],
      "metadata": {
        "id": "gc8WzbvEMo-Z"
      },
      "execution_count": null,
      "outputs": []
    },
    {
      "cell_type": "code",
      "source": [
        "# Q12. Convert elemnets of list\n",
        "# if even no*2\n",
        "# if odd no/2\n",
        "dl=[1,2,3,4,5,10,21,22,45,46]\n",
        "for i in range(len(dl)):\n",
        "  if dl[i]%2==0:\n",
        "    dl[i]/=2\n",
        "  else:\n",
        "    dl[i]*=2\n",
        "print(dl)"
      ],
      "metadata": {
        "colab": {
          "base_uri": "https://localhost:8080/"
        },
        "id": "sGRUrn5acjqE",
        "outputId": "ef4df155-7fae-492b-9edc-53f0c8bad513"
      },
      "execution_count": null,
      "outputs": [
        {
          "output_type": "stream",
          "name": "stdout",
          "text": [
            "[2, 1.0, 6, 2.0, 10, 5.0, 42, 11.0, 90, 23.0]\n"
          ]
        }
      ]
    },
    {
      "cell_type": "code",
      "source": [
        "# Q13) zig-zag merge\n",
        "d1=[11,22,33,44]\n",
        "d2=[10,20,30,40,50,60,70]\n",
        "d3=[]\n",
        "i=j=0\n",
        "while i<len(d1) and j<len(d2):\n",
        "    d3.append(d1[i])\n",
        "    d3.append(d2[j])\n",
        "    i+=1\n",
        "    j+=1\n",
        "while i<len(d1):\n",
        "    d3.append(d1[i])\n",
        "    i+=1\n",
        "while j<len(d2):\n",
        "    d3.append(d2[j])\n",
        "    j+=1\n",
        "print(d3)"
      ],
      "metadata": {
        "colab": {
          "base_uri": "https://localhost:8080/"
        },
        "id": "cW5YAmj3ghuj",
        "outputId": "4c0bacdb-43c1-4bf4-fc61-7161a3f6edb8"
      },
      "execution_count": null,
      "outputs": [
        {
          "output_type": "stream",
          "name": "stdout",
          "text": [
            "[11, 10, 22, 20, 33, 30, 44, 40, 50, 60, 70]\n"
          ]
        }
      ]
    },
    {
      "cell_type": "code",
      "source": [
        "# Q13. Other way to do it\n",
        "\n",
        "d1=[11,22,33,44]\n",
        "d2=[10,20,30,40,50,60,70]\n",
        "d3=d1+d2 \n",
        "print(sorted(d3))"
      ],
      "metadata": {
        "id": "C4oQpsiShWBz",
        "colab": {
          "base_uri": "https://localhost:8080/"
        },
        "outputId": "2098dc0d-edba-4739-8e84-f97fd93cddae"
      },
      "execution_count": null,
      "outputs": [
        {
          "output_type": "stream",
          "name": "stdout",
          "text": [
            "[10, 11, 20, 22, 30, 33, 40, 44, 50, 60, 70]\n"
          ]
        }
      ]
    },
    {
      "cell_type": "code",
      "source": [
        "# Q14. Take n elements \n",
        "# 1) Print unique elements \n",
        "# 2) Count repetiton of each\n",
        "# 3) Print freq of each in sorted order.\n",
        "\n",
        "dl=[]\n",
        "while True:\n",
        "    no=int(input(\"insert a number -ve to stop:\"))\n",
        "    if no<0:\n",
        "        break\n",
        "    else:\n",
        "      dl.append(no)\n",
        "      11\n",
        "us = set(dl)\n",
        "print(us)\n",
        "\n",
        "\n",
        "for i in sorted(us):\n",
        "  print(i,\"-->\",dl.count(i))\n"
      ],
      "metadata": {
        "colab": {
          "base_uri": "https://localhost:8080/"
        },
        "id": "3LEZ9UhIFpgW",
        "outputId": "25950c7d-61d6-4afa-c378-b28a698d4a49"
      },
      "execution_count": null,
      "outputs": [
        {
          "output_type": "stream",
          "name": "stdout",
          "text": [
            "insert a number -ve to stop:55\n",
            "insert a number -ve to stop:555\n",
            "insert a number -ve to stop:11\n",
            "insert a number -ve to stop:22\n",
            "insert a number -ve to stop:11\n",
            "insert a number -ve to stop:55\n",
            "insert a number -ve to stop:-1\n",
            "{11, 555, 22, 55}\n",
            "11 --> 2\n",
            "22 --> 1\n",
            "55 --> 2\n",
            "555 --> 1\n"
          ]
        }
      ]
    }
  ]
}