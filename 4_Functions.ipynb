{
  "nbformat": 4,
  "nbformat_minor": 0,
  "metadata": {
    "colab": {
      "provenance": [],
      "collapsed_sections": [],
      "authorship_tag": "ABX9TyNJk1l/faEhWULABpBfzXny",
      "include_colab_link": true
    },
    "kernelspec": {
      "name": "python3",
      "display_name": "Python 3"
    },
    "language_info": {
      "name": "python"
    }
  },
  "cells": [
    {
      "cell_type": "markdown",
      "metadata": {
        "id": "view-in-github",
        "colab_type": "text"
      },
      "source": [
        "<a href=\"https://colab.research.google.com/github/raj1652/Python/blob/main/4_Functions.ipynb\" target=\"_parent\"><img src=\"https://colab.research.google.com/assets/colab-badge.svg\" alt=\"Open In Colab\"/></a>"
      ]
    },
    {
      "cell_type": "markdown",
      "source": [
        "**Lecture 10 -> Functions**\n",
        "---\n",
        "---\n",
        "1. Method Overloading   \n",
        "2. Nesting of Functions\n",
        "3. Keyword Parameter\n",
        "4. Default Value Parameter\n",
        "5. Variable Size Parameter\n",
        "6. Recursion\n",
        "7. Pass by value\n",
        "8. Pass by reference\n",
        "9. Generator - Yield Concept\n",
        "10. Iterator\n",
        "\n"
      ],
      "metadata": {
        "id": "TVjbqAAoJwJK"
      }
    },
    {
      "cell_type": "code",
      "execution_count": null,
      "metadata": {
        "id": "PGSH8T6d9mVJ"
      },
      "outputs": [],
      "source": [
        "def ralph(name):\n",
        "  print(\"Hello,\",name,\"\\nralph is here to help !\")"
      ]
    },
    {
      "cell_type": "code",
      "source": [
        "ralph(\"amar sir\")\n"
      ],
      "metadata": {
        "colab": {
          "base_uri": "https://localhost:8080/"
        },
        "id": "xSX3WQdq97K6",
        "outputId": "057d87e1-8441-4e80-f077-fab9a187a103"
      },
      "execution_count": null,
      "outputs": [
        {
          "output_type": "stream",
          "name": "stdout",
          "text": [
            "Hello, amar sir \n",
            "ralph is here to help !\n"
          ]
        }
      ]
    },
    {
      "cell_type": "code",
      "source": [
        "# 1. Method Overloading\n",
        "# function with same name but multiple opeartion support\n",
        "\n",
        "def add(p1,p2):\n",
        "  print()"
      ],
      "metadata": {
        "id": "gglPGOxJ_MWa"
      },
      "execution_count": null,
      "outputs": []
    },
    {
      "cell_type": "code",
      "source": [
        "# 2. Nesting of Functions\n",
        "def min(m1,m2):\n",
        "  if m1>m2:\n",
        "    print(m2, \"is minimum\")\n",
        "  elif m2>m1:\n",
        "    print(m1, \"is minimum\")\n",
        "  else:\n",
        "    print(\"they are equal\") "
      ],
      "metadata": {
        "id": "RrlR-Exs_274"
      },
      "execution_count": null,
      "outputs": []
    },
    {
      "cell_type": "code",
      "source": [
        "min(45,5)"
      ],
      "metadata": {
        "colab": {
          "base_uri": "https://localhost:8080/"
        },
        "id": "XomyLh_dA_Ai",
        "outputId": "11b659b7-90f6-4c67-ff60-c061b7cc65d1"
      },
      "execution_count": null,
      "outputs": [
        {
          "output_type": "stream",
          "name": "stdout",
          "text": [
            "5 is minimum\n"
          ]
        }
      ]
    },
    {
      "cell_type": "code",
      "source": [
        "# pass by value\n",
        "def min(m1,m2):\n",
        "  if m1>m2:\n",
        "    return m2\n",
        "  elif m2>m1:\n",
        "    return m1\n",
        "  else:\n",
        "    print(\"they are equal\") "
      ],
      "metadata": {
        "id": "SqnQ16S1BCua"
      },
      "execution_count": null,
      "outputs": []
    },
    {
      "cell_type": "code",
      "source": [
        "c = min(int(input(\"Enter no1:\")),int(input(\"Enter no2:\")))\n",
        "print(\"Minimum is:\",c,type(c))"
      ],
      "metadata": {
        "colab": {
          "base_uri": "https://localhost:8080/"
        },
        "id": "pxnpxiWKBac6",
        "outputId": "6775d9eb-45bf-4aa9-b323-39bbffd2f83a"
      },
      "execution_count": null,
      "outputs": [
        {
          "output_type": "stream",
          "name": "stdout",
          "text": [
            "Enter no1:58\n",
            "Enter no2:85\n",
            "Minimum is: 58 <class 'int'>\n"
          ]
        }
      ]
    },
    {
      "cell_type": "code",
      "source": [
        "#On returning multiple values , packed in tuple\n",
        "def min(m1,m2):\n",
        "  if m1>m2:\n",
        "    return (m2,m1)\n",
        "  elif m2>m1:\n",
        "    return (m1,m2)\n",
        "  else:\n",
        "    print(\"they are equal\") "
      ],
      "metadata": {
        "id": "3FMKptE-BytK"
      },
      "execution_count": null,
      "outputs": []
    },
    {
      "cell_type": "code",
      "source": [
        "c = min(int(input(\"Enter no1:\")),int(input(\"Enter no2:\")))\n",
        "print(\"Minimum is:\",c,type(c))"
      ],
      "metadata": {
        "colab": {
          "base_uri": "https://localhost:8080/"
        },
        "id": "bm2DP5D2ChLa",
        "outputId": "8323d956-10fb-4a88-d4d0-566991dd5d17"
      },
      "execution_count": null,
      "outputs": [
        {
          "output_type": "stream",
          "name": "stdout",
          "text": [
            "Enter no1:55\n",
            "Enter no2:66\n",
            "Minimum is: (55, 66) <class 'tuple'>\n"
          ]
        }
      ]
    },
    {
      "cell_type": "code",
      "source": [
        "def min(m1,m2):\n",
        "  if m1>m2:\n",
        "    return m2\n",
        "  elif m2>m1:\n",
        "    return m1\n",
        "  else:\n",
        "    return m1"
      ],
      "metadata": {
        "id": "pH-YtDnoD5V9"
      },
      "execution_count": null,
      "outputs": []
    },
    {
      "cell_type": "code",
      "source": [
        "c = min(min(4,7),min(11,11))"
      ],
      "metadata": {
        "id": "cMeNYd5OD6tj"
      },
      "execution_count": null,
      "outputs": []
    },
    {
      "cell_type": "code",
      "source": [
        "c"
      ],
      "metadata": {
        "colab": {
          "base_uri": "https://localhost:8080/"
        },
        "id": "DIMiiPyYEBkT",
        "outputId": "081b8dea-9a5b-4551-a309-ee6d3a4d8fe4"
      },
      "execution_count": null,
      "outputs": [
        {
          "output_type": "execute_result",
          "data": {
            "text/plain": [
              "4"
            ]
          },
          "metadata": {},
          "execution_count": 32
        }
      ]
    },
    {
      "cell_type": "code",
      "source": [
        "# Q) WAP to make TAX CALCULATOR \n",
        "# 10% tax on amt > 1000\n",
        "# 5%  tax on amt >500\n",
        "# 1%  tax on amt >100\n",
        "# return tax\n",
        "\n",
        "def taxCalculate(amt):\n",
        "  if amt>1000:\n",
        "    return amt*0.1\n",
        "  elif amt>500:\n",
        "    return amt*0.05\n",
        "  elif amt>100:\n",
        "    return amt*0.01\n",
        "  else:\n",
        "    return 0"
      ],
      "metadata": {
        "id": "FX1Ue_0JEScD"
      },
      "execution_count": null,
      "outputs": []
    },
    {
      "cell_type": "code",
      "source": [
        "sal = float(input(\"Enter salary:\")) \n",
        "print(\"Your Salary after tax deduction\",sal-taxCalculate(sal))"
      ],
      "metadata": {
        "colab": {
          "base_uri": "https://localhost:8080/"
        },
        "id": "tN1Xxf4jF077",
        "outputId": "9b61e7e7-472d-46c0-f214-7dba5ff76b7d"
      },
      "execution_count": null,
      "outputs": [
        {
          "output_type": "stream",
          "name": "stdout",
          "text": [
            "Enter salary:5000\n",
            "Your Salary after tax deduction 4500.0\n"
          ]
        }
      ]
    },
    {
      "cell_type": "code",
      "source": [
        "# 3. Keyword Parameter\n",
        "def intro(name,native):\n",
        "  print(\"Myself\",name,\"and i m from\",native)"
      ],
      "metadata": {
        "id": "DRo7QJH4Hl5N"
      },
      "execution_count": null,
      "outputs": []
    },
    {
      "cell_type": "code",
      "source": [
        "intro(native=\"jamnagar\",name='Ralph')"
      ],
      "metadata": {
        "colab": {
          "base_uri": "https://localhost:8080/"
        },
        "id": "4yi7vzWkIoNc",
        "outputId": "8c181584-d846-443f-95ad-b1381e075605"
      },
      "execution_count": null,
      "outputs": [
        {
          "output_type": "stream",
          "name": "stdout",
          "text": [
            "Myself Ralph and i m from jamnagar\n"
          ]
        }
      ]
    },
    {
      "cell_type": "code",
      "source": [
        "# 4. Default Parameter\n",
        "def intro(name=\"user\",native=\"india\"):\n",
        "  print(\"Myself\",name,\"and i m from\",native)"
      ],
      "metadata": {
        "id": "Ww2d63gHJvZk"
      },
      "execution_count": null,
      "outputs": []
    },
    {
      "cell_type": "code",
      "source": [
        "intro()"
      ],
      "metadata": {
        "colab": {
          "base_uri": "https://localhost:8080/"
        },
        "id": "xoAUbIGEJ5sM",
        "outputId": "0c55ff55-bb14-4a48-8d68-2846d2a7e65c"
      },
      "execution_count": null,
      "outputs": [
        {
          "output_type": "stream",
          "name": "stdout",
          "text": [
            "Myself user and i m from india\n"
          ]
        }
      ]
    },
    {
      "cell_type": "code",
      "source": [
        "intro(name=\"amar sir\")"
      ],
      "metadata": {
        "colab": {
          "base_uri": "https://localhost:8080/"
        },
        "id": "sw5afM30J8-r",
        "outputId": "921bc521-d44f-43ce-f380-c6e4dc5d2de8"
      },
      "execution_count": null,
      "outputs": [
        {
          "output_type": "stream",
          "name": "stdout",
          "text": [
            "Myself amar sir and i m from india\n"
          ]
        }
      ]
    },
    {
      "cell_type": "code",
      "source": [
        "intro(native=\"Ghandinagar\")"
      ],
      "metadata": {
        "colab": {
          "base_uri": "https://localhost:8080/"
        },
        "id": "mZz6zGpuKBKL",
        "outputId": "c3411379-4650-40b5-a0bd-31b2be9672ae"
      },
      "execution_count": null,
      "outputs": [
        {
          "output_type": "stream",
          "name": "stdout",
          "text": [
            "Myself user and i m from Ghandinagar\n"
          ]
        }
      ]
    },
    {
      "cell_type": "code",
      "source": [
        "# 5. Variable size Parameter\n",
        "def hobbies(*h):\n",
        "  print(\"Total Hobbies:\",len(h))\n",
        "  for item in h:\n",
        "    print(item)\n"
      ],
      "metadata": {
        "id": "gcII5nIYLFc8"
      },
      "execution_count": null,
      "outputs": []
    },
    {
      "cell_type": "code",
      "source": [
        "hobbies(\"trek\",'code','swim','squash')"
      ],
      "metadata": {
        "colab": {
          "base_uri": "https://localhost:8080/"
        },
        "id": "AZjJyUg_LaZU",
        "outputId": "5e3b390a-7cce-4807-82a7-4e93b5fbc5e5"
      },
      "execution_count": null,
      "outputs": [
        {
          "output_type": "stream",
          "name": "stdout",
          "text": [
            "Total Hobbies: 4\n",
            "trek\n",
            "code\n",
            "swim\n",
            "squash\n"
          ]
        }
      ]
    },
    {
      "cell_type": "code",
      "source": [
        "hobbies(\"trek\",'swim')"
      ],
      "metadata": {
        "colab": {
          "base_uri": "https://localhost:8080/"
        },
        "id": "Bn4fP_moLlbU",
        "outputId": "303f6017-94fb-4cd1-cddd-bcb0568926d7"
      },
      "execution_count": null,
      "outputs": [
        {
          "output_type": "stream",
          "name": "stdout",
          "text": [
            "Total Hobbies: 2\n",
            "trek\n",
            "swim\n"
          ]
        }
      ]
    },
    {
      "cell_type": "code",
      "source": [
        "# pass n numbers \n",
        "# calculate sum and avg of all\n",
        "# print only elements greater than average\n",
        "\n",
        "\n",
        "def sumavg(*nlist): # will create tuple\n",
        "#  sum(nlist)/len(nlist)\n",
        "  # return(nlist)\n",
        "  for i in nlist:\n",
        "    print(i,type(i),\"\",id(i))"
      ],
      "metadata": {
        "id": "AwuCjl8yL1HU"
      },
      "execution_count": null,
      "outputs": []
    },
    {
      "cell_type": "code",
      "source": [
        "ilist = []\n",
        "tup = (1,2,3,4,ilist)\n",
        "\n",
        "while True:\n",
        "  i = int(input(\"Enter a number and enter -ve to stop:\"))\n",
        "  if i > 0:\n",
        "    ilist.append(i)\n",
        "  else:\n",
        "    break\n",
        "#\n",
        "sumavg(tup)\n",
        "# sumavg([1,2,3,4,5])"
      ],
      "metadata": {
        "colab": {
          "base_uri": "https://localhost:8080/"
        },
        "id": "EwBHbxHlM-jP",
        "outputId": "0833d140-7315-458b-ccc6-762bdead4329"
      },
      "execution_count": null,
      "outputs": [
        {
          "output_type": "stream",
          "name": "stdout",
          "text": [
            "Enter a number and enter -ve to stop:8\n",
            "Enter a number and enter -ve to stop:9\n",
            "Enter a number and enter -ve to stop:10\n",
            "Enter a number and enter -ve to stop:0\n",
            "(1, 2, 3, 4, [8, 9, 10]) <class 'tuple'>  139706530522512\n"
          ]
        }
      ]
    },
    {
      "cell_type": "code",
      "source": [
        "t= (1,2,3,[5,8,9,10])\n",
        "for i in t:\n",
        "  print(i,type(i),\"\",id(i))\n"
      ],
      "metadata": {
        "colab": {
          "base_uri": "https://localhost:8080/"
        },
        "id": "tdccXHQniWgH",
        "outputId": "daad8776-73c2-4a78-ed4e-86d014b1a467"
      },
      "execution_count": null,
      "outputs": [
        {
          "output_type": "stream",
          "name": "stdout",
          "text": [
            "1 <class 'int'>  11256064\n",
            "2 <class 'int'>  11256096\n",
            "3 <class 'int'>  11256128\n",
            "[5, 8, 9, 10] <class 'list'>  139706530632240\n"
          ]
        }
      ]
    },
    {
      "cell_type": "code",
      "source": [
        "# 9. Generator - Yield\n",
        "\n",
        "def increment(amt,yrs):\n",
        "  for i in range(1,yrs+1):\n",
        "    amt+= amt*0.10\n",
        "    print(\"At year\",i,\"amount:\",amt)\n",
        "    yield\n"
      ],
      "metadata": {
        "id": "CiCroNB08dYH"
      },
      "execution_count": null,
      "outputs": []
    },
    {
      "cell_type": "code",
      "source": [
        "years,amount = int(input(\"Enter years of saving:\")),float(input(\"Amount given:\"))\n",
        "ix = increment(amount,years)"
      ],
      "metadata": {
        "colab": {
          "base_uri": "https://localhost:8080/"
        },
        "id": "Nival-Jw9Pq3",
        "outputId": "96b02d6f-edc6-43c2-bc37-a1fed6b76d4d"
      },
      "execution_count": null,
      "outputs": [
        {
          "name": "stdout",
          "output_type": "stream",
          "text": [
            "Enter years of saving:23\n",
            "Amount given:5\n"
          ]
        }
      ]
    },
    {
      "cell_type": "code",
      "source": [
        "next(ix)"
      ],
      "metadata": {
        "colab": {
          "base_uri": "https://localhost:8080/"
        },
        "id": "dnx-OWQk9kyR",
        "outputId": "eb2e8702-ba17-4d58-e3c3-1830fc0f21f1"
      },
      "execution_count": null,
      "outputs": [
        {
          "output_type": "stream",
          "name": "stdout",
          "text": [
            "At year 2 amount: 6.05\n"
          ]
        }
      ]
    },
    {
      "cell_type": "code",
      "source": [
        "# 10. Iterator \n",
        "mycolor = ['black','blue','green']\n",
        "i=iter(mycolor)"
      ],
      "metadata": {
        "id": "u1Fd_tq58Oaw"
      },
      "execution_count": null,
      "outputs": []
    },
    {
      "cell_type": "code",
      "source": [
        "next(i)"
      ],
      "metadata": {
        "colab": {
          "base_uri": "https://localhost:8080/",
          "height": 42
        },
        "id": "epacTcb18Zm4",
        "outputId": "d6cc3d6a-fb1c-4c4e-d35b-500a3609c746"
      },
      "execution_count": null,
      "outputs": [
        {
          "output_type": "execute_result",
          "data": {
            "text/plain": [
              "'blue'"
            ],
            "application/vnd.google.colaboratory.intrinsic+json": {
              "type": "string"
            }
          },
          "metadata": {},
          "execution_count": 38
        }
      ]
    },
    {
      "cell_type": "markdown",
      "source": [
        "**Lecture 11 -> Interview Q's on Functions**\n",
        "---\n",
        "---"
      ],
      "metadata": {
        "id": "Xtb6ibHQKj2k"
      }
    },
    {
      "cell_type": "code",
      "source": [
        "# Q1) Max of 3 no's\n",
        "\n",
        "def max(n1,n2):\n",
        "    if n1<n2:\n",
        "        return n2\n",
        "    elif n2<n1:\n",
        "      return n1\n",
        "    else:\n",
        "        return n1"
      ],
      "metadata": {
        "id": "6NNjNeRDKs1E"
      },
      "execution_count": null,
      "outputs": []
    },
    {
      "cell_type": "code",
      "source": [
        "n1 = int(input(\"Enter no1:\"))\n",
        "n2 = int(input(\"Enter no2:\"))\n",
        "n3 = int(input(\"Enter no3:\"))\n",
        "c=max(n3,max(n1,n2))\n",
        "print(c)"
      ],
      "metadata": {
        "colab": {
          "base_uri": "https://localhost:8080/"
        },
        "id": "feP3CwhAKsyc",
        "outputId": "39a28421-c76c-42ce-d18e-90afe5c98310"
      },
      "execution_count": null,
      "outputs": [
        {
          "output_type": "stream",
          "name": "stdout",
          "text": [
            "Enter no1:84\n",
            "Enter no2:48\n",
            "Enter no3:22\n",
            "84\n"
          ]
        }
      ]
    },
    {
      "cell_type": "code",
      "source": [
        "#Q2) dl = [5,10,15,20]\n",
        "\n",
        "def multiply(li,multiplier):\n",
        "  for i in range(len(li)):\n",
        "    li[i]*=multiplier\n",
        "  return li\n"
      ],
      "metadata": {
        "id": "Lkzkz6LAKsuj"
      },
      "execution_count": null,
      "outputs": []
    },
    {
      "cell_type": "code",
      "source": [
        "dl = [10,20,30];\n",
        "print(multiply( dl,2 ))"
      ],
      "metadata": {
        "colab": {
          "base_uri": "https://localhost:8080/"
        },
        "id": "kWbi02fgKshz",
        "outputId": "4c1871d3-5003-405a-f538-3177bf78b3ec"
      },
      "execution_count": null,
      "outputs": [
        {
          "output_type": "stream",
          "name": "stdout",
          "text": [
            "[20, 40, 60]\n"
          ]
        }
      ]
    },
    {
      "cell_type": "code",
      "source": [
        "#Q3)  WAP to print no in range\n",
        "# dl = [5,10,15,20]\n",
        "\n",
        "# range calculation\n",
        "start = 10\n",
        "end = 90\n",
        "no = 88\n",
        "if no in range(start,end+1):\n",
        "  return 1\n",
        "else:\n",
        "  return 0\n"
      ],
      "metadata": {
        "colab": {
          "base_uri": "https://localhost:8080/",
          "height": 134
        },
        "id": "csNA35JRY4ho",
        "outputId": "4e45ac65-d9e2-4dde-a80e-fc77d102acac"
      },
      "execution_count": null,
      "outputs": [
        {
          "output_type": "error",
          "ename": "SyntaxError",
          "evalue": "ignored",
          "traceback": [
            "\u001b[0;36m  File \u001b[0;32m\"<ipython-input-30-73accb9a5c7d>\"\u001b[0;36m, line \u001b[0;32m9\u001b[0m\n\u001b[0;31m    return 1\u001b[0m\n\u001b[0m    ^\u001b[0m\n\u001b[0;31mSyntaxError\u001b[0m\u001b[0;31m:\u001b[0m 'return' outside function\n"
          ]
        }
      ]
    },
    {
      "cell_type": "code",
      "source": [
        "#Q4) WAP a python function that accept a string \n",
        "# and calculate the no of upper case and lower case letters\n",
        "def count(str):\n",
        "  upper=lower=0\n",
        "  for i in str:\n",
        "    if i.isupper():\n",
        "      upper+=1\n",
        "    if i.islower():\n",
        "      lower+=1\n",
        "  return(upper,lower)\n"
      ],
      "metadata": {
        "id": "j_ZgOwb3a13G"
      },
      "execution_count": null,
      "outputs": []
    },
    {
      "cell_type": "code",
      "source": [
        "count(\"Amar Panchal is my sir.\")"
      ],
      "metadata": {
        "colab": {
          "base_uri": "https://localhost:8080/"
        },
        "id": "YZVIbI0obqp9",
        "outputId": "f3439ef3-fb33-493a-d488-a4e957498cdb"
      },
      "execution_count": null,
      "outputs": [
        {
          "output_type": "execute_result",
          "data": {
            "text/plain": [
              "(2, 16)"
            ]
          },
          "metadata": {},
          "execution_count": 45
        }
      ]
    },
    {
      "cell_type": "code",
      "source": [
        "# Q5) take a list and return list with unique elements in sorted manner\n",
        "\n",
        "def ulist(data):\n",
        "  newlist = list()\n",
        "  for i in data:\n",
        "    if i not in newlist:\n",
        "      newlist.append(i)\n",
        "  return sorted(newlist)\n",
        "\n",
        "\n",
        "\n",
        "\n"
      ],
      "metadata": {
        "id": "RLKCbIStcnDy"
      },
      "execution_count": null,
      "outputs": []
    },
    {
      "cell_type": "code",
      "source": [
        "li = [10,10,20,20,90,60,60]\n",
        "ulist(li)\n"
      ],
      "metadata": {
        "colab": {
          "base_uri": "https://localhost:8080/"
        },
        "id": "xU5BiKPZd9kw",
        "outputId": "9afe78f2-799f-4215-c170-c708fecfc1bc"
      },
      "execution_count": null,
      "outputs": [
        {
          "output_type": "execute_result",
          "data": {
            "text/plain": [
              "([10, 20, 60, 90], list)"
            ]
          },
          "metadata": {},
          "execution_count": 62
        }
      ]
    },
    {
      "cell_type": "code",
      "source": [
        "def usort(data):\n",
        "  sortedlist = (sorted(set(data)))\n",
        "  return sortedlist\n"
      ],
      "metadata": {
        "id": "X8L4akuqgqbv"
      },
      "execution_count": null,
      "outputs": []
    },
    {
      "cell_type": "code",
      "source": [
        "\n",
        "usort([10,10,20,20,90,60,60])"
      ],
      "metadata": {
        "colab": {
          "base_uri": "https://localhost:8080/"
        },
        "id": "KKAiz-wcg5p0",
        "outputId": "895e6ede-b223-48e1-ec13-58779ef13acf"
      },
      "execution_count": null,
      "outputs": [
        {
          "output_type": "execute_result",
          "data": {
            "text/plain": [
              "[10, 20, 60, 90]"
            ]
          },
          "metadata": {},
          "execution_count": 75
        }
      ]
    },
    {
      "cell_type": "code",
      "source": [
        "# Q6) primeCheck\n",
        "\n",
        "def primeCheck(num):\n",
        "  flag = True\n",
        "  for i in range(2,num):\n",
        "    if num%i ==0:\n",
        "      flag=False\n",
        "      break\n",
        "  return(flag)"
      ],
      "metadata": {
        "id": "1ozBL9MOhV_Z"
      },
      "execution_count": null,
      "outputs": []
    },
    {
      "cell_type": "code",
      "source": [
        "numb = int(input(\"Enter a no:\"))\n",
        "print(numb,\"is prime:\",primeCheck(numb))"
      ],
      "metadata": {
        "colab": {
          "base_uri": "https://localhost:8080/",
          "height": 335
        },
        "id": "Ccl6rrvQhewI",
        "outputId": "d2f68349-5579-435c-b993-0c93a43b4381"
      },
      "execution_count": null,
      "outputs": [
        {
          "name": "stdout",
          "output_type": "stream",
          "text": [
            "Enter a no:22\n"
          ]
        },
        {
          "output_type": "error",
          "ename": "TypeError",
          "evalue": "ignored",
          "traceback": [
            "\u001b[0;31m---------------------------------------------------------------------------\u001b[0m",
            "\u001b[0;31mTypeError\u001b[0m                                 Traceback (most recent call last)",
            "\u001b[0;32m<ipython-input-95-a4ba385bb740>\u001b[0m in \u001b[0;36m<module>\u001b[0;34m\u001b[0m\n\u001b[1;32m      1\u001b[0m \u001b[0mnumb\u001b[0m \u001b[0;34m=\u001b[0m \u001b[0mint\u001b[0m\u001b[0;34m(\u001b[0m\u001b[0minput\u001b[0m\u001b[0;34m(\u001b[0m\u001b[0;34m\"Enter a no:\"\u001b[0m\u001b[0;34m)\u001b[0m\u001b[0;34m)\u001b[0m\u001b[0;34m\u001b[0m\u001b[0;34m\u001b[0m\u001b[0m\n\u001b[0;32m----> 2\u001b[0;31m \u001b[0mprint\u001b[0m\u001b[0;34m(\u001b[0m\u001b[0mnumb\u001b[0m\u001b[0;34m,\u001b[0m\u001b[0;34m\"is prime:\"\u001b[0m\u001b[0;34m,\u001b[0m\u001b[0mprimeCheck\u001b[0m\u001b[0;34m(\u001b[0m\u001b[0mnumb\u001b[0m\u001b[0;34m)\u001b[0m\u001b[0;34m)\u001b[0m\u001b[0;34m\u001b[0m\u001b[0;34m\u001b[0m\u001b[0m\n\u001b[0m",
            "\u001b[0;32m<ipython-input-94-bae4a1759713>\u001b[0m in \u001b[0;36mprimeCheck\u001b[0;34m(num)\u001b[0m\n\u001b[1;32m      3\u001b[0m \u001b[0;32mdef\u001b[0m \u001b[0mprimeCheck\u001b[0m\u001b[0;34m(\u001b[0m\u001b[0mnum\u001b[0m\u001b[0;34m)\u001b[0m\u001b[0;34m:\u001b[0m\u001b[0;34m\u001b[0m\u001b[0;34m\u001b[0m\u001b[0m\n\u001b[1;32m      4\u001b[0m   \u001b[0mflag\u001b[0m \u001b[0;34m=\u001b[0m \u001b[0;32mTrue\u001b[0m\u001b[0;34m\u001b[0m\u001b[0;34m\u001b[0m\u001b[0m\n\u001b[0;32m----> 5\u001b[0;31m   \u001b[0;32mfor\u001b[0m \u001b[0mi\u001b[0m \u001b[0;32min\u001b[0m \u001b[0mrange\u001b[0m\u001b[0;34m(\u001b[0m\u001b[0;36m2\u001b[0m\u001b[0;34m,\u001b[0m\u001b[0mnum\u001b[0m\u001b[0;34m)\u001b[0m\u001b[0;34m:\u001b[0m\u001b[0;34m\u001b[0m\u001b[0;34m\u001b[0m\u001b[0m\n\u001b[0m\u001b[1;32m      6\u001b[0m     \u001b[0;32mif\u001b[0m \u001b[0mnum\u001b[0m\u001b[0;34m%\u001b[0m\u001b[0mi\u001b[0m \u001b[0;34m==\u001b[0m\u001b[0;36m0\u001b[0m\u001b[0;34m:\u001b[0m\u001b[0;34m\u001b[0m\u001b[0;34m\u001b[0m\u001b[0m\n\u001b[1;32m      7\u001b[0m       \u001b[0mflag\u001b[0m\u001b[0;34m=\u001b[0m\u001b[0;32mFalse\u001b[0m\u001b[0;34m\u001b[0m\u001b[0;34m\u001b[0m\u001b[0m\n",
            "\u001b[0;31mTypeError\u001b[0m: range() takes 1 positional argument but 2 were given"
          ]
        }
      ]
    },
    {
      "cell_type": "code",
      "source": [
        "# Sample i/p -\n",
        "# green-yellow-black-white-yellow\n",
        "\n",
        "# o/p -\n",
        "# black-green-red-white-yellow\n",
        "\n",
        "def hysep(data):\n",
        "  wordlist = sorted(data.split(\"-\"))\n",
        "  s2=worlist[0]\n",
        "\n",
        "  for i in range(1,len(wordlist)):\n",
        "    s2 = s2+'-'+wordlist[i]\n",
        "    return(s2)\n",
        "\n"
      ],
      "metadata": {
        "id": "c8qToGh7i_GG"
      },
      "execution_count": null,
      "outputs": []
    },
    {
      "cell_type": "code",
      "source": [
        "data = \"green-yellow-black-white-yellow\"\n",
        "hysep(data)"
      ],
      "metadata": {
        "colab": {
          "base_uri": "https://localhost:8080/",
          "height": 317
        },
        "id": "euu4qH69lJNU",
        "outputId": "2fb662da-15cd-4fb1-cf1a-2c1dd703adf0"
      },
      "execution_count": null,
      "outputs": [
        {
          "output_type": "error",
          "ename": "NameError",
          "evalue": "ignored",
          "traceback": [
            "\u001b[0;31m---------------------------------------------------------------------------\u001b[0m",
            "\u001b[0;31mNameError\u001b[0m                                 Traceback (most recent call last)",
            "\u001b[0;32m<ipython-input-109-8f3819e0f029>\u001b[0m in \u001b[0;36m<module>\u001b[0;34m\u001b[0m\n\u001b[1;32m      1\u001b[0m \u001b[0mdata\u001b[0m \u001b[0;34m=\u001b[0m \u001b[0;34m\"green-yellow-black-white-yellow\"\u001b[0m\u001b[0;34m\u001b[0m\u001b[0;34m\u001b[0m\u001b[0m\n\u001b[0;32m----> 2\u001b[0;31m \u001b[0mhysep\u001b[0m\u001b[0;34m(\u001b[0m\u001b[0mdata\u001b[0m\u001b[0;34m)\u001b[0m\u001b[0;34m\u001b[0m\u001b[0;34m\u001b[0m\u001b[0m\n\u001b[0m",
            "\u001b[0;32m<ipython-input-108-b1b33806665d>\u001b[0m in \u001b[0;36mhysep\u001b[0;34m(data)\u001b[0m\n\u001b[1;32m      7\u001b[0m \u001b[0;32mdef\u001b[0m \u001b[0mhysep\u001b[0m\u001b[0;34m(\u001b[0m\u001b[0mdata\u001b[0m\u001b[0;34m)\u001b[0m\u001b[0;34m:\u001b[0m\u001b[0;34m\u001b[0m\u001b[0;34m\u001b[0m\u001b[0m\n\u001b[1;32m      8\u001b[0m   \u001b[0mwordlist\u001b[0m \u001b[0;34m=\u001b[0m \u001b[0msorted\u001b[0m\u001b[0;34m(\u001b[0m\u001b[0mdata\u001b[0m\u001b[0;34m.\u001b[0m\u001b[0msplit\u001b[0m\u001b[0;34m(\u001b[0m\u001b[0;34m\"-\"\u001b[0m\u001b[0;34m)\u001b[0m\u001b[0;34m)\u001b[0m\u001b[0;34m\u001b[0m\u001b[0;34m\u001b[0m\u001b[0m\n\u001b[0;32m----> 9\u001b[0;31m   \u001b[0ms2\u001b[0m\u001b[0;34m=\u001b[0m\u001b[0mworlist\u001b[0m\u001b[0;34m[\u001b[0m\u001b[0;36m0\u001b[0m\u001b[0;34m]\u001b[0m\u001b[0;34m\u001b[0m\u001b[0;34m\u001b[0m\u001b[0m\n\u001b[0m\u001b[1;32m     10\u001b[0m \u001b[0;34m\u001b[0m\u001b[0m\n\u001b[1;32m     11\u001b[0m   \u001b[0;32mfor\u001b[0m \u001b[0mi\u001b[0m \u001b[0;32min\u001b[0m \u001b[0mrange\u001b[0m\u001b[0;34m(\u001b[0m\u001b[0;36m1\u001b[0m\u001b[0;34m,\u001b[0m\u001b[0mlen\u001b[0m\u001b[0;34m(\u001b[0m\u001b[0mwordlist\u001b[0m\u001b[0;34m)\u001b[0m\u001b[0;34m)\u001b[0m\u001b[0;34m:\u001b[0m\u001b[0;34m\u001b[0m\u001b[0;34m\u001b[0m\u001b[0m\n",
            "\u001b[0;31mNameError\u001b[0m: name 'worlist' is not defined"
          ]
        }
      ]
    },
    {
      "cell_type": "code",
      "source": [
        "# write code to run code stored in a string\n",
        "\n",
        "code = \"print('Hello World')\""
      ],
      "metadata": {
        "id": "j-3xpyh0mX_t"
      },
      "execution_count": null,
      "outputs": []
    },
    {
      "cell_type": "code",
      "source": [
        "code"
      ],
      "metadata": {
        "colab": {
          "base_uri": "https://localhost:8080/",
          "height": 42
        },
        "id": "T5nQ2vhXmzMb",
        "outputId": "e1d4b7b8-628e-455e-a593-2e1411fd5a79"
      },
      "execution_count": null,
      "outputs": [
        {
          "output_type": "execute_result",
          "data": {
            "text/plain": [
              "\"print('Hello World')\""
            ],
            "application/vnd.google.colaboratory.intrinsic+json": {
              "type": "string"
            }
          },
          "metadata": {},
          "execution_count": 112
        }
      ]
    },
    {
      "cell_type": "code",
      "source": [
        "exec(code)"
      ],
      "metadata": {
        "colab": {
          "base_uri": "https://localhost:8080/"
        },
        "id": "3lBUNDsAm0nE",
        "outputId": "5070d76a-01c6-4843-d544-886acb2618d6"
      },
      "execution_count": null,
      "outputs": [
        {
          "output_type": "stream",
          "name": "stdout",
          "text": [
            "Hello World\n"
          ]
        }
      ]
    },
    {
      "cell_type": "code",
      "source": [
        "# What is lambda notation / also known as ananymous function ?\n",
        "\n",
        "# variable based chalta hai !\n",
        "\n",
        "# var 1 = lambda var 2:expression\n",
        "\n",
        "d = lambda x:x*2\n",
        "\n"
      ],
      "metadata": {
        "id": "sHHq3Kq8nMHR"
      },
      "execution_count": null,
      "outputs": []
    },
    {
      "cell_type": "code",
      "source": [
        "d(30)"
      ],
      "metadata": {
        "colab": {
          "base_uri": "https://localhost:8080/"
        },
        "id": "Y-eaFwNAn4HZ",
        "outputId": "30b0b74c-0b57-42c4-d9fc-df5a5ced00f2"
      },
      "execution_count": null,
      "outputs": [
        {
          "output_type": "execute_result",
          "data": {
            "text/plain": [
              "60"
            ]
          },
          "metadata": {},
          "execution_count": 115
        }
      ]
    },
    {
      "cell_type": "code",
      "source": [
        "d(\"amar\")"
      ],
      "metadata": {
        "colab": {
          "base_uri": "https://localhost:8080/",
          "height": 42
        },
        "id": "QUInD6N9n88_",
        "outputId": "b97a9a11-424f-4db2-b69e-b30dd6844531"
      },
      "execution_count": null,
      "outputs": [
        {
          "output_type": "execute_result",
          "data": {
            "text/plain": [
              "'amaramar'"
            ],
            "application/vnd.google.colaboratory.intrinsic+json": {
              "type": "string"
            }
          },
          "metadata": {},
          "execution_count": 116
        }
      ]
    },
    {
      "cell_type": "code",
      "source": [
        "A = lambda  n1,n2:n1+n2\n"
      ],
      "metadata": {
        "id": "N9EUB8jgoJDd"
      },
      "execution_count": null,
      "outputs": []
    },
    {
      "cell_type": "code",
      "source": [
        "A(10,20)"
      ],
      "metadata": {
        "colab": {
          "base_uri": "https://localhost:8080/"
        },
        "id": "89-tIDqMoO9l",
        "outputId": "a41e4081-7978-4aef-c69e-50c823a0ec6c"
      },
      "execution_count": null,
      "outputs": [
        {
          "output_type": "execute_result",
          "data": {
            "text/plain": [
              "30"
            ]
          },
          "metadata": {},
          "execution_count": 119
        }
      ]
    },
    {
      "cell_type": "code",
      "source": [
        "B = lambda  var : var,\"amar sir is here to help!\"\n"
      ],
      "metadata": {
        "id": "OaTKNTBUoWds"
      },
      "execution_count": null,
      "outputs": []
    },
    {
      "cell_type": "code",
      "source": [
        "B(raj)"
      ],
      "metadata": {
        "colab": {
          "base_uri": "https://localhost:8080/",
          "height": 171
        },
        "id": "TqXvk1MRonuk",
        "outputId": "fe55d384-9a28-4c20-e259-af566cab069f"
      },
      "execution_count": null,
      "outputs": [
        {
          "output_type": "error",
          "ename": "NameError",
          "evalue": "ignored",
          "traceback": [
            "\u001b[0;31m---------------------------------------------------------------------------\u001b[0m",
            "\u001b[0;31mNameError\u001b[0m                                 Traceback (most recent call last)",
            "\u001b[0;32m<ipython-input-128-bde75f84fe22>\u001b[0m in \u001b[0;36m<module>\u001b[0;34m\u001b[0m\n\u001b[0;32m----> 1\u001b[0;31m \u001b[0mB\u001b[0m\u001b[0;34m(\u001b[0m\u001b[0mraj\u001b[0m\u001b[0;34m)\u001b[0m\u001b[0;34m\u001b[0m\u001b[0;34m\u001b[0m\u001b[0m\n\u001b[0m",
            "\u001b[0;31mNameError\u001b[0m: name 'raj' is not defined"
          ]
        }
      ]
    }
  ]
}