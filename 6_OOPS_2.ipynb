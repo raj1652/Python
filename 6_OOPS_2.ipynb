{
  "nbformat": 4,
  "nbformat_minor": 0,
  "metadata": {
    "colab": {
      "provenance": [],
      "collapsed_sections": [
        "71smGWNWZuPw"
      ],
      "authorship_tag": "ABX9TyPMTmtDAQDXP20Hdza2Jk8+",
      "include_colab_link": true
    },
    "kernelspec": {
      "name": "python3",
      "display_name": "Python 3"
    },
    "language_info": {
      "name": "python"
    }
  },
  "cells": [
    {
      "cell_type": "markdown",
      "metadata": {
        "id": "view-in-github",
        "colab_type": "text"
      },
      "source": [
        "<a href=\"https://colab.research.google.com/github/raj1652/Python/blob/main/6_OOPS_2.ipynb\" target=\"_parent\"><img src=\"https://colab.research.google.com/assets/colab-badge.svg\" alt=\"Open In Colab\"/></a>"
      ]
    },
    {
      "cell_type": "markdown",
      "source": [
        "# **Lecture 13 -> OOPS-2**\n",
        "---\n",
        "# 1. Inheritance\n",
        "# 2. Types of Inheritance\n",
        "* A) Single Level \n",
        "* B) Multi-Level\n",
        "* C) Hierarchical \n",
        "* D) Multiple \n",
        "\n",
        "# 3. OverRide\n",
        "# 4. super() Method\n"
      ],
      "metadata": {
        "id": "b4LkhNubMg9y"
      }
    },
    {
      "cell_type": "code",
      "source": [
        "# A) Single Level Inheritance\n",
        "class Parent:\n",
        "    def  A(self):\n",
        "        print(\"hi i m method a from A\")\n",
        "\n",
        "class Child(Parent):\n",
        "    def B(self):\n",
        "        print(\"Method B from Class B\")"
      ],
      "metadata": {
        "id": "JTENB9CoaI3g"
      },
      "execution_count": null,
      "outputs": []
    },
    {
      "cell_type": "code",
      "source": [
        "o1 = Child()"
      ],
      "metadata": {
        "id": "6BiwVBYFbwUF"
      },
      "execution_count": null,
      "outputs": []
    },
    {
      "cell_type": "code",
      "source": [
        "o1.A()"
      ],
      "metadata": {
        "colab": {
          "base_uri": "https://localhost:8080/"
        },
        "id": "bVBt2tHob1iW",
        "outputId": "558735c3-3086-4016-f1fb-26447d5f6626"
      },
      "execution_count": null,
      "outputs": [
        {
          "output_type": "stream",
          "name": "stdout",
          "text": [
            "hi i m method a from A\n"
          ]
        }
      ]
    },
    {
      "cell_type": "code",
      "source": [
        "# visibility and inheritance\n",
        "class Aparent:\n",
        "    def  A1(self):    #public\n",
        "        print(\"hi i m method A1 from A\")\n",
        "    def  _A2(self):   #private\n",
        "        print(\"hi i m method A2 from A\")\n",
        "    def  __A3(self):  #strong private\n",
        "        print(\"hi i m method A3 from A\")\n",
        "\n",
        "class Bchild(Aparent):\n",
        "    def B1(self):\n",
        "        print(\"Method B1 from Class B\")\n",
        "\n"
      ],
      "metadata": {
        "id": "YTtJqau2Yflj"
      },
      "execution_count": null,
      "outputs": []
    },
    {
      "cell_type": "code",
      "source": [
        "obj1=Bchild()"
      ],
      "metadata": {
        "id": "H5T8Hl3dYqyY"
      },
      "execution_count": null,
      "outputs": []
    },
    {
      "cell_type": "code",
      "source": [
        "print(obj1.A1)\n",
        "print(obj1._A2())\n",
        "print(obj1.B1())"
      ],
      "metadata": {
        "colab": {
          "base_uri": "https://localhost:8080/"
        },
        "id": "MI9guGRoY-Lh",
        "outputId": "97fa40b6-8e9b-40d5-d357-77ec128cc95b"
      },
      "execution_count": null,
      "outputs": [
        {
          "output_type": "stream",
          "name": "stdout",
          "text": [
            "<bound method Aparent.A1 of <__main__.Bchild object at 0x7fd58b4d4290>>\n",
            "hi i m method A2 from A\n",
            "None\n",
            "Method B1 from Class B\n",
            "None\n"
          ]
        }
      ]
    },
    {
      "cell_type": "code",
      "source": [
        "obj1.__A3() #will not be able to access strong private "
      ],
      "metadata": {
        "colab": {
          "base_uri": "https://localhost:8080/",
          "height": 165
        },
        "id": "Owef1ROpZgGo",
        "outputId": "f7b13cbb-af85-4fbf-dd6b-e55f7e7ff629"
      },
      "execution_count": null,
      "outputs": [
        {
          "output_type": "error",
          "ename": "AttributeError",
          "evalue": "ignored",
          "traceback": [
            "\u001b[0;31m---------------------------------------------------------------------------\u001b[0m",
            "\u001b[0;31mAttributeError\u001b[0m                            Traceback (most recent call last)",
            "\u001b[0;32m<ipython-input-11-b969339f0364>\u001b[0m in \u001b[0;36m<module>\u001b[0;34m\u001b[0m\n\u001b[0;32m----> 1\u001b[0;31m \u001b[0mobj1\u001b[0m\u001b[0;34m.\u001b[0m\u001b[0m__A3\u001b[0m\u001b[0;34m(\u001b[0m\u001b[0;34m)\u001b[0m\u001b[0;34m\u001b[0m\u001b[0;34m\u001b[0m\u001b[0m\n\u001b[0m",
            "\u001b[0;31mAttributeError\u001b[0m: 'Bchild' object has no attribute '__A3'"
          ]
        }
      ]
    },
    {
      "cell_type": "code",
      "source": [
        "# B) Muli-Level Inheritance\n",
        "class Rajesh:\n",
        "    def  A(self):\n",
        "        print(\"hi i m method a from A\")\n",
        "class Jibran(Rajesh):\n",
        "    def B(self):\n",
        "        print(\"Method B from Class B\")\n",
        "class Raj(Jibran):\n",
        "    def C(self):\n",
        "        print(\"Method C from Class C\")"
      ],
      "metadata": {
        "id": "kgWFXxp0Zw8Y"
      },
      "execution_count": null,
      "outputs": []
    },
    {
      "cell_type": "code",
      "source": [
        "obj2=Raj()"
      ],
      "metadata": {
        "id": "mYaJMZ1fam5Y"
      },
      "execution_count": null,
      "outputs": []
    },
    {
      "cell_type": "code",
      "source": [
        "obj2.C()"
      ],
      "metadata": {
        "colab": {
          "base_uri": "https://localhost:8080/"
        },
        "id": "QRYCMuLBauJI",
        "outputId": "9af1c75a-741c-4074-b95d-5b1200c5ff1e"
      },
      "execution_count": null,
      "outputs": [
        {
          "output_type": "stream",
          "name": "stdout",
          "text": [
            "Method C from Class C\n"
          ]
        }
      ]
    },
    {
      "cell_type": "markdown",
      "source": [],
      "metadata": {
        "id": "O_oes9xwdy_f"
      }
    },
    {
      "cell_type": "code",
      "source": [
        "# C) Heirarchical Inheritance\n",
        "class Rajesh:\n",
        "  def A(self):\n",
        "    print(\"hi i m Director\")\n",
        "class Manas(Rajesh):\n",
        "  def B(self):\n",
        "    print(\"I m HOD and report to rajesh\")\n",
        "class Rishikesh(Rajesh):\n",
        "  def C(self):\n",
        "    print(\"I m Design-Head and report to rajesh\")\n",
        "class Jibran(Rajesh):\n",
        "  def D(self):\n",
        "      print(\"I m Control-Head and report to rajesh\")"
      ],
      "metadata": {
        "id": "EZgPQ7YQbnTo"
      },
      "execution_count": null,
      "outputs": []
    },
    {
      "cell_type": "code",
      "source": [
        "ob1 = Rajesh()"
      ],
      "metadata": {
        "id": "Av3nZcaacYAC"
      },
      "execution_count": null,
      "outputs": []
    },
    {
      "cell_type": "code",
      "source": [
        "ob1.A()"
      ],
      "metadata": {
        "colab": {
          "base_uri": "https://localhost:8080/"
        },
        "id": "DM53zgX3cczo",
        "outputId": "51143f82-3135-47be-e670-4949e15e6526"
      },
      "execution_count": null,
      "outputs": [
        {
          "output_type": "stream",
          "name": "stdout",
          "text": [
            "hi i m Director\n"
          ]
        }
      ]
    },
    {
      "cell_type": "code",
      "source": [
        "ob2 = Jibran()"
      ],
      "metadata": {
        "id": "Cn2UQzOydDUQ"
      },
      "execution_count": null,
      "outputs": []
    },
    {
      "cell_type": "code",
      "source": [
        "ob2.A()\n",
        "ob2.D()"
      ],
      "metadata": {
        "colab": {
          "base_uri": "https://localhost:8080/"
        },
        "id": "hNKDUcePdUVw",
        "outputId": "eb6a1556-2093-4eda-f2dc-8dc3c1a44c08"
      },
      "execution_count": null,
      "outputs": [
        {
          "output_type": "stream",
          "name": "stdout",
          "text": [
            "hi i m Director\n",
            "I m Control-Head and report to rajesh\n"
          ]
        }
      ]
    },
    {
      "cell_type": "code",
      "source": [
        "ob2.C()"
      ],
      "metadata": {
        "colab": {
          "base_uri": "https://localhost:8080/",
          "height": 165
        },
        "id": "IMOZg1D7ds-I",
        "outputId": "dff7ee1c-93c0-40bd-cbc1-86612d5d4ec8"
      },
      "execution_count": null,
      "outputs": [
        {
          "output_type": "error",
          "ename": "AttributeError",
          "evalue": "ignored",
          "traceback": [
            "\u001b[0;31m---------------------------------------------------------------------------\u001b[0m",
            "\u001b[0;31mAttributeError\u001b[0m                            Traceback (most recent call last)",
            "\u001b[0;32m<ipython-input-48-028b2b5a7f2b>\u001b[0m in \u001b[0;36m<module>\u001b[0;34m\u001b[0m\n\u001b[0;32m----> 1\u001b[0;31m \u001b[0mob2\u001b[0m\u001b[0;34m.\u001b[0m\u001b[0mC\u001b[0m\u001b[0;34m(\u001b[0m\u001b[0;34m)\u001b[0m\u001b[0;34m\u001b[0m\u001b[0;34m\u001b[0m\u001b[0m\n\u001b[0m",
            "\u001b[0;31mAttributeError\u001b[0m: 'Jibran' object has no attribute 'C'"
          ]
        }
      ]
    },
    {
      "cell_type": "code",
      "source": [
        "# D) Multiple Inheritance\n",
        "class A:\n",
        "    def  A(self):\n",
        "        print(\"hi i m method a from A\")\n",
        "    def me(self):\n",
        "        print(\"This is me from A\")\n",
        "class B:\n",
        "    def B(self):\n",
        "        print(\"Method B from Class B\")\n",
        "    def me(self):\n",
        "        print(\"This is me from B\")\n",
        "class C:\n",
        "    def C(self):\n",
        "        print(\"Method C from Class C\")\n",
        "    def me(self):\n",
        "        print(\"This is me from C\")"
      ],
      "metadata": {
        "id": "sgQjH7_-e2kA"
      },
      "execution_count": null,
      "outputs": []
    },
    {
      "cell_type": "code",
      "source": [
        "class D(B,A,C): # FCFT - first come first take   - here B is first\n",
        "    def D(self):\n",
        "        print(\"hi i m D from Class D\")"
      ],
      "metadata": {
        "id": "UXsxN-o2fQZY"
      },
      "execution_count": null,
      "outputs": []
    },
    {
      "cell_type": "code",
      "source": [
        "obj=D()\n",
        "obj.me()\n",
        "obj.A()\n",
        "obj.B()\n",
        "obj.C()"
      ],
      "metadata": {
        "colab": {
          "base_uri": "https://localhost:8080/"
        },
        "id": "k977YxbifTaI",
        "outputId": "1490e400-62dc-475f-cdaa-dc4e67edbc65"
      },
      "execution_count": null,
      "outputs": [
        {
          "output_type": "stream",
          "name": "stdout",
          "text": [
            "This is me from B\n",
            "hi i m method a from A\n",
            "Method B from Class B\n",
            "Method C from Class C\n"
          ]
        }
      ]
    },
    {
      "cell_type": "code",
      "source": [
        "\n",
        "obj.me()  "
      ],
      "metadata": {
        "colab": {
          "base_uri": "https://localhost:8080/"
        },
        "id": "s0tgXwMHfhEo",
        "outputId": "26342b3b-2178-435e-dcf1-7eacfd7c1485"
      },
      "execution_count": null,
      "outputs": [
        {
          "output_type": "stream",
          "name": "stdout",
          "text": [
            "This is me from B\n"
          ]
        }
      ]
    },
    {
      "cell_type": "code",
      "source": [
        "class D(C,B,A):  # FCFT - first come first take   - here C is first\n",
        "    def D(self):\n",
        "        print(\"hi i m D from Class D\")"
      ],
      "metadata": {
        "id": "CgeROZ2efm2g"
      },
      "execution_count": null,
      "outputs": []
    },
    {
      "cell_type": "code",
      "source": [
        "obj12 = D()\n",
        "obj12.me()"
      ],
      "metadata": {
        "colab": {
          "base_uri": "https://localhost:8080/"
        },
        "id": "slcL2Y01fnc3",
        "outputId": "a868c379-1c90-442d-a246-a4f191f9fc43"
      },
      "execution_count": null,
      "outputs": [
        {
          "output_type": "stream",
          "name": "stdout",
          "text": [
            "This is me from C\n"
          ]
        }
      ]
    },
    {
      "cell_type": "markdown",
      "source": [
        "# 3. OverRide\n",
        "---\n"
      ],
      "metadata": {
        "id": "71smGWNWZuPw"
      }
    },
    {
      "cell_type": "code",
      "source": [
        "#override\n",
        "class Parent:\n",
        "    def pray(self):\n",
        "        print(\"aarti,stotra,diya etc\")\n",
        "class Child(Parent):\n",
        "    def pray(self):\n",
        "        print(\"Thank you god.\")"
      ],
      "metadata": {
        "id": "3Pz06OMmUINq"
      },
      "execution_count": null,
      "outputs": []
    },
    {
      "cell_type": "code",
      "source": [
        "obj=Child()"
      ],
      "metadata": {
        "id": "8xCJ3lGzUan4"
      },
      "execution_count": null,
      "outputs": []
    },
    {
      "cell_type": "code",
      "source": [
        "obj.pray()"
      ],
      "metadata": {
        "colab": {
          "base_uri": "https://localhost:8080/"
        },
        "id": "a6w3t6PIUbah",
        "outputId": "aaa5cc80-6c07-4971-c776-bb8f87d94e91"
      },
      "execution_count": null,
      "outputs": [
        {
          "output_type": "stream",
          "name": "stdout",
          "text": [
            "Thank you god.\n"
          ]
        }
      ]
    },
    {
      "cell_type": "markdown",
      "source": [
        "# 4. super() Method\n",
        "----\n"
      ],
      "metadata": {
        "id": "_cc1JNRkZzCZ"
      }
    },
    {
      "cell_type": "code",
      "source": [
        "class A:\n",
        "  def __init__(self,data):\n",
        "    print(\"init from A called:\",data)\n",
        "\n",
        "class B(A):\n",
        "    def __init__(self,data1,data2,data3):\n",
        "      super().__init__(data1)\n",
        "      print(\"init from A called:\",data2,data3)\n",
        "  "
      ],
      "metadata": {
        "id": "rctxqUc7Z2RY"
      },
      "execution_count": null,
      "outputs": []
    },
    {
      "cell_type": "code",
      "source": [
        "obj1 = B(\"Amar\",\"Raj\",\"Shyam\")"
      ],
      "metadata": {
        "colab": {
          "base_uri": "https://localhost:8080/"
        },
        "id": "G6yOziBzaThQ",
        "outputId": "4e41da94-9c26-4543-80c1-cfff7554dac5"
      },
      "execution_count": null,
      "outputs": [
        {
          "output_type": "stream",
          "name": "stdout",
          "text": [
            "init from A called: Amar\n",
            "init from A called: Raj Shyam\n"
          ]
        }
      ]
    },
    {
      "cell_type": "code",
      "source": [
        "obj1 = B(100,250,600)"
      ],
      "metadata": {
        "colab": {
          "base_uri": "https://localhost:8080/"
        },
        "id": "hJ0czq3JacSw",
        "outputId": "8743a151-989b-4e8d-e7c9-cc0a5b37b929"
      },
      "execution_count": null,
      "outputs": [
        {
          "output_type": "stream",
          "name": "stdout",
          "text": [
            "init from A called: 100\n",
            "init from A called: 250 600\n"
          ]
        }
      ]
    },
    {
      "cell_type": "markdown",
      "source": [
        "# 5. Null class / Empty Class\n",
        "----\n"
      ],
      "metadata": {
        "id": "Qk18Cd-OfxlI"
      }
    },
    {
      "cell_type": "code",
      "source": [
        "class Human:\n",
        "  pass"
      ],
      "metadata": {
        "id": "Ne4fu20XfvHI"
      },
      "execution_count": null,
      "outputs": []
    },
    {
      "cell_type": "code",
      "source": [
        "h1 = Human()"
      ],
      "metadata": {
        "id": "AwUayczef6i4"
      },
      "execution_count": null,
      "outputs": []
    },
    {
      "cell_type": "code",
      "source": [
        "setattr(h1,'gender','male')"
      ],
      "metadata": {
        "id": "gXQREf9Qf8-B"
      },
      "execution_count": null,
      "outputs": []
    },
    {
      "cell_type": "code",
      "source": [
        "h1.gender"
      ],
      "metadata": {
        "colab": {
          "base_uri": "https://localhost:8080/",
          "height": 42
        },
        "id": "FLr2W7gNgDBg",
        "outputId": "77968b60-5716-4ebe-a165-3d29b650834e"
      },
      "execution_count": null,
      "outputs": [
        {
          "output_type": "execute_result",
          "data": {
            "text/plain": [
              "'male'"
            ],
            "application/vnd.google.colaboratory.intrinsic+json": {
              "type": "string"
            }
          },
          "metadata": {},
          "execution_count": 21
        }
      ]
    },
    {
      "cell_type": "code",
      "source": [
        "setattr(h1,'name','Ralph')"
      ],
      "metadata": {
        "id": "aear7m8TgJaw"
      },
      "execution_count": null,
      "outputs": []
    },
    {
      "cell_type": "code",
      "source": [
        "h1.name"
      ],
      "metadata": {
        "colab": {
          "base_uri": "https://localhost:8080/",
          "height": 42
        },
        "id": "zM19ijbpgNIx",
        "outputId": "3160b8cf-028f-44ce-8e5a-888a97c77090"
      },
      "execution_count": null,
      "outputs": [
        {
          "output_type": "execute_result",
          "data": {
            "text/plain": [
              "'Ralph'"
            ],
            "application/vnd.google.colaboratory.intrinsic+json": {
              "type": "string"
            }
          },
          "metadata": {},
          "execution_count": 23
        }
      ]
    },
    {
      "cell_type": "code",
      "source": [
        "getattr(h1,'gender')\n"
      ],
      "metadata": {
        "colab": {
          "base_uri": "https://localhost:8080/",
          "height": 42
        },
        "id": "w0nLPKxNgP1R",
        "outputId": "7697ea52-3058-4508-b012-9c273037f027"
      },
      "execution_count": null,
      "outputs": [
        {
          "output_type": "execute_result",
          "data": {
            "text/plain": [
              "'male'"
            ],
            "application/vnd.google.colaboratory.intrinsic+json": {
              "type": "string"
            }
          },
          "metadata": {},
          "execution_count": 28
        }
      ]
    },
    {
      "cell_type": "code",
      "source": [
        "getattr(h1,'name')"
      ],
      "metadata": {
        "colab": {
          "base_uri": "https://localhost:8080/",
          "height": 42
        },
        "id": "Cb8EuDpOggpI",
        "outputId": "81277e8e-3e8c-4755-bbd3-a171ec6492f1"
      },
      "execution_count": null,
      "outputs": [
        {
          "output_type": "execute_result",
          "data": {
            "text/plain": [
              "'Ralph'"
            ],
            "application/vnd.google.colaboratory.intrinsic+json": {
              "type": "string"
            }
          },
          "metadata": {},
          "execution_count": 34
        }
      ]
    },
    {
      "cell_type": "code",
      "source": [
        "# Design-1\n",
        "\n",
        "class Human:\n",
        "  def setHuman(self,name,gender):\n",
        "    self.name = name\n",
        "    self.gender = gender\n",
        "\n",
        "class Education(Human):\n",
        "  def setEducation(self,degree):\n",
        "    self.degree = degree\n",
        "\n",
        "class Job(Education):\n",
        "  def setJob(self,title,salary):\n",
        "    self.title = title\n",
        "    self.salary = salary\n",
        "  \n",
        "  def display(self):\n",
        "    print(self.name,self.gender,self.degree,self.title,self.salary)"
      ],
      "metadata": {
        "id": "2OhmLKoYhMCr"
      },
      "execution_count": null,
      "outputs": []
    },
    {
      "cell_type": "code",
      "source": [
        "h1 = Job()"
      ],
      "metadata": {
        "id": "4MmWQecqlz3Z"
      },
      "execution_count": null,
      "outputs": []
    },
    {
      "cell_type": "code",
      "source": [
        "h1.setHuman('ralph','male')\n",
        "h1.setEducation('MTRX')\n",
        "h1.setJob('Intern',3000)\n",
        "h1.display()"
      ],
      "metadata": {
        "colab": {
          "base_uri": "https://localhost:8080/"
        },
        "id": "iFVFNZWEl5Ko",
        "outputId": "2637c9ed-c11d-4df8-8dd7-b6cc94ffb6e9"
      },
      "execution_count": null,
      "outputs": [
        {
          "output_type": "stream",
          "name": "stdout",
          "text": [
            "ralph male MTRX Intern 3000\n"
          ]
        }
      ]
    },
    {
      "cell_type": "code",
      "source": [
        "# Design-2\n",
        "\n",
        "class Human:\n",
        "  def setHuman(self,name,gender):\n",
        "    self.name = name\n",
        "    self.gender = gender\n",
        "\n",
        "class Education(Human):\n",
        "  def setEducation(self,degree):\n",
        "    self.degree = degree\n",
        "\n",
        "class Job(Education):\n",
        "  def setJob(self,name,gender,degree,title,salary):\n",
        "    self.setHuman(name,gender) #calling respective functions\n",
        "    self.setEducation(degree)\n",
        "    self.title = title\n",
        "    self.salary = salary\n",
        "  \n",
        "  def display(self):\n",
        "    print(self.name,self.gender,self.degree,self.title,self.salary)\n"
      ],
      "metadata": {
        "id": "cqgqqMnhkFeZ"
      },
      "execution_count": null,
      "outputs": []
    },
    {
      "cell_type": "code",
      "source": [
        "obj1 = Job()"
      ],
      "metadata": {
        "id": "CZ5BkPYtnVX5"
      },
      "execution_count": null,
      "outputs": []
    },
    {
      "cell_type": "code",
      "source": [
        "obj1.setJob('amar','male','Phd','Teacher',120)"
      ],
      "metadata": {
        "id": "5eLICedmnYSx"
      },
      "execution_count": null,
      "outputs": []
    },
    {
      "cell_type": "code",
      "source": [
        "obj1.display()"
      ],
      "metadata": {
        "colab": {
          "base_uri": "https://localhost:8080/"
        },
        "id": "huwLbA9hnqOx",
        "outputId": "3f278a1e-630f-4a89-d9fb-6428fc84bf8e"
      },
      "execution_count": null,
      "outputs": [
        {
          "output_type": "stream",
          "name": "stdout",
          "text": [
            "amar male Phd Teacher 120\n"
          ]
        }
      ]
    },
    {
      "cell_type": "code",
      "source": [
        "# Design-3\n",
        "\n",
        "class Human:\n",
        "  def setHuman(self,name,gender):\n",
        "    self.name = name\n",
        "    self.gender = gender\n",
        "\n",
        "class Education(Human):\n",
        "  def setEducation(self,name,gender,degree):\n",
        "    self.degree = degree\n",
        "    self.setHuman(name,gender)\n",
        "\n",
        "class Job(Education):\n",
        "  def setJob(self,name,gender,degree,title,salary):\n",
        "     #calling respective functions\n",
        "    self.setEducation(name,gender,degree)\n",
        "    self.title = title\n",
        "    self.salary = salary\n",
        "  \n",
        "  def display(self):\n",
        "    print(self.name,self.gender,self.degree,self.title,self.salary)\n"
      ],
      "metadata": {
        "id": "K59rE1aOoQrZ"
      },
      "execution_count": null,
      "outputs": []
    },
    {
      "cell_type": "code",
      "source": [
        "obj2 = Job()"
      ],
      "metadata": {
        "id": "fRvyYN5vu3rv"
      },
      "execution_count": null,
      "outputs": []
    },
    {
      "cell_type": "code",
      "source": [
        "obj2.setJob('Shreya','female','Phd','Teacher',100)"
      ],
      "metadata": {
        "id": "SLdzfB-ou6Ba"
      },
      "execution_count": null,
      "outputs": []
    },
    {
      "cell_type": "code",
      "source": [
        "obj2.display()"
      ],
      "metadata": {
        "colab": {
          "base_uri": "https://localhost:8080/"
        },
        "id": "8n4BP5e2u_Xa",
        "outputId": "af29b22b-820e-4709-ea3e-2b15c549f59a"
      },
      "execution_count": null,
      "outputs": [
        {
          "output_type": "stream",
          "name": "stdout",
          "text": [
            "Shreya female Phd Teacher 100\n"
          ]
        }
      ]
    },
    {
      "cell_type": "code",
      "source": [
        "# Design-4\n",
        "\n",
        "class Human:\n",
        "  def __init__(self,name,gender):\n",
        "    self.name = name\n",
        "    self.gender = gender\n",
        "\n",
        "class Education(Human):\n",
        "  def __init__(self,name,gender,degree):\n",
        "    super().__init__(name,gender)\n",
        "    self.degree = degree\n",
        "\n",
        "class Job(Education):\n",
        "  def __init__(self,name,gender,degree,title,salary):\n",
        "    #calling respective functions\n",
        "    super().__init__(name,gender,degree)\n",
        "    self.title = title\n",
        "    self.salary = salary\n",
        "\n",
        "  def display(self):\n",
        "    print(self.name,self.gender,self.degree,self.title,self.salary)\n",
        "\n",
        "    \n",
        "\n"
      ],
      "metadata": {
        "id": "bTlPFN2gvRpq"
      },
      "execution_count": null,
      "outputs": []
    },
    {
      "cell_type": "code",
      "source": [
        "a1 = Job(\"raj\",'male','MTRX','intern',220)"
      ],
      "metadata": {
        "id": "5Q1D14t9wuFK"
      },
      "execution_count": null,
      "outputs": []
    },
    {
      "cell_type": "code",
      "source": [
        "a1.display()"
      ],
      "metadata": {
        "colab": {
          "base_uri": "https://localhost:8080/"
        },
        "id": "zhbmVbSGyTSD",
        "outputId": "c5ea86cb-ffc4-4f5d-e082-8bec7c1d5f6f"
      },
      "execution_count": null,
      "outputs": [
        {
          "output_type": "stream",
          "name": "stdout",
          "text": [
            "raj male MTRX intern 220\n"
          ]
        }
      ]
    }
  ]
}